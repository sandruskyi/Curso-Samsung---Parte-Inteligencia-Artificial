{
  "nbformat": 4,
  "nbformat_minor": 0,
  "metadata": {
    "colab": {
      "name": "Dia2-Practice to fill_1 - Questions.ipynb",
      "provenance": [],
      "collapsed_sections": []
    },
    "kernelspec": {
      "name": "python3",
      "display_name": "Python 3"
    }
  },
  "cells": [
    {
      "cell_type": "markdown",
      "metadata": {
        "id": "ut2pAz6gW9u3",
        "colab_type": "text"
      },
      "source": [
        "\n",
        "Sigue las instrucciones y genera el código debajo de cada comentario\n",
        "\n"
      ]
    },
    {
      "cell_type": "code",
      "metadata": {
        "colab_type": "code",
        "id": "MdEeLo4GW81t",
        "colab": {}
      },
      "source": [
        "text1 = \"In Madrid, pollution levels pose serious health hazards, which translate into 200 millions more of public health spenditure. \\\n",
        "Some Spanish companies are following global private comanies like Intuit, Dassault Systèmes, Motorola and Alphabet \\\n",
        "in the trend towards reducing the emissions of their production systems.\"\n",
        "\n",
        "text2 = \"\"\"\n",
        "Known as \"Londinium\", the Roman legions established a settlement on the current site of the City of London around AD 43. \\\n",
        "Its bridge over the River Thames turned the city into a road nexus and major port, serving as a major commercial centre in \\\n",
        "Roman Britain until its abandonment during the 5th century. \n",
        "\"\"\"\n",
        "\n",
        "t3 = 'maaaa' \n",
        "t4 = 'aubabababbb'\n",
        "t5 = 'abyababcbcbib'\n",
        "t6 = 'aba_babe4'\n",
        "t7 = 'basdb98709e7'\n",
        "t8 = 'peridise_'\n",
        "t9 = 'genialees'\n",
        "t10 = 'xxx333nnn'\n",
        "t11 = 'braba..n!'\n",
        "\n",
        "t12 = \"Estudios Xrecientes comprueban Xque uno puede irseX y Xvolver de cualquier lugar Xsin publicarlo\""
      ],
      "execution_count": 0,
      "outputs": []
    },
    {
      "cell_type": "code",
      "metadata": {
        "id": "sntRkS1QiTMM",
        "colab_type": "code",
        "colab": {}
      },
      "source": [
        ""
      ],
      "execution_count": 0,
      "outputs": []
    },
    {
      "cell_type": "code",
      "metadata": {
        "id": "U1_VbXTUEy7C",
        "colab_type": "code",
        "outputId": "89a7ac2d-dccd-43bf-916f-667b1fefa7bc",
        "colab": {
          "base_uri": "https://localhost:8080/",
          "height": 265
        }
      },
      "source": [
        "# 1.a Print all elements of t4 if they are equal to a con un sencillo for loop\n",
        "import re\n",
        "p = re.compile(r'a')\n",
        "\"\"\"for i in t4:\n",
        "  obj = p.match(i)\n",
        "  if(obj != None):\n",
        "    print(obj.group(0))\"\"\"\n",
        "\"\"\"\n",
        "for i in t4:\n",
        "  obj = p.search(i)\n",
        "  if(obj!=None):\n",
        "    print(obj.group(0))\"\"\"\n",
        "\n",
        "#Otra manera:\n",
        "obj = re.findall(p,t4)\n",
        "if(obj!=[]):\n",
        "  print(obj)\n",
        "#Otra manera\n",
        "obj = p.findall(t4)\n",
        "if(obj!=[]):\n",
        "  print(obj)\n",
        "\n",
        "obj = p.finditer(t4)\n",
        "for i in obj: \n",
        "  print(*i)\n",
        "  \n",
        "\n"
      ],
      "execution_count": 19,
      "outputs": [
        {
          "output_type": "stream",
          "text": [
            "['a', 'a', 'a', 'a']\n",
            "['a', 'a', 'a', 'a']\n"
          ],
          "name": "stdout"
        },
        {
          "output_type": "error",
          "ename": "TypeError",
          "evalue": "ignored",
          "traceback": [
            "\u001b[0;31m---------------------------------------------------------------------------\u001b[0m",
            "\u001b[0;31mTypeError\u001b[0m                                 Traceback (most recent call last)",
            "\u001b[0;32m<ipython-input-19-60c0d002cb43>\u001b[0m in \u001b[0;36m<module>\u001b[0;34m()\u001b[0m\n\u001b[1;32m     22\u001b[0m \u001b[0mobj\u001b[0m \u001b[0;34m=\u001b[0m \u001b[0mp\u001b[0m\u001b[0;34m.\u001b[0m\u001b[0mfinditer\u001b[0m\u001b[0;34m(\u001b[0m\u001b[0mt4\u001b[0m\u001b[0;34m)\u001b[0m\u001b[0;34m\u001b[0m\u001b[0;34m\u001b[0m\u001b[0m\n\u001b[1;32m     23\u001b[0m \u001b[0;32mfor\u001b[0m \u001b[0mi\u001b[0m \u001b[0;32min\u001b[0m \u001b[0mobj\u001b[0m\u001b[0;34m:\u001b[0m\u001b[0;34m\u001b[0m\u001b[0;34m\u001b[0m\u001b[0m\n\u001b[0;32m---> 24\u001b[0;31m   \u001b[0mprint\u001b[0m\u001b[0;34m(\u001b[0m\u001b[0;34m*\u001b[0m\u001b[0mi\u001b[0m\u001b[0;34m)\u001b[0m\u001b[0;34m\u001b[0m\u001b[0;34m\u001b[0m\u001b[0m\n\u001b[0m\u001b[1;32m     25\u001b[0m \u001b[0;34m\u001b[0m\u001b[0m\n\u001b[1;32m     26\u001b[0m \u001b[0;34m\u001b[0m\u001b[0m\n",
            "\u001b[0;31mTypeError\u001b[0m: print() argument after * must be an iterable, not _sre.SRE_Match"
          ]
        }
      ]
    },
    {
      "cell_type": "code",
      "metadata": {
        "id": "eQ2xDifi8qfc",
        "colab_type": "code",
        "outputId": "2a2f37f1-219c-4a44-961c-93b900570212",
        "colab": {
          "base_uri": "https://localhost:8080/",
          "height": 34
        }
      },
      "source": [
        "# 1.b Hazlo con comprehension list: )"
      ],
      "execution_count": 0,
      "outputs": [
        {
          "output_type": "stream",
          "text": [
            "['a', 'a', 'a', 'a']\n"
          ],
          "name": "stdout"
        }
      ]
    },
    {
      "cell_type": "code",
      "metadata": {
        "id": "OxekZLUH8qWT",
        "colab_type": "code",
        "outputId": "ed9dc3b2-b60b-4625-c2f1-1375b2acb5de",
        "colab": {
          "base_uri": "https://localhost:8080/",
          "height": 34
        }
      },
      "source": [
        "# 2. Print all elements that are equal to a or b in t5: "
      ],
      "execution_count": 0,
      "outputs": [
        {
          "output_type": "stream",
          "text": [
            "['a', 'b', 'y', 'a', 'b', 'a', 'b', 'c', 'b', 'c', 'b', 'i', 'b']\n"
          ],
          "name": "stdout"
        }
      ]
    },
    {
      "cell_type": "code",
      "metadata": {
        "id": "4M-3CqwS65FW",
        "colab_type": "code",
        "outputId": "fb9e63af-3f94-40b5-bb4a-f58226104c7f",
        "colab": {
          "base_uri": "https://localhost:8080/",
          "height": 34
        }
      },
      "source": [
        "# 3. Imprime todos las ocurrencias de'ab' en t4 \n"
      ],
      "execution_count": 0,
      "outputs": [
        {
          "output_type": "stream",
          "text": [
            "['ab', 'ab', 'ab']\n"
          ],
          "name": "stdout"
        }
      ]
    },
    {
      "cell_type": "code",
      "metadata": {
        "id": "ziwGmHJXxSV0",
        "colab_type": "code",
        "colab": {}
      },
      "source": [
        "# 4. Imprime los caracteres qeu sean números en t6 "
      ],
      "execution_count": 0,
      "outputs": []
    },
    {
      "cell_type": "code",
      "metadata": {
        "id": "J5QhMm8SzKW5",
        "colab_type": "code",
        "colab": {}
      },
      "source": [
        "# 5. Imprime todas las ocurrencias de ab, recorriendo los textos t3 a t11\n",
        "# (tienes q almacenar los textos juntos de alguna manera en alma_1): "
      ],
      "execution_count": 0,
      "outputs": []
    },
    {
      "cell_type": "code",
      "metadata": {
        "id": "NFsB90w_z5p5",
        "colab_type": "code",
        "colab": {}
      },
      "source": [
        "# 6. Concatena los textos t6 y t7 en otra string conca_1"
      ],
      "execution_count": 0,
      "outputs": []
    },
    {
      "cell_type": "code",
      "metadata": {
        "id": "eTxZnEYH8XRE",
        "colab_type": "code",
        "colab": {}
      },
      "source": [
        "# 7. Imprime todas las ocurrencias de 'aba' en un texto que concatene los textos \\\n",
        "#    en alma_1 (ej 5) "
      ],
      "execution_count": 0,
      "outputs": []
    },
    {
      "cell_type": "code",
      "metadata": {
        "id": "UEbXhb8s97wa",
        "colab_type": "code",
        "colab": {}
      },
      "source": [
        "# 8. Imprime todas los dos primeros caracteres de los textos en alma_1\n"
      ],
      "execution_count": 0,
      "outputs": []
    },
    {
      "cell_type": "code",
      "metadata": {
        "id": "c0ju2_uE-Q4G",
        "colab_type": "code",
        "colab": {}
      },
      "source": [
        "# 9. Almacena en una variable resul_1 el penúltimo caracter de cada string, \n",
        "#    si el primer caracter no es una 'm'. Imprime el resultado.\n"
      ],
      "execution_count": 0,
      "outputs": []
    },
    {
      "cell_type": "code",
      "metadata": {
        "id": "k3m6_4dixh1t",
        "colab_type": "code",
        "colab": {}
      },
      "source": [
        "# 10. Itera sobre t3 a t11 y devuelve el primer caracter de la primera string, \\\n",
        "#     el segundo de la segunda, el tercero de la tercera... etc. \n",
        "#     Guarda cada caracter en resul_2 de forma que quede una string con cada uno de los caracteres por orden"
      ],
      "execution_count": 0,
      "outputs": []
    },
    {
      "cell_type": "code",
      "metadata": {
        "id": "7vaCrXNYBuK6",
        "colab_type": "code",
        "colab": {}
      },
      "source": [
        "# 11. Si has hecho lo anterior bien o muy bien (si no lo sabes seguro al ver los resultados, \n",
        "      # pregúntame para que revise tus ejercicios), aprovecha la iteración anterior, \n",
        "      # puedes copiarla aquí, y guarda en una variable ind_resul los índices \n",
        "      # de cada uno de los caractes que extraímos en su string original. "
      ],
      "execution_count": 0,
      "outputs": []
    },
    {
      "cell_type": "code",
      "metadata": {
        "id": "8cimzBGQDBXk",
        "colab_type": "code",
        "colab": {}
      },
      "source": [
        "# 12.a Añade una admiración a result1 al final:\n",
        "\n",
        "# 12.b Crea un algoritmo que compare los índices de resul_1 y resul_2. "
      ],
      "execution_count": 0,
      "outputs": []
    },
    {
      "cell_type": "code",
      "metadata": {
        "colab_type": "code",
        "id": "7Bdo9oitde0q",
        "colab": {}
      },
      "source": [
        "# 13. Si 12 devuelve True, crea una lista con todos las strings que tengan números. \n",
        "# sin usar regex: \n"
      ],
      "execution_count": 0,
      "outputs": []
    },
    {
      "cell_type": "code",
      "metadata": {
        "id": "47jML26LzVch",
        "colab_type": "code",
        "colab": {}
      },
      "source": [
        "# 14. Has lo mismo con un patron regex\n",
        "\n"
      ],
      "execution_count": 0,
      "outputs": []
    },
    {
      "cell_type": "code",
      "metadata": {
        "id": "USRAUY7CzXFM",
        "colab_type": "code",
        "colab": {}
      },
      "source": [
        "# 15. Almacena en otra lista todas las strings de esta lista que tengan 3 letras seguidas iguales \n",
        "      # Y remueve los tres primeros y 3 últimos de cada una de ellas ... "
      ],
      "execution_count": 0,
      "outputs": []
    },
    {
      "cell_type": "code",
      "metadata": {
        "id": "0FonxAz8pKyz",
        "colab_type": "code",
        "colab": {}
      },
      "source": [
        ""
      ],
      "execution_count": 0,
      "outputs": []
    }
  ]
}