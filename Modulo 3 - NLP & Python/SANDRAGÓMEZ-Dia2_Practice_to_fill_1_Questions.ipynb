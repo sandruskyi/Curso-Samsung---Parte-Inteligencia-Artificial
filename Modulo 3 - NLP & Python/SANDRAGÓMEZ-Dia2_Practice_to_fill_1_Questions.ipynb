{
  "nbformat": 4,
  "nbformat_minor": 0,
  "metadata": {
    "colab": {
      "name": "SANDRAGÓMEZ-Dia2_Practice_to_fill_1_Questions.ipynb",
      "provenance": [],
      "collapsed_sections": []
    },
    "kernelspec": {
      "name": "python3",
      "display_name": "Python 3"
    }
  },
  "cells": [
    {
      "cell_type": "markdown",
      "metadata": {
        "id": "ut2pAz6gW9u3",
        "colab_type": "text"
      },
      "source": [
        "\n",
        "Sigue las instrucciones y genera el código debajo de cada comentario\n",
        "\n"
      ]
    },
    {
      "cell_type": "code",
      "metadata": {
        "colab_type": "code",
        "id": "MdEeLo4GW81t",
        "colab": {}
      },
      "source": [
        "text1 = \"In Madrid, pollution levels pose serious health hazards, which translate into 200 millions more of public health spenditure. \\\n",
        "Some Spanish companies are following global private comanies like Intuit, Dassault Systèmes, Motorola and Alphabet \\\n",
        "in the trend towards reducing the emissions of their production systems.\"\n",
        "\n",
        "text2 = \"\"\"\n",
        "Known as \"Londinium\", the Roman legions established a settlement on the current site of the City of London around AD 43. \\\n",
        "Its bridge over the River Thames turned the city into a road nexus and major port, serving as a major commercial centre in \\\n",
        "Roman Britain until its abandonment during the 5th century. \n",
        "\"\"\"\n",
        "\n",
        "t3 = 'maaaa' \n",
        "t4 = 'aubabababbb'\n",
        "t5 = 'abyababcbcbib'\n",
        "t6 = 'aba_babe4'\n",
        "t7 = 'basdb98709e7'\n",
        "t8 = 'peridise_'\n",
        "t9 = 'genialees'\n",
        "t10 = 'xxx333nnn'\n",
        "t11 = 'braba..n!'\n",
        "\n",
        "t12 = \"Estudios Xrecientes comprueban Xque uno puede irseX y Xvolver de cualquier lugar Xsin publicarlo\""
      ],
      "execution_count": 0,
      "outputs": []
    },
    {
      "cell_type": "code",
      "metadata": {
        "id": "sntRkS1QiTMM",
        "colab_type": "code",
        "colab": {}
      },
      "source": [
        ""
      ],
      "execution_count": 0,
      "outputs": []
    },
    {
      "cell_type": "code",
      "metadata": {
        "id": "U1_VbXTUEy7C",
        "colab_type": "code",
        "outputId": "ca84c6cc-4157-43b0-dcbf-c3d4d98533f1",
        "colab": {
          "base_uri": "https://localhost:8080/",
          "height": 34
        }
      },
      "source": [
        "# 1.a Print all elements of t4 if they are equal to a con un sencillo for loop\n",
        "lista = []\n",
        "for i in t4: \n",
        "  if(i=='a'):\n",
        "    lista.append('a')\n",
        "print(lista)\n"
      ],
      "execution_count": 3,
      "outputs": [
        {
          "output_type": "stream",
          "text": [
            "['a', 'a', 'a', 'a']\n"
          ],
          "name": "stdout"
        }
      ]
    },
    {
      "cell_type": "code",
      "metadata": {
        "id": "eQ2xDifi8qfc",
        "colab_type": "code",
        "outputId": "5306eafc-e7b8-413d-d02a-25d25251601d",
        "colab": {
          "base_uri": "https://localhost:8080/",
          "height": 34
        }
      },
      "source": [
        "# 1.b Hazlo con comprehension list: \n",
        "lista = ['a' for i in t4 if i=='a']\n",
        "print(lista)"
      ],
      "execution_count": 4,
      "outputs": [
        {
          "output_type": "stream",
          "text": [
            "['a', 'a', 'a', 'a']\n"
          ],
          "name": "stdout"
        }
      ]
    },
    {
      "cell_type": "code",
      "metadata": {
        "id": "OxekZLUH8qWT",
        "colab_type": "code",
        "outputId": "33733c66-b254-4b44-be4f-1a3fd20bba08",
        "colab": {
          "base_uri": "https://localhost:8080/",
          "height": 68
        }
      },
      "source": [
        "# 2. Print all elements that are equal to a or b in t5: \n",
        "#t5 = ['a', 'b', 'y', 'a', 'b', 'a', 'b', 'c', 'b', 'c', 'b', 'i', 'b']\n",
        "lista2 = []\n",
        "for i in t5: \n",
        "  if(i=='a' or i=='b'):\n",
        "    lista2.append(i)\n",
        "print(lista2)\n",
        "\n",
        "lista2= [ i for i in t5 if (i=='a' or i=='b')]\n",
        "print(lista2)\n",
        "# Otra manera: \n",
        "lista2 = [ i for i in t5 if ( i in \"ab\")] # Si el caracter está en ab se da la condición de append\n",
        "print(lista2)"
      ],
      "execution_count": 5,
      "outputs": [
        {
          "output_type": "stream",
          "text": [
            "['a', 'b', 'a', 'b', 'a', 'b', 'b', 'b', 'b']\n",
            "['a', 'b', 'a', 'b', 'a', 'b', 'b', 'b', 'b']\n",
            "['a', 'b', 'a', 'b', 'a', 'b', 'b', 'b', 'b']\n"
          ],
          "name": "stdout"
        }
      ]
    },
    {
      "cell_type": "code",
      "metadata": {
        "colab_type": "code",
        "outputId": "ec79cba6-6f6f-4ebb-f2df-65402b309985",
        "id": "Hlme8GzZ8WX-",
        "colab": {
          "base_uri": "https://localhost:8080/",
          "height": 119
        }
      },
      "source": [
        "# 3. Imprime todos las ocurrencias de'ab' en t4 \n",
        "from re import findall\n",
        "\n",
        "# Manera tradicional:\n",
        "lista3 = []\n",
        "anterior = ''\n",
        "for i in t4: \n",
        "  if(i=='b' and anterior=='a'):\n",
        "    lista3.append('ab')\n",
        "    anterior = 'b'\n",
        "  elif(i=='a'): \n",
        "    anterior='a'\n",
        "  else:\n",
        "    anterior=''\n",
        "print(lista3)\n",
        "\n",
        "  # Otra manera, muy original esta solución, no se me había ocurrido\n",
        "n = t4.count('ab') \n",
        "print('ab'*n)\n",
        "\n",
        "\n",
        "# List comprehension: \n",
        "#anterior=''\n",
        "#lista3=[('ab', anterior='a') if(i=='b'and anterior=='a')else (anterior='a') if (i=='a') else (anterior='') for i in t4]\n",
        "#print(lista3)\n",
        "\n",
        "print(['ab' for i, elem in enumerate(t4)  if elem == 'a' and t4[i+1]=='b']) # enumerate devuelve una lista numerada, es decir i será la posición del elemento y char el elemento \n",
        "# En la de arriba faltaría arreglar si sale del rango i+1\n",
        " #Otra manera para arreglar eso: \n",
        "substring = \"ab\"\n",
        "res = [i for i in range(len(t4)) if t4.startswith(substring , i)] # Ve si desde el indice i el string empieza por ab, y coge el indice de la primera ocurrencia\n",
        "print([t4[index:index+2] for index in res])\n",
        "  # Lo mismo pero más sencillo: \n",
        "res = ['ab' for i in range(len(t4)) if t4.startswith('ab', i)]\n",
        "print(res)\n",
        "\n",
        "\n",
        "# Expresión regular: \n",
        "lista3 = findall('ab',t4)\n",
        "print(lista3)\n"
      ],
      "execution_count": 12,
      "outputs": [
        {
          "output_type": "stream",
          "text": [
            "['ab', 'ab', 'ab']\n",
            "ababab\n",
            "['ab', 'ab', 'ab']\n",
            "['ab', 'ab', 'ab']\n",
            "['ab', 'ab', 'ab']\n",
            "['ab', 'ab', 'ab']\n"
          ],
          "name": "stdout"
        }
      ]
    },
    {
      "cell_type": "code",
      "metadata": {
        "id": "ziwGmHJXxSV0",
        "colab_type": "code",
        "outputId": "cfea9d12-5197-4b2b-cd47-4f61c025a2d1",
        "colab": {
          "base_uri": "https://localhost:8080/",
          "height": 51
        }
      },
      "source": [
        "# 4. Imprime los caracteres qeu sean números en t6 \n",
        "lista4=int(''.join(filter(str.isdigit, t6)))\n",
        "print(lista4)\n",
        "#Lista=[int(Numero) for Numero in Texto.split() if Numero.isdigit()]\n",
        "lista4 = [ char for char in t6 if char.isdigit()]\n",
        "print(lista4)"
      ],
      "execution_count": 14,
      "outputs": [
        {
          "output_type": "stream",
          "text": [
            "4\n",
            "['4']\n"
          ],
          "name": "stdout"
        }
      ]
    },
    {
      "cell_type": "code",
      "metadata": {
        "id": "J5QhMm8SzKW5",
        "colab_type": "code",
        "outputId": "5fb2de86-cfe9-4bb8-9763-9d7fa0989493",
        "colab": {
          "base_uri": "https://localhost:8080/",
          "height": 85
        }
      },
      "source": [
        "# 5. Imprime todas las ocurrencias de ab, recorriendo los textos t3 a t11\n",
        "# (tienes q almacenar los textos juntos de alguna manera en alma_1): \n",
        "alma_1=[]\n",
        "alma_1.append(t3[:])\n",
        "alma_1.append(t4[:])\n",
        "alma_1.append(t5[:])\n",
        "alma_1.append(t6[:])\n",
        "alma_1.append(t7[:])\n",
        "alma_1.append(t8[:])\n",
        "alma_1.append(t9[:])\n",
        "alma_1.append(t10[:])\n",
        "alma_1.append(t11[:])\n",
        "print(alma_1)\n",
        "# Eres una burra, la manera más fácil era alma_1 = [t3,t4,t5,t6,t7,t8,t9,t10,t11]\n",
        "\n",
        "# Manera tradicional: \n",
        "lista5 =[]\n",
        "anterior=''\n",
        "for j in alma_1:\n",
        "  for i in j:\n",
        "    if(i=='a'):\n",
        "      anterior='a'\n",
        "    elif(i=='b' and anterior=='a'):\n",
        "      lista5.append('ab')\n",
        "      anterior='b'\n",
        "    else:\n",
        "      anterior=''\n",
        "\n",
        "print(lista5)\n",
        "\n",
        "#Comprehension list: \n",
        "def ocurrencias(t,substring): \n",
        "  all_ocur = [substring for i in range(len(t)) if t.startswith(substring,i)]\n",
        "  return all_ocur\n",
        "\n",
        "print([ocurrencias(string, 'ab') for string in alma_1]) # Aquí la comprehension, solo que también imprime las []\n",
        "\n",
        "# Expresion regular: \n",
        "lista5=[]\n",
        "for j in alma_1:\n",
        "  resul = findall('ab',j)\n",
        "  if resul!=[]:\n",
        "    lista5.append(resul)\n",
        "print(lista5)"
      ],
      "execution_count": 17,
      "outputs": [
        {
          "output_type": "stream",
          "text": [
            "['maaaa', 'aubabababbb', 'abyababcbcbib', 'aba_babe4', 'basdb98709e7', 'peridise_', 'genialees', 'xxx333nnn', 'braba..n!']\n",
            "['ab', 'ab', 'ab', 'ab', 'ab', 'ab', 'ab', 'ab', 'ab']\n",
            "[[], ['ab', 'ab', 'ab'], ['ab', 'ab', 'ab'], ['ab', 'ab'], [], [], [], [], ['ab']]\n",
            "[['ab', 'ab', 'ab'], ['ab', 'ab', 'ab'], ['ab', 'ab'], ['ab']]\n"
          ],
          "name": "stdout"
        }
      ]
    },
    {
      "cell_type": "code",
      "metadata": {
        "id": "NFsB90w_z5p5",
        "colab_type": "code",
        "outputId": "d41c0262-4c98-4d9e-9890-a8093728e7c7",
        "colab": {
          "base_uri": "https://localhost:8080/",
          "height": 34
        }
      },
      "source": [
        "# 6. Concatena los textos t6 y t7 en otra string conca_1\n",
        "conca_1 = alma_1[3]+alma_1[4] # ó conca_1 = t6 + t7\n",
        "print(conca_1)"
      ],
      "execution_count": 0,
      "outputs": [
        {
          "output_type": "stream",
          "text": [
            "aba_babe4basdb98709e7\n"
          ],
          "name": "stdout"
        }
      ]
    },
    {
      "cell_type": "code",
      "metadata": {
        "id": "eTxZnEYH8XRE",
        "colab_type": "code",
        "outputId": "895141a7-4312-4c93-f0c9-4a0372afc7f7",
        "colab": {
          "base_uri": "https://localhost:8080/",
          "height": 51
        }
      },
      "source": [
        "# 7. Imprime todas las ocurrencias de 'aba' en un texto que concatene los textos \\\n",
        "#    en alma_1 (ej 5) \n",
        "\n",
        "# Manera tradicional:\n",
        "lista6 =[]\n",
        "anterior=''\n",
        "for j in alma_1:\n",
        "  for i in j:\n",
        "    if(i=='a' and anterior=='b'):\n",
        "      anterior='a'\n",
        "      lista6.append('aba')\n",
        "    elif(i=='b' and anterior=='a'):\n",
        "      anterior='b'\n",
        "    elif(i=='a'):\n",
        "      anterior='a'\n",
        "    else:\n",
        "      anterior=''\n",
        "\n",
        "print(lista6)\n",
        "\n",
        "# Expresion regular:\n",
        "lista6 = []\n",
        "for j in alma_1:\n",
        "  resul = findall('aba', j)\n",
        "  if resul!=[]:\n",
        "    lista6.append(resul)\n",
        "print(lista6)"
      ],
      "execution_count": 0,
      "outputs": [
        {
          "output_type": "stream",
          "text": [
            "['aba', 'aba', 'aba', 'aba', 'aba']\n",
            "[['aba'], ['aba'], ['aba'], ['aba']]\n"
          ],
          "name": "stdout"
        }
      ]
    },
    {
      "cell_type": "code",
      "metadata": {
        "id": "UEbXhb8s97wa",
        "colab_type": "code",
        "outputId": "6c165fd4-3fd0-4b44-efd3-76bdb8e1220a",
        "colab": {
          "base_uri": "https://localhost:8080/",
          "height": 51
        }
      },
      "source": [
        "# 8. Imprime todas los dos primeros caracteres de los textos en alma_1\n",
        "import re\n",
        "\n",
        "lista7=[]\n",
        "p = re.compile(r'(\\w{2})')\n",
        "for i in alma_1:\n",
        "  res = p.search(i)\n",
        "  lista7.append(res.group(0))\n",
        "print(lista7)\n",
        "\n",
        "# ó :\n",
        "[str[:2] for str in alma_1]\n"
      ],
      "execution_count": 18,
      "outputs": [
        {
          "output_type": "stream",
          "text": [
            "['ma', 'au', 'ab', 'ab', 'ba', 'pe', 'ge', 'xx', 'br']\n"
          ],
          "name": "stdout"
        },
        {
          "output_type": "execute_result",
          "data": {
            "text/plain": [
              "['ma', 'au', 'ab', 'ab', 'ba', 'pe', 'ge', 'xx', 'br']"
            ]
          },
          "metadata": {
            "tags": []
          },
          "execution_count": 18
        }
      ]
    },
    {
      "cell_type": "code",
      "metadata": {
        "id": "c0ju2_uE-Q4G",
        "colab_type": "code",
        "outputId": "47ae9782-0af0-40f9-d0ca-e1c49738e209",
        "colab": {
          "base_uri": "https://localhost:8080/",
          "height": 51
        }
      },
      "source": [
        "# 9. Almacena en una variable resul_1 el penúltimo caracter de cada string, \n",
        "#    si el primer caracter no es una 'm'. Imprime el resultado.\n",
        "import re\n",
        "\n",
        "resul_1=[]\n",
        "p = re.compile(r'(.*(.).$)')\n",
        "for i in alma_1:\n",
        "  if(i[0]!='m'):\n",
        "    res = p.search(i)\n",
        "    resul_1.append(res.group(2))\n",
        "print(resul_1)\n",
        "\n",
        "# ó:\n",
        "resul_1 = [string[-2] for string in alma_1 if string[0]!= 'm']\n",
        "print(resul_1)"
      ],
      "execution_count": 20,
      "outputs": [
        {
          "output_type": "stream",
          "text": [
            "['b', 'i', 'e', 'e', 'e', 'e', 'n', 'n']\n",
            "['b', 'i', 'e', 'e', 'e', 'e', 'n', 'n']\n"
          ],
          "name": "stdout"
        }
      ]
    },
    {
      "cell_type": "code",
      "metadata": {
        "id": "k3m6_4dixh1t",
        "colab_type": "code",
        "outputId": "0fc31676-a0b9-4ab2-92d8-22e0942ad13e",
        "colab": {
          "base_uri": "https://localhost:8080/",
          "height": 34
        }
      },
      "source": [
        "# 10. Itera sobre t3 a t11 y devuelve el primer caracter de la primera string, \\\n",
        "#     el segundo de la segunda, el tercero de la tercera... etc. \n",
        "#     Guarda cada caracter en resul_2 de forma que quede una string con cada uno de los caracteres por orden\n",
        "\n",
        "\n",
        "contador=0\n",
        "resul_2=[]\n",
        "ind_resul = [] # Ejercicio11\n",
        "for i in alma_1: # En vez de contadores deberíamos de haber usado enumerate\n",
        "  contador2=0\n",
        "  for j in i:\n",
        "    if(contador2==contador):\n",
        "      resul_2.append(j)\n",
        "      ind_resul.append(contador2)\n",
        "    contador2+=1\n",
        "  contador+=1\n",
        "print(\"\".join(resul_2))"
      ],
      "execution_count": 22,
      "outputs": [
        {
          "output_type": "stream",
          "text": [
            "muy_bien!\n"
          ],
          "name": "stdout"
        }
      ]
    },
    {
      "cell_type": "code",
      "metadata": {
        "id": "7vaCrXNYBuK6",
        "colab_type": "code",
        "outputId": "286c21f4-1032-4d23-ea6a-c07926876f20",
        "colab": {
          "base_uri": "https://localhost:8080/",
          "height": 34
        }
      },
      "source": [
        "# 11. Si has hecho lo anterior bien o muy bien (si no lo sabes seguro al ver los resultados, \n",
        "      # pregúntame para que revise tus ejercicios), aprovecha la iteración anterior, \n",
        "      # puedes copiarla aquí, y guarda en una variable ind_resul los índices \n",
        "      # de cada uno de los caractes que extraímos en su string original. \n",
        "\n",
        "print(ind_resul)"
      ],
      "execution_count": 0,
      "outputs": [
        {
          "output_type": "stream",
          "text": [
            "[0, 1, 2, 3, 4, 5, 6, 7, 8]\n"
          ],
          "name": "stdout"
        }
      ]
    },
    {
      "cell_type": "code",
      "metadata": {
        "id": "8cimzBGQDBXk",
        "colab_type": "code",
        "outputId": "e67d79f3-c176-4d36-b014-9783c659aadf",
        "colab": {
          "base_uri": "https://localhost:8080/",
          "height": 129
        }
      },
      "source": [
        "# 12.a Añade una admiración a result1 al final:\n",
        "\n",
        "# 12.b Crea un algoritmo que compare los índices de resul_1 y resul_2. \n",
        "\n",
        "\n",
        "### NO ENTIENDO ESTE ENUNCIADO :("
      ],
      "execution_count": 0,
      "outputs": [
        {
          "output_type": "error",
          "ename": "SyntaxError",
          "evalue": "ignored",
          "traceback": [
            "\u001b[0;36m  File \u001b[0;32m\"<ipython-input-51-ff87b3326e32>\"\u001b[0;36m, line \u001b[0;32m1\u001b[0m\n\u001b[0;31m    resul_1!\u001b[0m\n\u001b[0m           ^\u001b[0m\n\u001b[0;31mSyntaxError\u001b[0m\u001b[0;31m:\u001b[0m invalid syntax\n"
          ]
        }
      ]
    },
    {
      "cell_type": "code",
      "metadata": {
        "colab_type": "code",
        "id": "7Bdo9oitde0q",
        "outputId": "a6dade24-4c64-43d8-8b3e-e71591329728",
        "colab": {
          "base_uri": "https://localhost:8080/",
          "height": 34
        }
      },
      "source": [
        "# 13. Si 12 devuelve True, crea una lista con todos las strings que tengan números. \n",
        "# sin usar regex: \n",
        "\n",
        "# Como el 12 no se hacerlo lo hago igualmente jajajaj\n",
        "lista13= []\n",
        "for i in alma_1:\n",
        "  if(len(''.join(filter(str.isdigit,i)))>0):\n",
        "    lista13.append(i)\n",
        "\n",
        "print(lista13)"
      ],
      "execution_count": 0,
      "outputs": [
        {
          "output_type": "stream",
          "text": [
            "['aba_babe4', 'basdb98709e7', 'xxx333nnn']\n"
          ],
          "name": "stdout"
        }
      ]
    },
    {
      "cell_type": "code",
      "metadata": {
        "id": "47jML26LzVch",
        "colab_type": "code",
        "outputId": "3c8362d5-64fa-45b8-b20a-7ba59f11a3de",
        "colab": {
          "base_uri": "https://localhost:8080/",
          "height": 34
        }
      },
      "source": [
        "# 14. Has lo mismo con un patron regex\n",
        "import re\n",
        "\n",
        "p = re.compile(r'.*(\\d).*')\n",
        "lista14=[]\n",
        "for i in alma_1:\n",
        "  res = p.search(i)\n",
        "  if(res!=None):\n",
        "    lista14.append(i)\n",
        "print(lista14)"
      ],
      "execution_count": 0,
      "outputs": [
        {
          "output_type": "stream",
          "text": [
            "['aba_babe4', 'basdb98709e7', 'xxx333nnn']\n"
          ],
          "name": "stdout"
        }
      ]
    },
    {
      "cell_type": "code",
      "metadata": {
        "id": "USRAUY7CzXFM",
        "colab_type": "code",
        "outputId": "4b929f60-e1fc-4c47-9185-6411402a5eee",
        "colab": {
          "base_uri": "https://localhost:8080/",
          "height": 51
        }
      },
      "source": [
        "# 15. Almacena en otra lista todas las strings de esta lista que tengan 3 letras seguidas iguales \n",
        "      # Y remueve los tres primeros y 3 últimos de cada una de ellas ... \n",
        "\n",
        "#Supongo que se refiere a la lista 14...\n",
        "import re \n",
        "\n",
        "lista15 = []\n",
        "for i in lista14:\n",
        "  anterior = ''\n",
        "  contador = 0;\n",
        "  posiciones = 0;\n",
        "  cadena = \"\"\n",
        "  for j in i:\n",
        "    if(contador<4):\n",
        "      if posiciones == 0:\n",
        "        anterior = j\n",
        "        posiciones +=1\n",
        "        primero = 1\n",
        "      else:\n",
        "        if anterior == j : \n",
        "          anterior = j\n",
        "          posiciones +=1\n",
        "          if primero ==1:\n",
        "            contador +=2\n",
        "            cadena+=j+j\n",
        "            primero=0\n",
        "          else:\n",
        "            contador +=1\n",
        "            cadena+=j\n",
        "        else: \n",
        "          anterior=''\n",
        "          posiciones+=1\n",
        "          primero = 0\n",
        "  if(len(cadena)==3):\n",
        "    lista15.append(i)\n",
        "\n",
        "     \n",
        "print(lista15)\n",
        "\n",
        "lista16=[]\n",
        "p = re.compile(r'(^.{3}(.*).{3}$)')\n",
        "\n",
        "for i in lista15: \n",
        "  resul = p.search(i)\n",
        "  lista16.append(resul.group(2))\n",
        "\n",
        "print(lista16)\n"
      ],
      "execution_count": 0,
      "outputs": [
        {
          "output_type": "stream",
          "text": [
            "['xxx333nnn']\n",
            "['333']\n"
          ],
          "name": "stdout"
        }
      ]
    },
    {
      "cell_type": "code",
      "metadata": {
        "id": "0FonxAz8pKyz",
        "colab_type": "code",
        "colab": {}
      },
      "source": [
        ""
      ],
      "execution_count": 0,
      "outputs": []
    }
  ]
}