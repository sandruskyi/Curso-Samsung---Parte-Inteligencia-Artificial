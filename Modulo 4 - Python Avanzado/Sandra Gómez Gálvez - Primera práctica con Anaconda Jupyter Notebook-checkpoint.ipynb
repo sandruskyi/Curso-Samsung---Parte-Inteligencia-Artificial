{
 "cells": [
  {
   "cell_type": "code",
   "execution_count": 5,
   "metadata": {},
   "outputs": [],
   "source": [
    "a = [\"Veronica Olmo\", \"Sofia\", \"Sandra Gomez\", \"Raquel C\", \"Paula\", \"Pau\", \"Noelia\", \"Miriam\", \"Maika\",\"Mila\", \"Marga\",\n",
    " \"Luisa Yanez\", \"Luisa\",\"Laura aguilera\", \"Ines\", \"Eva Martin\",\"Elena candela\", \"Elena Aznar\", \"Carmen\", \"Araya\" ]"
   ]
  },
  {
   "cell_type": "code",
   "execution_count": 2,
   "metadata": {},
   "outputs": [
    {
     "name": "stdout",
     "output_type": "stream",
     "text": [
      "['Veronica Olmo', 'Sofia', 'Sandra Gomez', 'Raquel C', 'Paula', 'Pau', 'Noelia', 'Miriam', 'Maria del Carmen Rodriguez', 'Marga', 'Luisa Yanez', 'Laura aguilera', 'Ines', 'Eva Martin', 'Elena candela', 'Elena Aznar', 'Carmen', 'Araya']\n"
     ]
    }
   ],
   "source": [
    "print(a)"
   ]
  },
  {
   "cell_type": "code",
   "execution_count": 6,
   "metadata": {},
   "outputs": [
    {
     "name": "stdout",
     "output_type": "stream",
     "text": [
      "20\n"
     ]
    }
   ],
   "source": [
    "print(len(a))"
   ]
  },
  {
   "cell_type": "code",
   "execution_count": 4,
   "metadata": {},
   "outputs": [
    {
     "name": "stdout",
     "output_type": "stream",
     "text": [
      "['Araya', 'Carmen', 'Elena Aznar', 'Elena candela', 'Eva Martin', 'Ines', 'Laura aguilera', 'Luisa Yanez', 'Marga', 'Maria del Carmen Rodriguez', 'Miriam', 'Noelia', 'Pau', 'Paula', 'Raquel C', 'Sandra Gomez', 'Sofia', 'Veronica Olmo']\n"
     ]
    }
   ],
   "source": [
    "print(sorted(a))"
   ]
  },
  {
   "cell_type": "code",
   "execution_count": 8,
   "metadata": {},
   "outputs": [
    {
     "name": "stdout",
     "output_type": "stream",
     "text": [
      "Unit test 1\n",
      "NOT_OK\n",
      "Unit test 2\n",
      "NOT_OK\n"
     ]
    }
   ],
   "source": [
    "# Ejercicio - definirlo como una funcion\n",
    "\n",
    "def calcular_la_media(a,b):\n",
    "    \"\"\"\n",
    "    Input - a: numero \n",
    "            b: numero \n",
    "    Output - media de a y b\n",
    "    \"\"\"\n",
    "    return (a+b+1)/2\n",
    "\n",
    "# Unit testing\n",
    "print(\"Unit test 1\")\n",
    "if calcular_la_media(1,3) == 2:\n",
    "    print(\"OK\")\n",
    "else:\n",
    "    print(\"NOT_OK\")\n",
    "\n",
    "\n",
    "# Unit testing\n",
    "print(\"Unit test 2\")\n",
    "if calcular_la_media(5,6) == 5.5:\n",
    "    print(\"OK\")\n",
    "else:\n",
    "    print(\"NOT_OK\")\n",
    "    "
   ]
  },
  {
   "cell_type": "markdown",
   "metadata": {},
   "source": [
    "## Ejercicio 1\n",
    "Dado una lista de numeros, calcular la media, el maximo y el minimo \n",
    "Input - lista\n",
    "Output media, max, min"
   ]
  },
  {
   "cell_type": "code",
   "execution_count": 19,
   "metadata": {},
   "outputs": [
    {
     "name": "stdout",
     "output_type": "stream",
     "text": [
      "Unit test 1\n",
      "OK\n"
     ]
    },
    {
     "data": {
      "text/plain": [
       "'#UNIT TESTING PARA LA OTRA MANERA \\nif (calcular([1,2,3])[0]==2): print(\"OK MEDIA\")\\nif (calcular([1,2,3])[1]==3): print(\"OK MAXIMO\")  \\nif (calcular([1,2,3])[2]==1): print(\"OK MINIMO\")'"
      ]
     },
     "execution_count": 19,
     "metadata": {},
     "output_type": "execute_result"
    }
   ],
   "source": [
    "# Dado una lista de numeros, calcular la media, el maximo y el minimo\n",
    "def calcular(lista):\n",
    "    # Manera hecha en clase:\n",
    "    if(len(lista)==0):\n",
    "        raise Exception(\"No empty list acceptable input\")\n",
    "    else: \n",
    "        media = sum(lista)/len(lista)\n",
    "        return media, max(lista), min(lista)\n",
    "    \"\"\"\n",
    "    #OTRA MANERA BIEN HECHA POR MI AL PRINCIPIO\n",
    "    resultado = []\n",
    "    suma = 0\n",
    "    for i in lista: \n",
    "        suma +=i\n",
    "    media = suma / len(lista)\n",
    "    resultado.append(media)\n",
    "    resultado.append(max(lista))\n",
    "    resultado.append(min(lista))\n",
    "    #return resultado # OTRA MANERA\n",
    "    return media, max(lista), min(lista)\"\"\"\n",
    "# Unit Testing: \n",
    "# MANERA CLASE: \n",
    "print(\"Unit test 1\")\n",
    "if(calcular([0,4,7,3])==(14/4, 7, 0)): print(\"OK\")\n",
    "else: print(\"NOT OK\")\n",
    "\"\"\"#UNIT TESTING PARA LA OTRA MANERA \n",
    "if (calcular([1,2,3])[0]==2): print(\"OK MEDIA\")\n",
    "if (calcular([1,2,3])[1]==3): print(\"OK MAXIMO\")  \n",
    "if (calcular([1,2,3])[2]==1): print(\"OK MINIMO\")\"\"\""
   ]
  },
  {
   "cell_type": "markdown",
   "metadata": {},
   "source": [
    "## Ejercicio 2\n",
    "Dado una lista de numeros, aplicar una funcion y devolver valores de dicha funcion ordenados\n",
    "funcion\n",
    "x menor -8             y = 8-x*x\n",
    "x entre -8 y 10        y = 13 +x -log(x)\n",
    "x mayour 10            y = y(x-20)\n",
    "Input - lista\n",
    "Output media, max, min"
   ]
  },
  {
   "cell_type": "code",
   "execution_count": 10,
   "metadata": {},
   "outputs": [
    {
     "name": "stderr",
     "output_type": "stream",
     "text": [
      "C:\\Users\\sandr\\Anaconda3\\lib\\site-packages\\ipykernel_launcher.py:13: RuntimeWarning: invalid value encountered in log\n",
      "  del sys.path[0]\n"
     ]
    },
    {
     "data": {
      "image/png": "[encoded data removed]",
      "text/plain": [
       "<Figure size 432x288 with 1 Axes>"
      ]
     },
     "metadata": {
      "needs_background": "light"
     },
     "output_type": "display_data"
    },
    {
     "name": "stdout",
     "output_type": "stream",
     "text": [
      "NOT OK\n",
      "OK\n"
     ]
    }
   ],
   "source": [
    "import numpy as np\n",
    "from matplotlib import pyplot as plt\n",
    "\n",
    "def devolverValores(i):\n",
    "    if i<-8:\n",
    "        numeroFinal = 8-i*i\n",
    "        return numeroFinal\n",
    "    elif -8<=i and i<=10:\n",
    "        if(i==0): \n",
    "            numeroFinal = 0\n",
    "            return numeroFinal\n",
    "        else: \n",
    "            numeroFinal = (13+i-np.log(i))\n",
    "            return numeroFinal \n",
    "    else: \n",
    "        numeroFinal = devolverValores(i-20)\n",
    "        return numeroFinal \n",
    "\n",
    "def aplicarFuncion(lista):\n",
    "    valores=[]\n",
    "    for i in lista: \n",
    "        valores.append(devolverValores(i))\n",
    "    #print(\"Valores sin ordenar\",valores)\n",
    "    #print(\"Valores ordenados\", sorted(valores))\n",
    "    return sorted(valores)\n",
    "\n",
    "#x_label=np.linspace(-30,50,100)\n",
    "x_label = []\n",
    "for i in range(100):\n",
    "    x_label.append(-30+80 / 100 * i) # 80 = 50+30\n",
    "fig = plt.figure()\n",
    "plt.plot(x_label, aplicarFuncion(x_label))\n",
    "plt.title(\"Titulo\")\n",
    "plt.xlabel(\"X\")\n",
    "plt.ylabel(\"Y\")\n",
    "plt.grid(\"on\")\n",
    "plt.show()\n",
    "\n",
    "    \n",
    "# Unit Testing:\n",
    "#lista = [-9 , 0, 11] no puede ser nunca, pues el -8<0<10 pero el log(0) no E, entonces no estaría bien definida la función\n",
    "if(aplicarFuncion([-9, 1, 11])== [-73,-73,14.0]): \n",
    "    print(\"OK\")\n",
    "else: \n",
    "    print(\"NOT OK\")\n",
    "if(aplicarFuncion([-9, 0, 11])== [-73,-73,0]): \n",
    "    print(\"OK\")\n",
    "else: \n",
    "    print(\"NOT OK\")"
   ]
  },
  {
   "cell_type": "markdown",
   "metadata": {},
   "source": [
    "## Ejercicio 3\n",
    "Dado una lista de string, contar cuantas veces aparece cada elemento en la lista\n",
    "Input - lista\n",
    "Output - diccionario elemento: numero de apariciones"
   ]
  },
  {
   "cell_type": "code",
   "execution_count": 23,
   "metadata": {},
   "outputs": [
    {
     "name": "stdout",
     "output_type": "stream",
     "text": [
      "OK 1\n",
      "OK 2\n",
      "OK 3\n",
      "OK 4\n",
      "OK 5\n",
      "OK TODO\n"
     ]
    }
   ],
   "source": [
    "def contarString(lista):\n",
    "    contadorDiccionario = {}\n",
    "    for i in lista: \n",
    "        if not(i in contadorDiccionario):\n",
    "            contadorDiccionario[i]=lista.count(i)\n",
    "    return contadorDiccionario\n",
    "# UNIT TESTING\n",
    "if(contarString([1,2,2,3,4,3,4,3,4,5,4]).get(1)==1): print(\"OK 1\")\n",
    "if(contarString([1,2,2,3,4,3,4,3,4,5,4]).get(2)==2): print(\"OK 2\")\n",
    "if(contarString([1,2,2,3,4,3,4,3,4,5,4]).get(3)==3): print(\"OK 3\")\n",
    "if(contarString([1,2,2,3,4,3,4,3,4,5,4]).get(4)==4): print(\"OK 4\")\n",
    "if(contarString([1,2,2,3,4,3,4,3,4,5,4]).get(5)==1): print(\"OK 5\")\n",
    "if(list(contarString([1,2,2,3,4,3,4,3,4,5,4]).values())==[1,2,3,4,1]):print(\"OK TODO\")"
   ]
  },
  {
   "cell_type": "markdown",
   "metadata": {},
   "source": [
    "## Ejercicio 4\n",
    "Definir una funcion que incluya una lista de numeros, una de letras y una de palabras. \n",
    "La funcion tiene que correr independendientemente de si existe o no cualquiera de dichas entradas\n",
    "La salida tiene que ser el resumen de las entradas en cuanto a la distribucion de las listas.\n",
    "\n",
    "Input - lista a numeros\n",
    "      - lista b letras\n",
    "      - lista c palabras\n",
    "     \n",
    "     print - numeros ordenados - frecuencia\n",
    "             letras ordenadas - frecuencia\n",
    "             palabras ordenadas - frecuencia"
   ]
  },
  {
   "cell_type": "code",
   "execution_count": 24,
   "metadata": {},
   "outputs": [
    {
     "name": "stdout",
     "output_type": "stream",
     "text": [
      "OK1\n",
      "OK2\n",
      "OK3\n",
      "OK4\n",
      "OK5\n",
      "OK6\n"
     ]
    }
   ],
   "source": [
    "def ejercicio4(lNumeros = [], lLetras = [], lPalabras=[]):\n",
    "    # Controlamos que lo entra es una lista de números, de letras o de palabras\n",
    "    if(lLetras!=[] and len(lLetras[0])>1):\n",
    "        lPalabras = lLetras[:]\n",
    "        lLetras = []\n",
    "    if(lNumeros!=[] and type(lNumeros[0]) == str):\n",
    "        if len(lNumeros[0])==1: \n",
    "            lLetras = lNumeros[:]\n",
    "            lNumeros = []\n",
    "        elif len(lNumeros[0])>1: \n",
    "            lPalabras = lNumeros[:]\n",
    "            lNumeros = []\n",
    "        \n",
    "    # Ordenamos todo\n",
    "    lPalabrasOrdenado=[]\n",
    "    for indx, i in enumerate(lPalabras):\n",
    "        lPalabrasOrdenado.append(\"\".join(sorted(i)))\n",
    "    lNumerosOrdenado = sorted(lNumeros)\n",
    "    lLetrasOrdenado = sorted(lLetras)\n",
    "    devolver = [lNumerosOrdenado, lLetrasOrdenado, lPalabrasOrdenado]\n",
    "    #print(\"Devolver\",devolver)\n",
    "    return devolver\n",
    "\n",
    "# UNIT TESTING:\n",
    "if ejercicio4([0,9,3,5],['b','j','a','h'],[\"hola\",\"sandra\",\"DCBA\"])==([[0,3,5,9],['a','b','h','j'],[\"ahlo\",\"aadnrs\",\"ABCD\"]]):\n",
    "    print(\"OK1\")\n",
    "if ejercicio4()==[[],[],[]]:\n",
    "    print(\"OK2\")\n",
    "if ejercicio4([0,9,3,5],[\"hola\",\"sandra\",\"DCBA\"])==([[0,3,5,9],[],[\"ahlo\",\"aadnrs\",\"ABCD\"]]):\n",
    "    print(\"OK3\")\n",
    "if ejercicio4([\"hola\",\"sandra\",\"DCBA\"])==([[],[],[\"ahlo\",\"aadnrs\",\"ABCD\"]]):\n",
    "    print(\"OK4\")\n",
    "if ejercicio4([0,9,3,5])==([[0,3,5,9],[],[]]):\n",
    "    print(\"OK5\")\n",
    "if ejercicio4(['b','j','a','h'])==([[],['a','b','h','j'],[]]):\n",
    "    print(\"OK6\")   "
   ]
  },
  {
   "cell_type": "markdown",
   "metadata": {},
   "source": [
    "## Ejercicio 5 \n",
    "Input - integer i\n",
    "Output - numero primo i\n",
    "\n",
    "i = 1 - primer numero primo - 1\n",
    "i = 4 - cuarto numero primo - 5\n"
   ]
  },
  {
   "cell_type": "code",
   "execution_count": 28,
   "metadata": {},
   "outputs": [
    {
     "name": "stdout",
     "output_type": "stream",
     "text": [
      "OK1\n",
      "OK2\n",
      "OK3\n"
     ]
    }
   ],
   "source": [
    "def sacarNumeroPrimo(indx):\n",
    "    numerosPrimos = []\n",
    "    numero = 1\n",
    "    for i in range(0,indx):\n",
    "        esNumeroPrimo = False\n",
    "        numeroDivisor=numero\n",
    "        count = 0\n",
    "        while(esNumeroPrimo==False):\n",
    "            while(numeroDivisor>0):\n",
    "                if(numero%numeroDivisor == 0):\n",
    "                    count+=1\n",
    "                numeroDivisor-=1\n",
    "            if(numero==1 or count==2):  # EL NUMERO 1 no es primo pero en el enunciado lo toma cómo si sí\n",
    "                esNumeroPrimo=True\n",
    "                numerosPrimos.append(numero)\n",
    "            numero+=1\n",
    "            numeroDivisor=numero\n",
    "            count=0\n",
    "    #print(\"NumerosPrimos\",numerosPrimos)\n",
    "    return numerosPrimos[indx-1]\n",
    "                \n",
    "\n",
    "# UNIT TESTING\n",
    "if(sacarNumeroPrimo(1)==1): # AUNQUE EH, EL NUMERO 1 NO ES PRIMO!\n",
    "    print(\"OK1\")\n",
    "if(sacarNumeroPrimo(4)==5):\n",
    "    print(\"OK2\")\n",
    "if(sacarNumeroPrimo(10)==23):\n",
    "    print(\"OK3\")"
   ]
  },
  {
   "cell_type": "markdown",
   "metadata": {},
   "source": [
    "## Ejercicio 6\n",
    "\n",
    "Input - texto en un string\n",
    "Output - frecuencia de aparicion de los caracteres (espacio y caracteres especiales)\n"
   ]
  },
  {
   "cell_type": "code",
   "execution_count": 11,
   "metadata": {},
   "outputs": [
    {
     "name": "stdout",
     "output_type": "stream",
     "text": [
      "<re.Match object; span=(4, 5), match=' '>\n",
      "<re.Match object; span=(4, 5), match=' '>\n",
      "<re.Match object; span=(4, 5), match=' '>\n",
      "<re.Match object; span=(4, 5), match=' '>\n",
      "<re.Match object; span=(4, 5), match=' '>\n",
      "<re.Match object; span=(4, 5), match=' '>\n",
      "<re.Match object; span=(4, 5), match=' '>\n",
      "<re.Match object; span=(4, 5), match=' '>\n",
      "<re.Match object; span=(4, 5), match=' '>\n",
      "<re.Match object; span=(4, 5), match=' '>\n",
      "<re.Match object; span=(4, 5), match=' '>\n",
      "<re.Match object; span=(4, 5), match=' '>\n",
      "<re.Match object; span=(4, 5), match=' '>\n",
      "<re.Match object; span=(4, 5), match=' '>\n",
      "<re.Match object; span=(4, 5), match=' '>\n",
      "<re.Match object; span=(4, 5), match=' '>\n",
      "<re.Match object; span=(4, 5), match=' '>\n",
      "<re.Match object; span=(4, 5), match=' '>\n",
      "<re.Match object; span=(4, 5), match=' '>\n",
      "<re.Match object; span=(4, 5), match=' '>\n",
      "<re.Match object; span=(4, 5), match=' '>\n",
      "<re.Match object; span=(4, 5), match=' '>\n",
      "<re.Match object; span=(4, 5), match=' '>\n",
      "<re.Match object; span=(4, 5), match=' '>\n",
      "<re.Match object; span=(4, 5), match=' '>\n",
      "ARAYA 11\n"
     ]
    }
   ],
   "source": [
    "import re \n",
    "\n",
    "def frecuenciaEspaciosCaracteres(texto):\n",
    "    #espacios = texto.count(\" \")\n",
    "    #caracteres = texto.count(\"\\\")\n",
    "    p = re.compile(r'[\\W\\\\]') # Busca cualquier caracter no alfanumerico\n",
    "        # Más los signos .%+-\n",
    "    caracteres = 0\n",
    "    for i in texto: \n",
    "        res = p.search(texto)\n",
    "        print(res)\n",
    "        if(res!=[]):\n",
    "            caracteres+=1\n",
    "    return caracteres   \n",
    "    #return [espacios, caracteres] \n",
    "# UNIT TESTING\n",
    "if frecuenciaEspaciosCaracteres(\"Hola que tal \\n Yo bien \\^\")==6: print(\"OK1\")\n",
    "# CON ESTO NO HA SALIDO JAJAJAJ\n",
    "\n",
    "\n",
    "#MANERA DE ARAYA CON TODO bien: \n",
    "def count_special_character(string): \n",
    "    # Declaramos la variable en la que acumularemos el número de caracteres especiales \n",
    "    special_char = 0\n",
    "    for i in range(0, len(string)):  \n",
    "    # mediante la funcion len(string) contamos el numero de caracteres que hay en nuestro string\n",
    "        ch = string[i]\n",
    "        # la funcion .isalpha() evalua si el caracter es una letra del abecedario o no y continua si lo es\n",
    "        if (string[i].isalpha()):  \n",
    "            continue\n",
    "        # la funcion .isdigit() evalua si el caracetr es un numero o no y continua en caso de serlo\n",
    "        elif (string[i].isdigit()):\n",
    "            continue\n",
    "        else: \n",
    "            special_char += 1\n",
    "    return special_char \n",
    "string = \"Hi%^Siri & What Can*I do^^tod4y?\"\n",
    "print(\"ARAYA\", count_special_character(string))\n",
    "\n"
   ]
  },
  {
   "cell_type": "markdown",
   "metadata": {},
   "source": [
    "## Ejercicio 7\n",
    "\n",
    "Input - texto en un string\n",
    "Output - frecuencia de aparicion de las palabras (en minuscula) en diccionario palabra - numero frecuencia\n",
    "\n",
    "CASA casa - casa = 2\n"
   ]
  },
  {
   "cell_type": "code",
   "execution_count": 40,
   "metadata": {},
   "outputs": [
    {
     "name": "stdout",
     "output_type": "stream",
     "text": [
      "OK1\n",
      "OK2\n",
      "OK1\n"
     ]
    }
   ],
   "source": [
    "def frecuenciaPalabras(txt):\n",
    "    texto=txt.split()\n",
    "    diccionario = {}\n",
    "    for i in texto:\n",
    "        if(i.lower() not in diccionario):\n",
    "            diccionario[i.lower()]=1\n",
    "        else:\n",
    "            diccionario[i.lower()]=diccionario[i.lower()]+1\n",
    "    #print(diccionario)\n",
    "    return diccionario\n",
    "# Unit Testing\n",
    "if(frecuenciaPalabras(\"Hola que tal Hola yo bien HOLA YO TAL TAL tal tAl\")[\"hola\"]==3):\n",
    "    print(\"OK1\")\n",
    "if(frecuenciaPalabras(\"Hola que tal Hola yo bien HOLA YO TAL TAL tal tAl\")[\"que\"]==1):\n",
    "    print(\"OK2\")\n",
    "if(frecuenciaPalabras(\"Hola que tal Hola yo bien HOLA YO TAL TAL tal tAl\")[\"tal\"]==5):\n",
    "    print(\"OK1\")"
   ]
  },
  {
   "cell_type": "markdown",
   "metadata": {},
   "source": [
    "## Ejercicio 8\n",
    "Dados dos textos con incluidos en dos strings devolver los 3 grupos \n",
    " palabras en a y b, palabras solo en a , palabras solo en b \n",
    "\n",
    "Input - dos strings\n",
    "Output - 3 variables tipo set "
   ]
  },
  {
   "cell_type": "code",
   "execution_count": 59,
   "metadata": {},
   "outputs": [
    {
     "name": "stdout",
     "output_type": "stream",
     "text": [
      "OK\n"
     ]
    }
   ],
   "source": [
    "import numpy as np\n",
    "def devolverPalabras(string1, string2):\n",
    "    stringTotal = string1 + \" \"+ string2\n",
    "    string1Sp = stringTotal.split()\n",
    "    setAB = set([])\n",
    "    setA = set([])\n",
    "    setB= set([])\n",
    "    count= np.zeros((1,2)) #[0] son a, [1] son b\n",
    "    for i in string1Sp:\n",
    "        for char in i:\n",
    "            if(char =='a'):\n",
    "                count[:,0]+=1\n",
    "            elif (char =='b'):\n",
    "                count[:,1]+=1\n",
    "        if count[:,0]>0 and count[:,1]>0:\n",
    "            setAB.add(i)\n",
    "        elif count[:,0]>0:\n",
    "            setA.add(i)\n",
    "        elif count[:,1]>0:\n",
    "            setB.add(i)\n",
    "        count[:,0]=0\n",
    "        count[:,1]=0\n",
    "    #print(setAB, setA, setB)\n",
    "    return setAB, setA, setB\n",
    "        \n",
    "# UNIT TESTING:\n",
    "if (devolverPalabras(\"Hola que tal b baa kbfaje ksnbb sbbjsaa\",\"ballena\")[0]=={\"ballena\", \"baa\",\"kbfaje\",\"sbbjsaa\"} ):\n",
    "    print(\"OK\")"
   ]
  },
  {
   "cell_type": "markdown",
   "metadata": {},
   "source": [
    "## Ejercicio 9\n",
    "\n",
    "\n",
    "Generar una funcion que "
   ]
  },
  {
   "cell_type": "code",
   "execution_count": null,
   "metadata": {},
   "outputs": [],
   "source": []
  }
 ],
 "metadata": {
  "kernelspec": {
   "display_name": "Python 3",
   "language": "python",
   "name": "python3"
  },
  "language_info": {
   "codemirror_mode": {
    "name": "ipython",
    "version": 3
   },
   "file_extension": ".py",
   "mimetype": "text/x-python",
   "name": "python",
   "nbconvert_exporter": "python",
   "pygments_lexer": "ipython3",
   "version": "3.7.4"
  }
 },
 "nbformat": 4,
 "nbformat_minor": 2
}
