{
 "cells": [
  {
   "cell_type": "code",
   "execution_count": 1,
   "metadata": {},
   "outputs": [],
   "source": [
    "a=[\"Sandra\",\"Maria\",\"Rodri\"]"
   ]
  },
  {
   "cell_type": "code",
   "execution_count": 2,
   "metadata": {},
   "outputs": [
    {
     "name": "stdout",
     "output_type": "stream",
     "text": [
      "['Sandra', 'Maria', 'Rodri']\n"
     ]
    }
   ],
   "source": [
    "print(a)"
   ]
  },
  {
   "cell_type": "code",
   "execution_count": 4,
   "metadata": {},
   "outputs": [
    {
     "name": "stdout",
     "output_type": "stream",
     "text": [
      "3\n"
     ]
    }
   ],
   "source": [
    "print(len(a))"
   ]
  },
  {
   "cell_type": "code",
   "execution_count": 6,
   "metadata": {},
   "outputs": [
    {
     "name": "stdout",
     "output_type": "stream",
     "text": [
      "Unit test 1\n",
      "OK\n"
     ]
    }
   ],
   "source": [
    "def calcular_la_media(a,b):\n",
    "    return (a+b)/2\n",
    "# Unit testing:\n",
    "print(\"Unit test 1\")\n",
    "if calcular_la_media(1,3)==2:\n",
    "    print(\"OK\")\n",
    "else:\n",
    "    print(\"NOT_OK\")\n",
    "\n",
    "# Debemos intentar hacer siempre el unit test primero y arriba luego la función"
   ]
  },
  {
   "cell_type": "markdown",
   "metadata": {},
   "source": [
    "# EJERCICIO 1 \n",
    "Dado una lista de números, calcular la media, el máximo y el mínimo\n",
    "Input - lista\n",
    "Output media, max, min"
   ]
  },
  {
   "cell_type": "code",
   "execution_count": 22,
   "metadata": {},
   "outputs": [
    {
     "name": "stdout",
     "output_type": "stream",
     "text": [
      "OK\n"
     ]
    }
   ],
   "source": [
    "def calcular(lista):\n",
    "    \"\"\"\n",
    "    #OTRA MANERA BIEN \n",
    "    resultado = []\n",
    "    suma = 0\n",
    "    for i in lista: \n",
    "        suma +=i\n",
    "    media = suma / len(lista)\n",
    "    resultado.append(media)\n",
    "    resultado.append(max(lista))\n",
    "    resultado.append(min(lista))\n",
    "    #return resultado # OTRA MANERA\n",
    "    return media, max(lista), min(lista)\"\"\"\n",
    "    if len(lista)==0:\n",
    "        raise Exception(\"No empty list acceptable input\")\n",
    "    else:\n",
    "        media = sum(lista) / len(lista)\n",
    "        return media, max(lista), min(lista)\n",
    "\n",
    "\"\"\"#OTRA MANERA BIEN \n",
    "if (calcular([1,2,3])[0]==2): print(\"OK MEDIA\")\n",
    "if (calcular([1,2,3])[1]==3): print(\"OK MAXIMO\")  \n",
    "if (calcular([1,2,3])[2]==1): print(\"OK MINIMO\")\"\"\"\n",
    "    # OTRA MANERA: \n",
    "if(calcular([0,4,7,3])==(14/4, 7, 0)): print(\"OK\")\n",
    "else: print(\"NOT OK\")"
   ]
  },
  {
   "cell_type": "markdown",
   "metadata": {},
   "source": [
    "# EJERCICIO 2\n",
    "Dado una lista de números, aplicar una función y devolver valores de dicha función ordenados\n",
    "funcion: \n",
    "x menor - 8  -> y= 8-x*x\n",
    "x entre - 8 y 10 -> y = 13 + x - log(x)\n",
    "x mayor 10 -> y = y(x-20) <- Recursividad\n",
    "Input - lista\n",
    "Output - Valores de dicha función ordenados"
   ]
  },
  {
   "cell_type": "code",
   "execution_count": null,
   "metadata": {},
   "outputs": [],
   "source": [
    "\n",
    "if (aplicarFuncionOrden([-9,9,11,-10])==[])"
   ]
  },
  {
   "cell_type": "markdown",
   "metadata": {},
   "source": [
    "# EJERCICIO 3\n",
    "Dado una lista de string, contar cuantas veces aparece cada elemento en la lista\n",
    "\n",
    "Input - lista\n",
    "Output - Diccionario elemento: numero de apariciones"
   ]
  },
  {
   "cell_type": "code",
   "execution_count": null,
   "metadata": {},
   "outputs": [],
   "source": [
    "def contarString(lista):\n",
    "    contador={}\n",
    "    for i in lista: \n",
    "        contador[i]=count(i)\n",
    "        \n",
    "\n",
    "if(contarString([1,2,2,3,4,3,4,3,4,5,4]).get(1)==1)): print(\"OK 1\")\n",
    "if(contarString([1,2,2,3,4,3,4,3,4,5,4]).get(2)==2)): print(\"OK 2\")\n",
    "if(contarString([1,2,2,3,4,3,4,3,4,5,4]).get(3)==3)): print(\"OK 3\")\n",
    "if(contarString([1,2,2,3,4,3,4,3,4,5,4]).get(4)==4)): print(\"OK 4\")\n",
    "if(contarString([1,2,2,3,4,3,4,3,4,5,4]).get(5)==5)): print(\"OK 5\")"
   ]
  },
  {
   "cell_type": "markdown",
   "metadata": {},
   "source": [
    "# Ejercicio 4\n",
    "Definir una función que incluya una lista de números, una de letras y una de palabras.\n",
    "La función tiene que correr independientemente de si existe o no cualquiera de diches entradas\n",
    "La salida tiene que ser el resumen de las enteradas en cuanto a la distribución de las listas.\n",
    "\n",
    "Input - lista a numeros\n",
    "        lista b letras\n",
    "        lista c palabras\n",
    "        \n",
    "        print - numeros ordenados - frecuencia\n",
    "                letras ordenadas - frecuencia\n",
    "                palabras ordenadas - frecuencia\n"
   ]
  },
  {
   "cell_type": "markdown",
   "metadata": {},
   "source": [
    "# EJERCICIO 5\n",
    "\n",
    "Input - integer i\n",
    "Output - numero primo i\n",
    "\n",
    "i = 1 - primer numero primo - 1\n",
    "i = 4 - cuarto numero primo - 5"
   ]
  },
  {
   "cell_type": "markdown",
   "metadata": {},
   "source": [
    "# EJERCICIO 6\n",
    "Input - texto en un string\n",
    "Output - frecuencia de aparición de los caracteres (espacio y caracteres especiales)\n"
   ]
  },
  {
   "cell_type": "markdown",
   "metadata": {},
   "source": [
    "# EJERCICIO 7\n",
    "Input - texto en un string\n",
    "Output - frecuencia de aparición de las palabras (en minuscula) en diccionario palabra - numero frecuencia\n",
    "\n",
    "CASA casa - casa = 2"
   ]
  },
  {
   "cell_type": "markdown",
   "metadata": {},
   "source": [
    "# EJERCICIO 8\n",
    "Dados dos textos con incluidos en dos strings devolver los 3 grupos\n",
    "- palabras en a y b, palabras solo en a, palabras solo en b\n",
    "\n",
    "Input - dos strings\n",
    "Output - 3 variables tipo set"
   ]
  },
  {
   "cell_type": "markdown",
   "metadata": {},
   "source": []
  }
 ],
 "metadata": {
  "kernelspec": {
   "display_name": "Python 3",
   "language": "python",
   "name": "python3"
  },
  "language_info": {
   "codemirror_mode": {
    "name": "ipython",
    "version": 3
   },
   "file_extension": ".py",
   "mimetype": "text/x-python",
   "name": "python",
   "nbconvert_exporter": "python",
   "pygments_lexer": "ipython3",
   "version": "3.7.4"
  }
 },
 "nbformat": 4,
 "nbformat_minor": 2
}
