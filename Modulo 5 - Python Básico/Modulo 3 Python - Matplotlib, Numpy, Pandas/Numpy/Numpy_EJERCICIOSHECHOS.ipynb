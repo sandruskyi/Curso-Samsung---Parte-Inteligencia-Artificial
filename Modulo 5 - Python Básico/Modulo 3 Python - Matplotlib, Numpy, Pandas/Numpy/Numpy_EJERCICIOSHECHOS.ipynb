{
  "nbformat": 4,
  "nbformat_minor": 0,
  "metadata": {
    "colab": {
      "name": "Numpy.ipynb",
      "provenance": []
    },
    "kernelspec": {
      "name": "python3",
      "display_name": "Python 3"
    }
  },
  "cells": [
    {
      "cell_type": "markdown",
      "metadata": {
        "id": "dPgCDEvc8ipJ",
        "colab_type": "text"
      },
      "source": [
        "### **Cálculo numérico con Numpy**\n",
        "Aunque Python tiene varios tipos de datos estructurados, en la práctica no son nada adecuados para cálculo numérico. Veamos un ejemplo de un cálculo numérico básico empleando listas:"
      ]
    },
    {
      "cell_type": "code",
      "metadata": {
        "id": "Z7YFCIQm8tke",
        "colab_type": "code",
        "outputId": "e3ee0466-cd99-4332-9d08-bfe4e324ac9a",
        "colab": {
          "base_uri": "https://localhost:8080/",
          "height": 214
        }
      },
      "source": [
        "In [1]: lista = list(range(5))        # Lista de numeros de 0 a 4\n",
        "\n",
        "In [2]: print(lista*2)\n",
        "[0, 1, 2, 3, 4, 0, 1, 2, 3, 4]\n",
        "\n",
        "In [3]: print(lista*2.5)"
      ],
      "execution_count": 4,
      "outputs": [
        {
          "output_type": "stream",
          "text": [
            "[0, 1, 2, 3, 4, 0, 1, 2, 3, 4]\n"
          ],
          "name": "stdout"
        },
        {
          "output_type": "error",
          "ename": "TypeError",
          "evalue": "ignored",
          "traceback": [
            "\u001b[0;31m---------------------------------------------------------------------------\u001b[0m",
            "\u001b[0;31mTypeError\u001b[0m                                 Traceback (most recent call last)",
            "\u001b[0;32m<ipython-input-4-d2bcfc5448a7>\u001b[0m in \u001b[0;36m<module>\u001b[0;34m()\u001b[0m\n\u001b[1;32m      4\u001b[0m \u001b[0;34m[\u001b[0m\u001b[0;36m0\u001b[0m\u001b[0;34m,\u001b[0m \u001b[0;36m1\u001b[0m\u001b[0;34m,\u001b[0m \u001b[0;36m2\u001b[0m\u001b[0;34m,\u001b[0m \u001b[0;36m3\u001b[0m\u001b[0;34m,\u001b[0m \u001b[0;36m4\u001b[0m\u001b[0;34m,\u001b[0m \u001b[0;36m0\u001b[0m\u001b[0;34m,\u001b[0m \u001b[0;36m1\u001b[0m\u001b[0;34m,\u001b[0m \u001b[0;36m2\u001b[0m\u001b[0;34m,\u001b[0m \u001b[0;36m3\u001b[0m\u001b[0;34m,\u001b[0m \u001b[0;36m4\u001b[0m\u001b[0;34m]\u001b[0m\u001b[0;34m\u001b[0m\u001b[0;34m\u001b[0m\u001b[0m\n\u001b[1;32m      5\u001b[0m \u001b[0;34m\u001b[0m\u001b[0m\n\u001b[0;32m----> 6\u001b[0;31m \u001b[0mprint\u001b[0m\u001b[0;34m(\u001b[0m\u001b[0mlista\u001b[0m\u001b[0;34m*\u001b[0m\u001b[0;36m2.5\u001b[0m\u001b[0;34m)\u001b[0m\u001b[0;34m\u001b[0m\u001b[0;34m\u001b[0m\u001b[0m\n\u001b[0m",
            "\u001b[0;31mTypeError\u001b[0m: can't multiply sequence by non-int of type 'float'"
          ]
        }
      ]
    },
    {
      "cell_type": "markdown",
      "metadata": {
        "id": "LgQvFszY80ZZ",
        "colab_type": "text"
      },
      "source": [
        "En el ejemplo anterior vemos cómo al multiplicar una lista por un número entero, el resultado es concatenar la lista original tantas veces como indica el número, en lugar de multiplicar cada uno de sus elementos por este número, que es lo a veces cabría esperar. Es más, al multiplicarlo por un número no entero da un error, al no poder crear una fracción de una lista. Si quisiéramos hacer esto, se podría resolver iterando cada uno de los elementos de la lista con un bucle for, por ejemplo:"
      ]
    },
    {
      "cell_type": "code",
      "metadata": {
        "id": "ena8D24Y83-r",
        "colab_type": "code",
        "outputId": "caf7ed5b-3d57-4943-eb5f-3672e93602fd",
        "colab": {
          "base_uri": "https://localhost:8080/",
          "height": 34
        }
      },
      "source": [
        "In [4]: lista_nueva = [i*2.5 for i in lista]\n",
        "In [5]: print(lista_nueva)"
      ],
      "execution_count": 5,
      "outputs": [
        {
          "output_type": "stream",
          "text": [
            "[0.0, 2.5, 5.0, 7.5, 10.0]\n"
          ],
          "name": "stdout"
        }
      ]
    },
    {
      "cell_type": "markdown",
      "metadata": {
        "id": "pzgBumQh87hD",
        "colab_type": "text"
      },
      "source": [
        "aunque esta técnica es ineficiente y lenta, sobre todo cuando queremos evaluar funciones, polinomios o cualquier otra operación matemática que aparece en cualquier problema científico.\n",
        "\n",
        "Cuando realmente queremos hacer cálculos con listas de números, debemos usar los arrays. El módulo numpy nos da acceso a los arrays y a una gran cantidad de métodos y funciones aplicables a los mismos. Naturalmente, numpy incluye funciones matemáticas básicas similares al módulo math, las completa con otras más elaboradas y además incluye algunas utilidades de números aleatorios, ajuste lineal de funciones y muchas otras.\n",
        "\n",
        "Para trabajar con numpy y los arrays, importamos el módulos de alguna manera:"
      ]
    },
    {
      "cell_type": "code",
      "metadata": {
        "id": "MGOJdrB1-v5S",
        "colab_type": "code",
        "colab": {}
      },
      "source": [
        "In [6]: import numpy              # Cargar el modulo numpy, o bien\n",
        "In [7]: import numpy as np        # cargar el modulo numpy, llamándolo np, o bien\n",
        "In [8]: from numpy import *       # cargar todas funciones de numpy"
      ],
      "execution_count": 0,
      "outputs": []
    },
    {
      "cell_type": "markdown",
      "metadata": {
        "id": "jyJQ5Pf_-7Sl",
        "colab_type": "text"
      },
      "source": [
        "Si cargamos el módulo solamente, accederemos a las funciones como numpy.array() o np.array(), según cómo importemos el módulo; si en lugar de eso importamos todas las funciones, accederemos a ellas directamente (e.g. array()). Por comodidad usaremos por ahora esta última opción, aunque muy a menudo veremos que usa la notación np.array(), especialmente cuando trabajamos con varios módulos distintos.\n",
        "\n",
        "Un array se puede crear explícitamente o a partir de una lista de la forma siguiente:\n",
        "\n",
        "\n"
      ]
    },
    {
      "cell_type": "code",
      "metadata": {
        "id": "UFxlzQdp--6H",
        "colab_type": "code",
        "colab": {}
      },
      "source": [
        "In [9]: x = array([2.0, 4.6, 9.3, 1.2])      # Creacion de un array directamente\n",
        "In [10]: notas = [ 9.8, 7.8, 9.9, 8.4, 6.7]  # Crear un lista\n",
        "In [11]: notas = array(notas)                # y convertir la lista a array"
      ],
      "execution_count": 0,
      "outputs": []
    },
    {
      "cell_type": "markdown",
      "metadata": {
        "id": "qsCKR4VHAr27",
        "colab_type": "text"
      },
      "source": [
        "Existen métodos para crear arrays automáticamente:"
      ]
    },
    {
      "cell_type": "code",
      "metadata": {
        "id": "cnF0dtirDDWV",
        "colab_type": "code",
        "outputId": "827f5c2e-5641-484e-e118-7a5dbce5a396",
        "colab": {
          "base_uri": "https://localhost:8080/",
          "height": 102
        }
      },
      "source": [
        "In [12]: numeros = arange(10.)               # Array de numeros (floats) de 0 a 9\n",
        "In [13]: print(numeros)\n",
        "\n",
        "\n",
        "In [14]: lista_ceros = zeros(10)             # Array de 10 ceros (floats)\n",
        "In [15]: print(lista_ceros)\n",
        "\n",
        "\n",
        "In [16]: lista_unos = ones(10)                # Array de 10 unos (floats)\n",
        "In [17]: print(lista_unos)\n",
        "\n",
        "\n",
        "In [18]: otra_lista = linspace(0, 30, 8)       # Array de 8 números, de 0 a 30 ambos incluidos\n",
        "In [19]: print(otra_lista)\n"
      ],
      "execution_count": 8,
      "outputs": [
        {
          "output_type": "stream",
          "text": [
            "[0. 1. 2. 3. 4. 5. 6. 7. 8. 9.]\n",
            "[0. 0. 0. 0. 0. 0. 0. 0. 0. 0.]\n",
            "[1. 1. 1. 1. 1. 1. 1. 1. 1. 1.]\n",
            "[ 0.          4.28571429  8.57142857 12.85714286 17.14285714 21.42857143\n",
            " 25.71428571 30.        ]\n"
          ],
          "name": "stdout"
        }
      ]
    },
    {
      "cell_type": "markdown",
      "metadata": {
        "id": "cEEh10EIA_oq",
        "colab_type": "text"
      },
      "source": [
        "Los arrays se indexan prácticamente igual que las listas y las cadenas de texto; aquí hay algunos ejemplos:"
      ]
    },
    {
      "cell_type": "code",
      "metadata": {
        "id": "tbjxWcSQBQHi",
        "colab_type": "code",
        "outputId": "9095836b-3fc9-48b3-8c80-a535129c1ec5",
        "colab": {
          "base_uri": "https://localhost:8080/",
          "height": 119
        }
      },
      "source": [
        "numeros = arange(10.) \n",
        "In [18]: print(numeros[3:8])           # Elementos desde el tercero al septimo\n",
        "\n",
        "\n",
        "In [19]: print(numeros[:4])            # Elementos desde el primero al cuarto\n",
        "\n",
        "In [20]: print(numeros[5:])            # Elementos desde el quinto al final\n",
        "\n",
        "\n",
        "In [21]: print(numeros[-3])            # El antepenúltimo elemento (devuelve un elemento, no un array)\n",
        "\n",
        "\n",
        "In [24]: print(numeros[:])             # Todo el array, equivalente a print(numeros)\n",
        "\n",
        "\n",
        "In [25]: print(numeros[2:8:2])         # Elementos del segundo al septimo, pero saltando de dos en dos"
      ],
      "execution_count": 9,
      "outputs": [
        {
          "output_type": "stream",
          "text": [
            "[3. 4. 5. 6. 7.]\n",
            "[0. 1. 2. 3.]\n",
            "[5. 6. 7. 8. 9.]\n",
            "7.0\n",
            "[0. 1. 2. 3. 4. 5. 6. 7. 8. 9.]\n",
            "[2. 4. 6.]\n"
          ],
          "name": "stdout"
        }
      ]
    },
    {
      "cell_type": "markdown",
      "metadata": {
        "id": "0UxhbyYQDMOC",
        "colab_type": "text"
      },
      "source": [
        "Al igual que las listas, podemos ver el tamaño de un array unidimensional con len(), aunque la manera correcta de conocer la forma de un array es usando el método shape():"
      ]
    },
    {
      "cell_type": "code",
      "metadata": {
        "id": "yM35SID4DStF",
        "colab_type": "code",
        "outputId": "660cbdf9-a607-45fd-b542-203747600405",
        "colab": {
          "base_uri": "https://localhost:8080/",
          "height": 51
        }
      },
      "source": [
        "In [28]: print(len(numeros))\n",
        "\n",
        "In [29]: print(numeros.shape)"
      ],
      "execution_count": 10,
      "outputs": [
        {
          "output_type": "stream",
          "text": [
            "10\n",
            "(10,)\n"
          ],
          "name": "stdout"
        }
      ]
    },
    {
      "cell_type": "markdown",
      "metadata": {
        "id": "6dttU_HLDeXq",
        "colab_type": "text"
      },
      "source": [
        "Nótese que el resultado del método shape() es una tupla, en este caso con un solo elemento ya que el array números es unidimensional.\n",
        "\n",
        "Si creamos un array con np.arange() usando un número entero, el array que se creará será de enteros. Es posible cambiar todo el array a otro tipo de dato (como a float) usando el método astype():"
      ]
    },
    {
      "cell_type": "code",
      "metadata": {
        "id": "MkNcCIPoEQin",
        "colab_type": "code",
        "outputId": "23164e76-2923-470b-f751-d4ea98a530cb",
        "colab": {
          "base_uri": "https://localhost:8080/",
          "height": 34
        }
      },
      "source": [
        "In [31]: enteros = np.arange(6)\n",
        "\n",
        "In [32]: print(enteros)"
      ],
      "execution_count": 11,
      "outputs": [
        {
          "output_type": "stream",
          "text": [
            "[0 1 2 3 4 5]\n"
          ],
          "name": "stdout"
        }
      ]
    },
    {
      "cell_type": "code",
      "metadata": {
        "id": "FF7QGiBsEVp3",
        "colab_type": "code",
        "outputId": "02daf0eb-39a8-4cf3-dc62-e9220930860b",
        "colab": {
          "base_uri": "https://localhost:8080/",
          "height": 34
        }
      },
      "source": [
        "In [33]: type(enteros)"
      ],
      "execution_count": 12,
      "outputs": [
        {
          "output_type": "execute_result",
          "data": {
            "text/plain": [
              "numpy.ndarray"
            ]
          },
          "metadata": {
            "tags": []
          },
          "execution_count": 12
        }
      ]
    },
    {
      "cell_type": "code",
      "metadata": {
        "id": "upMYffoiEhNu",
        "colab_type": "code",
        "outputId": "d9906929-f776-42df-cf5d-62e5d3923dc2",
        "colab": {
          "base_uri": "https://localhost:8080/",
          "height": 34
        }
      },
      "source": [
        "In [34]: type(enteros[0])"
      ],
      "execution_count": 13,
      "outputs": [
        {
          "output_type": "execute_result",
          "data": {
            "text/plain": [
              "numpy.int64"
            ]
          },
          "metadata": {
            "tags": []
          },
          "execution_count": 13
        }
      ]
    },
    {
      "cell_type": "code",
      "metadata": {
        "id": "dN40cQkZFzO5",
        "colab_type": "code",
        "outputId": "b50c4828-33b4-48e9-f817-5a079a6dee44",
        "colab": {
          "base_uri": "https://localhost:8080/",
          "height": 34
        }
      },
      "source": [
        "In [35]: decimales = enteros.astype('float')\n",
        "In [36]: type(decimales)"
      ],
      "execution_count": 14,
      "outputs": [
        {
          "output_type": "execute_result",
          "data": {
            "text/plain": [
              "numpy.ndarray"
            ]
          },
          "metadata": {
            "tags": []
          },
          "execution_count": 14
        }
      ]
    },
    {
      "cell_type": "code",
      "metadata": {
        "id": "MNmKx7ZyGQSp",
        "colab_type": "code",
        "outputId": "1129e778-2799-4b71-bdc5-d695d5af4589",
        "colab": {
          "base_uri": "https://localhost:8080/",
          "height": 34
        }
      },
      "source": [
        "In [37]: type(decimales[0])"
      ],
      "execution_count": 15,
      "outputs": [
        {
          "output_type": "execute_result",
          "data": {
            "text/plain": [
              "numpy.float64"
            ]
          },
          "metadata": {
            "tags": []
          },
          "execution_count": 15
        }
      ]
    },
    {
      "cell_type": "code",
      "metadata": {
        "id": "YBwzIhLmDfz7",
        "colab_type": "code",
        "outputId": "a29460f5-8e87-4af6-fa42-6c4245338a52",
        "colab": {
          "base_uri": "https://localhost:8080/",
          "height": 51
        }
      },
      "source": [
        "In [38]: print(decimales)\n",
        "\n",
        "In [38]: print(decimales.shape)   # Forma o tamaño del array"
      ],
      "execution_count": 16,
      "outputs": [
        {
          "output_type": "stream",
          "text": [
            "[0. 1. 2. 3. 4. 5.]\n",
            "(6,)\n"
          ],
          "name": "stdout"
        }
      ]
    },
    {
      "cell_type": "markdown",
      "metadata": {
        "id": "jipCjVVTGbae",
        "colab_type": "text"
      },
      "source": [
        "Operaciones con arrays\n",
        "Los arrays permiten hacer operaciones aritméticas básicas entre ellos en la forma que uno esperaría que se hicieran, es decir, haciéndolo elemento a elemento; para ello siempre ambos arrays deben tener la misma longitud, por ejemplo:"
      ]
    },
    {
      "cell_type": "code",
      "metadata": {
        "id": "K3MiKovFGdFm",
        "colab_type": "code",
        "outputId": "33abc28c-7996-4063-c25b-b2f1f5a0bb74",
        "colab": {
          "base_uri": "https://localhost:8080/",
          "height": 102
        }
      },
      "source": [
        "In [39]: x = array([5.6, 7.3, 7.7, 2.3, 4.2, 9.2])\n",
        "\n",
        "In [40]: print(x+decimales)\n",
        "\n",
        "\n",
        "In [41]: print(x*decimales)\n",
        "\n",
        "\n",
        "In [42]: print(x/decimales)\n"
      ],
      "execution_count": 17,
      "outputs": [
        {
          "output_type": "stream",
          "text": [
            "[ 5.6  8.3  9.7  5.3  8.2 14.2]\n",
            "[ 0.   7.3 15.4  6.9 16.8 46. ]\n",
            "[       inf 7.3        3.85       0.76666667 1.05       1.84      ]\n"
          ],
          "name": "stdout"
        },
        {
          "output_type": "stream",
          "text": [
            "/usr/local/lib/python3.6/dist-packages/ipykernel_launcher.py:9: RuntimeWarning: divide by zero encountered in true_divide\n",
            "  if __name__ == '__main__':\n"
          ],
          "name": "stderr"
        }
      ]
    },
    {
      "cell_type": "markdown",
      "metadata": {
        "id": "kwpNHkckLQtb",
        "colab_type": "text"
      },
      "source": [
        "Como podemos ver las operaciones se hacen elemento a elemento, por lo que ambas deben tener la misma forma (shape()). Fíjense que en la división el resultado del primer elemento es indefinido/infinito (Inf) debido a la división por cero.\n",
        "\n",
        "Varios arrays se pueden unir con el método np.concatenate(), que también se puede usar para añadir elementos nuevos:"
      ]
    },
    {
      "cell_type": "code",
      "metadata": {
        "id": "dI299A1xLSHI",
        "colab_type": "code",
        "outputId": "711a76d2-926d-41a8-e0e6-aa969351af7b",
        "colab": {
          "base_uri": "https://localhost:8080/",
          "height": 51
        }
      },
      "source": [
        "In [44]: z = np.concatenate((x, decimales))\n",
        "\n",
        "In [45]: print(z)\n",
        "\n",
        "\n",
        "In [46]: z = np.concatenate((x,[7]))\n",
        "\n",
        "In [47]: print(z)\n"
      ],
      "execution_count": 19,
      "outputs": [
        {
          "output_type": "stream",
          "text": [
            "[5.6 7.3 7.7 2.3 4.2 9.2 0.  1.  2.  3.  4.  5. ]\n",
            "[5.6 7.3 7.7 2.3 4.2 9.2 7. ]\n"
          ],
          "name": "stdout"
        }
      ]
    },
    {
      "cell_type": "markdown",
      "metadata": {
        "id": "Z2Am9zW7LdBh",
        "colab_type": "text"
      },
      "source": [
        "Es importante fijarse que los arrays o listas a unir deben darse como una tupla y de ahí que los elementos estén entre paréntesis como (x, [7]), (x, [2,4,7]) o (x, array([2,4,7])).\n",
        "\n",
        "Para añadir elementos, numpy tiene las funciones insert() y append(), que funcionan de manera similar a sus equivalentes en listas, pero en este caso son funciones y no métodos que se aplican a un array, si no que el array en cuestión hay que darlo como parámetro:"
      ]
    },
    {
      "cell_type": "code",
      "metadata": {
        "id": "0tmOME6fLefj",
        "colab_type": "code",
        "outputId": "caa06973-b1b6-4813-d77d-f3aba1a368af",
        "colab": {
          "base_uri": "https://localhost:8080/",
          "height": 51
        }
      },
      "source": [
        "# Añadimos el elemento 100 al array z, al final\n",
        "In [55]: z = np.append(z, 100)\n",
        "In [56]: print(z)\n",
        "\n",
        " # Añadimos el elemento 200 al array z, en el tercer puesto (índice 2)\n",
        "In [57]: z = np.insert(z, 2, 200)\n",
        "In [58]: print(z)\n"
      ],
      "execution_count": 20,
      "outputs": [
        {
          "output_type": "stream",
          "text": [
            "[  5.6   7.3   7.7   2.3   4.2   9.2   7.  100. ]\n",
            "[  5.6   7.3 200.    7.7   2.3   4.2   9.2   7.  100. ]\n"
          ],
          "name": "stdout"
        }
      ]
    },
    {
      "cell_type": "markdown",
      "metadata": {
        "id": "K678tcf-LzgC",
        "colab_type": "text"
      },
      "source": [
        "Como se ve, a diferencia de las listas, el primer parámetro es el array y luego el elemento que se quiere añadir, en el caso de append() y el array, la posición y luego elemento a añadir en el caso de append(). Esto se debe a que estas funciones devuelven una copia del array sin modificar el original como hacen los métodos de listas correspondientes. Si en lugar de un elemento a insertar se da una lista y otro array, añade todos los elementos de la lista (a append() habría que dar también una lista de posiciones, como segundo parámetro)."
      ]
    },
    {
      "cell_type": "code",
      "metadata": {
        "id": "Yg-o9tfZL1xr",
        "colab_type": "code",
        "outputId": "a3a2c629-a6ac-47a0-cffb-3d3c545abf2a",
        "colab": {
          "base_uri": "https://localhost:8080/",
          "height": 34
        }
      },
      "source": [
        "In [60]: # Creamos un nuevo array añadiendo al array z, los elementos -10, -20, -30 en las posiciones con indices 2, 4, -1, respectivamente\n",
        "In [61]: y = np.insert(z, [2, 4, -1], [-10, -20, -30])\n",
        "In [61]: print(y)"
      ],
      "execution_count": 22,
      "outputs": [
        {
          "output_type": "stream",
          "text": [
            "[  5.6   7.3 -10.  200.    7.7 -20.    2.3   4.2   9.2   7.  -30.  100. ]\n"
          ],
          "name": "stdout"
        }
      ]
    },
    {
      "cell_type": "markdown",
      "metadata": {
        "id": "EBtAYZqLMMC9",
        "colab_type": "text"
      },
      "source": [
        "Además de las operaciones aritméticas básicas, los arrays de numpy tienen métodos o funciones específicas para ellas más avanzadas. Algunas de ellas son las siguientes:"
      ]
    },
    {
      "cell_type": "code",
      "metadata": {
        "id": "6MdjGMy1MOEe",
        "colab_type": "code",
        "outputId": "6fea3e82-44fe-421d-d50e-9dba389abb4f",
        "colab": {
          "base_uri": "https://localhost:8080/",
          "height": 34
        }
      },
      "source": [
        "In [62]: z.max()   # Valor máximo de los elementos del array"
      ],
      "execution_count": 23,
      "outputs": [
        {
          "output_type": "execute_result",
          "data": {
            "text/plain": [
              "200.0"
            ]
          },
          "metadata": {
            "tags": []
          },
          "execution_count": 23
        }
      ]
    },
    {
      "cell_type": "code",
      "metadata": {
        "id": "BCvKc783MgmZ",
        "colab_type": "code",
        "outputId": "17a5f6d3-e577-44c4-c81c-3681cbd64154",
        "colab": {
          "base_uri": "https://localhost:8080/",
          "height": 34
        }
      },
      "source": [
        "In [63]: z.min()   # Valor mínimo de los elementos del array"
      ],
      "execution_count": 24,
      "outputs": [
        {
          "output_type": "execute_result",
          "data": {
            "text/plain": [
              "2.3"
            ]
          },
          "metadata": {
            "tags": []
          },
          "execution_count": 24
        }
      ]
    },
    {
      "cell_type": "code",
      "metadata": {
        "id": "BFmVfYK0Ma-2",
        "colab_type": "code",
        "outputId": "c0bf2002-33c6-439c-c2bc-54264ad894d4",
        "colab": {
          "base_uri": "https://localhost:8080/",
          "height": 34
        }
      },
      "source": [
        "In [64]: z.mean()  # Valor medio de los elementos del array"
      ],
      "execution_count": 25,
      "outputs": [
        {
          "output_type": "execute_result",
          "data": {
            "text/plain": [
              "38.14444444444444"
            ]
          },
          "metadata": {
            "tags": []
          },
          "execution_count": 25
        }
      ]
    },
    {
      "cell_type": "code",
      "metadata": {
        "id": "-RbXitoeMcA1",
        "colab_type": "code",
        "outputId": "ffddcbe0-3ce1-4bab-fd66-186544f73c3c",
        "colab": {
          "base_uri": "https://localhost:8080/",
          "height": 34
        }
      },
      "source": [
        "In [65]: z.std()   # Desviación típica de los elementos del array"
      ],
      "execution_count": 26,
      "outputs": [
        {
          "output_type": "execute_result",
          "data": {
            "text/plain": [
              "64.29577679428289"
            ]
          },
          "metadata": {
            "tags": []
          },
          "execution_count": 26
        }
      ]
    },
    {
      "cell_type": "code",
      "metadata": {
        "id": "nqMK3LhyMcn3",
        "colab_type": "code",
        "outputId": "3b5e8711-c259-4ac8-e6a0-e029587b1cbc",
        "colab": {
          "base_uri": "https://localhost:8080/",
          "height": 34
        }
      },
      "source": [
        "In [66]: z.sum()   # Suma de todos los elementos del array"
      ],
      "execution_count": 27,
      "outputs": [
        {
          "output_type": "execute_result",
          "data": {
            "text/plain": [
              "343.29999999999995"
            ]
          },
          "metadata": {
            "tags": []
          },
          "execution_count": 27
        }
      ]
    },
    {
      "cell_type": "code",
      "metadata": {
        "id": "-FcFUBuFMc7Q",
        "colab_type": "code",
        "outputId": "7090754f-604e-4772-a1e7-22d1061e991c",
        "colab": {
          "base_uri": "https://localhost:8080/",
          "height": 34
        }
      },
      "source": [
        "In [67]: np.median(z) # Mediana de los elementos del array"
      ],
      "execution_count": 28,
      "outputs": [
        {
          "output_type": "execute_result",
          "data": {
            "text/plain": [
              "7.3"
            ]
          },
          "metadata": {
            "tags": []
          },
          "execution_count": 28
        }
      ]
    },
    {
      "cell_type": "markdown",
      "metadata": {
        "id": "R4rQwU4UPLiV",
        "colab_type": "text"
      },
      "source": [
        "Los métodos, que se operan de la forma z.sum() también pueden usarse como funciones de tipo sum(z), etc. Consultar el manual de numpy para conocer otras propiedades y métodos de los arrays o simplemente ver la “ayuda” de las funciones que quieran utilizar.\n",
        "\n",
        "Una gran utilidad de los arrays es la posibilidad de usarlos con datos booleanos (True o False) y operar entre ellos o incluso usarlos con arrays con números. Veamos algunos ejemplos:"
      ]
    },
    {
      "cell_type": "code",
      "metadata": {
        "id": "mDkaxwtNPN0W",
        "colab_type": "code",
        "outputId": "50df6f67-de54-4d7b-f5e2-8720b40938c7",
        "colab": {
          "base_uri": "https://localhost:8080/",
          "height": 34
        }
      },
      "source": [
        "In [19]: A = array([True, False, True])\n",
        "In [20]: B = array([False, False, True])\n",
        "\n",
        "In [22]: A*B\n"
      ],
      "execution_count": 32,
      "outputs": [
        {
          "output_type": "execute_result",
          "data": {
            "text/plain": [
              "array([False, False,  True])"
            ]
          },
          "metadata": {
            "tags": []
          },
          "execution_count": 32
        }
      ]
    },
    {
      "cell_type": "code",
      "metadata": {
        "id": "cM-Mgr9IPgfj",
        "colab_type": "code",
        "outputId": "2ca794e7-882d-4943-9d38-fa2c18020c4b",
        "colab": {
          "base_uri": "https://localhost:8080/",
          "height": 34
        }
      },
      "source": [
        "In [29]: C = array([1, 2, 3])\n",
        "In [30]: A*C"
      ],
      "execution_count": 33,
      "outputs": [
        {
          "output_type": "execute_result",
          "data": {
            "text/plain": [
              "array([1, 0, 3])"
            ]
          },
          "metadata": {
            "tags": []
          },
          "execution_count": 33
        }
      ]
    },
    {
      "cell_type": "code",
      "metadata": {
        "id": "uzoug_ZbPg_7",
        "colab_type": "code",
        "outputId": "0ebd0f21-45df-4b42-84c2-1b5f50dc636b",
        "colab": {
          "base_uri": "https://localhost:8080/",
          "height": 34
        }
      },
      "source": [
        "In [31]: B*C"
      ],
      "execution_count": 34,
      "outputs": [
        {
          "output_type": "execute_result",
          "data": {
            "text/plain": [
              "array([0, 0, 3])"
            ]
          },
          "metadata": {
            "tags": []
          },
          "execution_count": 34
        }
      ]
    },
    {
      "cell_type": "markdown",
      "metadata": {
        "id": "StnSG9A7P11O",
        "colab_type": "text"
      },
      "source": [
        "En este ejemplo vemos cómo al multiplicar dos arrays booleanos es resultado es otro array booleano con el resultado que corresponda, pero al multiplicar los arrays booleanos con arrays numéricos, el resultado es un array numérico con los mismos elementos, pero con los elementos que fueron multiplicados por False iguales a cero.\n",
        "\n",
        "Tambíén es posible usar los arrays como índices de otro array y como índices se pueden usar arrays numéricos o booleanos. El resultado será en este caso un array con los elementos que se indique en el array de índices numérico o los elementos correspondientes a True en caso de usar un array de índices booleano. Veámoslo con un ejemplo:"
      ]
    },
    {
      "cell_type": "code",
      "metadata": {
        "id": "xc-EEnCGP27u",
        "colab_type": "code",
        "outputId": "8dd3bcea-42ca-40e6-df16-eec7f5350143",
        "colab": {
          "base_uri": "https://localhost:8080/",
          "height": 68
        }
      },
      "source": [
        "# Array con enteros de 0 a 9\n",
        "In [37]: mi_array = np.arange(0, 100, 10)\n",
        "\n",
        "# Array de índices numericos con numeros de 0-9 de 2 en 2\n",
        "In [38]: indices1 = np.arange(0, 10, 2)\n",
        "\n",
        "# Array de índices booleanos\n",
        "In [39]: indices2 = np.array([False, True, True, False, False, True, False, False, True, True])\n",
        "\n",
        "In [40]: print(mi_array)\n",
        "\n",
        "In [43]: print(mi_array[indices1])\n",
        "\n",
        "In [44]: print(mi_array[indices2])\n"
      ],
      "execution_count": 35,
      "outputs": [
        {
          "output_type": "stream",
          "text": [
            "[ 0 10 20 30 40 50 60 70 80 90]\n",
            "[ 0 20 40 60 80]\n",
            "[10 20 50 80 90]\n"
          ],
          "name": "stdout"
        }
      ]
    },
    {
      "cell_type": "markdown",
      "metadata": {
        "id": "7wwc6hI8RL4C",
        "colab_type": "text"
      },
      "source": [
        "También es muy sencillo y más práctico crear arrays booleanos usando operadores lógicos y luego usalos como índices, por ejemplo:"
      ]
    },
    {
      "cell_type": "code",
      "metadata": {
        "id": "CEQ-whKyROr3",
        "colab_type": "code",
        "outputId": "bdeeb7eb-ab22-415d-ff64-aa6476d801c6",
        "colab": {
          "base_uri": "https://localhost:8080/",
          "height": 51
        }
      },
      "source": [
        "# Creamos un array usando un operador booleano\n",
        "In [50]: mayores50 = mi_array > 50\n",
        "\n",
        "In [51]: print(mayores50)\n",
        "\n",
        "# Lo utilizamos como índices para seleccionar los que cumplen esa condición\n",
        "In [52]: print(mi_array[mayores50])"
      ],
      "execution_count": 36,
      "outputs": [
        {
          "output_type": "stream",
          "text": [
            "[False False False False False False  True  True  True  True]\n",
            "[60 70 80 90]\n"
          ],
          "name": "stdout"
        }
      ]
    },
    {
      "cell_type": "markdown",
      "metadata": {
        "id": "JWTuJzC3RjRJ",
        "colab_type": "text"
      },
      "source": [
        "### **Arrays multidimensionales**\n",
        "Hasta ahora sólo hemos trabajado con arrays con una sola dimensión, pero numpy permite trabajar con arrays de más dimensiones. Un array de dos dimensiones podría ser por ejemplo un array que tuviera como elementos un sistema de ecuaciones o una imagen. Para crearlos podemos hacerlo declarándolos directamente o mediante funciones como np.zeros() o np.ones() dando como parámetro una tupla con la forma del array final que queramos; o también usando np.arange() y crear un array unidimensional y luego cambiar su forma. Veamos algunos ejemplos:"
      ]
    },
    {
      "cell_type": "code",
      "metadata": {
        "id": "3B0WZmzoRm_p",
        "colab_type": "code",
        "outputId": "516620d6-46c2-493e-91c8-109f2f1fc272",
        "colab": {
          "base_uri": "https://localhost:8080/",
          "height": 68
        }
      },
      "source": [
        "# Array de 3 filas y tres columnas, creado implícitamente\n",
        "In [56]: arr0 = np.array([[10,20,30],[9, 99, 999],[0, 2, 3]])\n",
        "In [57]: print(arr0)\n",
        "\n"
      ],
      "execution_count": 38,
      "outputs": [
        {
          "output_type": "stream",
          "text": [
            "[[ 10  20  30]\n",
            " [  9  99 999]\n",
            " [  0   2   3]]\n"
          ],
          "name": "stdout"
        }
      ]
    },
    {
      "cell_type": "code",
      "metadata": {
        "id": "j3Fo5-11TQrK",
        "colab_type": "code",
        "outputId": "c7e0dccb-547e-49b9-d79c-f7f326913239",
        "colab": {
          "base_uri": "https://localhost:8080/",
          "height": 51
        }
      },
      "source": [
        "# Array de ceros con 2 filas y 3 columnas\n",
        "In [57]: arr1 = np.zeros((2,3))\n",
        "In [59]: print(arr1)"
      ],
      "execution_count": 39,
      "outputs": [
        {
          "output_type": "stream",
          "text": [
            "[[0. 0. 0.]\n",
            " [0. 0. 0.]]\n"
          ],
          "name": "stdout"
        }
      ]
    },
    {
      "cell_type": "code",
      "metadata": {
        "id": "T7_i9DpvTRNJ",
        "colab_type": "code",
        "outputId": "08ac8440-92b7-4223-967a-9294a1165ead",
        "colab": {
          "base_uri": "https://localhost:8080/",
          "height": 85
        }
      },
      "source": [
        "# Array de unos con 4 filas y una columna\n",
        "In [62]: arr2 = ones((4,1))\n",
        "In [63]: print(arr2)"
      ],
      "execution_count": 40,
      "outputs": [
        {
          "output_type": "stream",
          "text": [
            "[[1.]\n",
            " [1.]\n",
            " [1.]\n",
            " [1.]]\n"
          ],
          "name": "stdout"
        }
      ]
    },
    {
      "cell_type": "code",
      "metadata": {
        "id": "EDKnfnhcTR2p",
        "colab_type": "code",
        "outputId": "a29e39c6-292e-4f09-b3af-fa7e8fd35733",
        "colab": {
          "base_uri": "https://localhost:8080/",
          "height": 68
        }
      },
      "source": [
        "# Array unidimensional de 9 elementos y cambio su forma a 3x3\n",
        "In [64]: arr3 = np.arange(9).reshape((3, 3))\n",
        "In [65]: print(arr3)"
      ],
      "execution_count": 41,
      "outputs": [
        {
          "output_type": "stream",
          "text": [
            "[[0 1 2]\n",
            " [3 4 5]\n",
            " [6 7 8]]\n"
          ],
          "name": "stdout"
        }
      ]
    },
    {
      "cell_type": "code",
      "metadata": {
        "id": "0-ezLqajTSZy",
        "colab_type": "code",
        "outputId": "27dc781f-a966-4646-f31a-eb473457a0dd",
        "colab": {
          "base_uri": "https://localhost:8080/",
          "height": 34
        }
      },
      "source": [
        "In [69]: arr2.shape"
      ],
      "execution_count": 42,
      "outputs": [
        {
          "output_type": "execute_result",
          "data": {
            "text/plain": [
              "(4, 1)"
            ]
          },
          "metadata": {
            "tags": []
          },
          "execution_count": 42
        }
      ]
    },
    {
      "cell_type": "markdown",
      "metadata": {
        "id": "hIFYfkN4TBez",
        "colab_type": "text"
      },
      "source": [
        "Como vemos en la última línea, la forma o shape() de los arrays se sigue dando como una tupla, con la dimensión de cada eje separado por comas; en ese caso la primera dimensión son las cuatro filas y la segunda dimensión o eje es una columna. Es por eso que al usar las funciones zeros(), ones(), reshape(), etc. hay que asegurarse que el parámetro de entrada es una tupla con la longitud de cada eje. Cuando usamos la función len() en un array bidimensional, el resultado es la longitud del primer eje o dimensión, es decir, len(arr2) es 4.\n",
        "\n",
        "El acceso a los elementos es el habitual, pero ahora hay que tener en cuenta el eje al que nos referimos; además podemos utilizar ”:” como comodín para referirnos a todo el eje. Por ejemplo:"
      ]
    },
    {
      "cell_type": "code",
      "metadata": {
        "id": "R6rLWJvUTDJC",
        "colab_type": "code",
        "outputId": "73736854-db9b-4de7-a9dd-a864d940e5fd",
        "colab": {
          "base_uri": "https://localhost:8080/",
          "height": 34
        }
      },
      "source": [
        "# Primer elemento de la primera fila y primera columna (0,0)\n",
        "In [86]: arr0[0,0]\n"
      ],
      "execution_count": 43,
      "outputs": [
        {
          "output_type": "execute_result",
          "data": {
            "text/plain": [
              "10"
            ]
          },
          "metadata": {
            "tags": []
          },
          "execution_count": 43
        }
      ]
    },
    {
      "cell_type": "code",
      "metadata": {
        "id": "zT0mFiPQT51w",
        "colab_type": "code",
        "outputId": "1fefea44-86fd-456a-d34b-c428b9282505",
        "colab": {
          "base_uri": "https://localhost:8080/",
          "height": 34
        }
      },
      "source": [
        "# Primera columna\n",
        "In [87]: arr0[:,0]"
      ],
      "execution_count": 44,
      "outputs": [
        {
          "output_type": "execute_result",
          "data": {
            "text/plain": [
              "array([10,  9,  0])"
            ]
          },
          "metadata": {
            "tags": []
          },
          "execution_count": 44
        }
      ]
    },
    {
      "cell_type": "code",
      "metadata": {
        "id": "z17QHpv0T6wX",
        "colab_type": "code",
        "outputId": "afe4163e-a881-4efe-c550-d352987fe420",
        "colab": {
          "base_uri": "https://localhost:8080/",
          "height": 34
        }
      },
      "source": [
        "# Primera fila\n",
        "In [88]: arr0[0,:]"
      ],
      "execution_count": 45,
      "outputs": [
        {
          "output_type": "execute_result",
          "data": {
            "text/plain": [
              "array([10, 20, 30])"
            ]
          },
          "metadata": {
            "tags": []
          },
          "execution_count": 45
        }
      ]
    },
    {
      "cell_type": "code",
      "metadata": {
        "id": "aoKALoAWT7IY",
        "colab_type": "code",
        "outputId": "fa9acc4f-d97e-4ecb-a578-9022e4ff5702",
        "colab": {
          "base_uri": "https://localhost:8080/",
          "height": 34
        }
      },
      "source": [
        "# Elementos 0 y 1 de la primera fila\n",
        "In [89]: arr0[0,:2]"
      ],
      "execution_count": 46,
      "outputs": [
        {
          "output_type": "execute_result",
          "data": {
            "text/plain": [
              "array([10, 20])"
            ]
          },
          "metadata": {
            "tags": []
          },
          "execution_count": 46
        }
      ]
    },
    {
      "cell_type": "markdown",
      "metadata": {
        "id": "6z8fpYOMUJ1O",
        "colab_type": "text"
      },
      "source": [
        "Igualmente podemos modificar un array bidimensional usando sus índices:"
      ]
    },
    {
      "cell_type": "code",
      "metadata": {
        "id": "p_wZ5iZgUK9n",
        "colab_type": "code",
        "outputId": "ee088270-8971-47aa-fd58-7a0ac6f27616",
        "colab": {
          "base_uri": "https://localhost:8080/",
          "height": 68
        }
      },
      "source": [
        "# Asignamos el primer elemento a 88\n",
        "In [91]: arr0[0, 0] = 88\n",
        "# Asignamos elementos 0 y 1 de la segunda fila\n",
        "In [92]: arr0[1, :2] = [50,60]\n",
        "# Multiplicamos por 10 la última fila\n",
        "In [93]: arr0[-1, :] = arr0[-1, :]*10\n",
        "\n",
        "In [94]: print(arr0)"
      ],
      "execution_count": 48,
      "outputs": [
        {
          "output_type": "stream",
          "text": [
            "[[ 88  20  30]\n",
            " [ 50  60 999]\n",
            " [  0 200 300]]\n"
          ],
          "name": "stdout"
        }
      ]
    },
    {
      "cell_type": "markdown",
      "metadata": {
        "id": "qBxQNMg6UU18",
        "colab_type": "text"
      },
      "source": [
        "### **Cambiando el tamaño de arrays**\n",
        "Hemos visto que es fácil quitar y poner elementos nuevos en un array unidimensional. Pero con dos o más dimensiones es algo más complicado porque estamos limitados a la estructura y número de elementos del array. Podemos cambiar la forma (shape) de un array a otra que tenga el mismo número de elementos fácilmente usado reshape():"
      ]
    },
    {
      "cell_type": "code",
      "metadata": {
        "id": "pugHfX9WUXLA",
        "colab_type": "code",
        "outputId": "067dd097-f2c4-4a52-d56f-8da64a0adb5e",
        "colab": {
          "base_uri": "https://localhost:8080/",
          "height": 34
        }
      },
      "source": [
        "In [91]: numeros = arange(10000)  # Array unidimensional de 10000 numeros\n",
        "In [92]: numeros_2D = numeros.reshape((100, 100))\n",
        "In [93]: numeros_3D = numeros.reshape((100, 10, 10))\n",
        "\n",
        "In [94]: numeros.shape\n"
      ],
      "execution_count": 49,
      "outputs": [
        {
          "output_type": "execute_result",
          "data": {
            "text/plain": [
              "(10000,)"
            ]
          },
          "metadata": {
            "tags": []
          },
          "execution_count": 49
        }
      ]
    },
    {
      "cell_type": "code",
      "metadata": {
        "id": "8ccmiQ3eUgEU",
        "colab_type": "code",
        "outputId": "e0ca5008-21d3-410e-bb33-9f90040962bc",
        "colab": {
          "base_uri": "https://localhost:8080/",
          "height": 136
        }
      },
      "source": [
        "In [95]: numeros_2D.shape\n",
        "print(numeros_2D)"
      ],
      "execution_count": 52,
      "outputs": [
        {
          "output_type": "stream",
          "text": [
            "[[   0    1    2 ...   97   98   99]\n",
            " [ 100  101  102 ...  197  198  199]\n",
            " [ 200  201  202 ...  297  298  299]\n",
            " ...\n",
            " [9700 9701 9702 ... 9797 9798 9799]\n",
            " [9800 9801 9802 ... 9897 9898 9899]\n",
            " [9900 9901 9902 ... 9997 9998 9999]]\n"
          ],
          "name": "stdout"
        }
      ]
    },
    {
      "cell_type": "code",
      "metadata": {
        "id": "fSwGmh_-UgTs",
        "colab_type": "code",
        "outputId": "ad5ec637-e71d-44ed-8bb9-20719fe4268b",
        "colab": {
          "base_uri": "https://localhost:8080/",
          "height": 850
        }
      },
      "source": [
        "In [95]: numeros_3D.shape\n",
        "print(numeros_3D)"
      ],
      "execution_count": 54,
      "outputs": [
        {
          "output_type": "stream",
          "text": [
            "[[[   0    1    2 ...    7    8    9]\n",
            "  [  10   11   12 ...   17   18   19]\n",
            "  [  20   21   22 ...   27   28   29]\n",
            "  ...\n",
            "  [  70   71   72 ...   77   78   79]\n",
            "  [  80   81   82 ...   87   88   89]\n",
            "  [  90   91   92 ...   97   98   99]]\n",
            "\n",
            " [[ 100  101  102 ...  107  108  109]\n",
            "  [ 110  111  112 ...  117  118  119]\n",
            "  [ 120  121  122 ...  127  128  129]\n",
            "  ...\n",
            "  [ 170  171  172 ...  177  178  179]\n",
            "  [ 180  181  182 ...  187  188  189]\n",
            "  [ 190  191  192 ...  197  198  199]]\n",
            "\n",
            " [[ 200  201  202 ...  207  208  209]\n",
            "  [ 210  211  212 ...  217  218  219]\n",
            "  [ 220  221  222 ...  227  228  229]\n",
            "  ...\n",
            "  [ 270  271  272 ...  277  278  279]\n",
            "  [ 280  281  282 ...  287  288  289]\n",
            "  [ 290  291  292 ...  297  298  299]]\n",
            "\n",
            " ...\n",
            "\n",
            " [[9700 9701 9702 ... 9707 9708 9709]\n",
            "  [9710 9711 9712 ... 9717 9718 9719]\n",
            "  [9720 9721 9722 ... 9727 9728 9729]\n",
            "  ...\n",
            "  [9770 9771 9772 ... 9777 9778 9779]\n",
            "  [9780 9781 9782 ... 9787 9788 9789]\n",
            "  [9790 9791 9792 ... 9797 9798 9799]]\n",
            "\n",
            " [[9800 9801 9802 ... 9807 9808 9809]\n",
            "  [9810 9811 9812 ... 9817 9818 9819]\n",
            "  [9820 9821 9822 ... 9827 9828 9829]\n",
            "  ...\n",
            "  [9870 9871 9872 ... 9877 9878 9879]\n",
            "  [9880 9881 9882 ... 9887 9888 9889]\n",
            "  [9890 9891 9892 ... 9897 9898 9899]]\n",
            "\n",
            " [[9900 9901 9902 ... 9907 9908 9909]\n",
            "  [9910 9911 9912 ... 9917 9918 9919]\n",
            "  [9920 9921 9922 ... 9927 9928 9929]\n",
            "  ...\n",
            "  [9970 9971 9972 ... 9977 9978 9979]\n",
            "  [9980 9981 9982 ... 9987 9988 9989]\n",
            "  [9990 9991 9992 ... 9997 9998 9999]]]\n"
          ],
          "name": "stdout"
        }
      ]
    },
    {
      "cell_type": "markdown",
      "metadata": {
        "id": "aGVERcO7Uxgg",
        "colab_type": "text"
      },
      "source": [
        "Para añadir más filas o columnas a un array, la forma más efectiva en crear un array nuevo con la forma deseada y luego añadir las filas o columnas, por ejemplo:"
      ]
    },
    {
      "cell_type": "code",
      "metadata": {
        "id": "ZjUY6U-FUyt-",
        "colab_type": "code",
        "colab": {}
      },
      "source": [
        "In [100]: A = np.arange(0, 10)\n",
        "In [101]: B = np.arange(100, 1100, 100)\n",
        "In [102]: C = np.zeros((len(A), 2))  # 10 filas, dos columnas\n",
        "\n",
        "In [103]: C[:,0] = A\n",
        "In [104]: C[:,1] = B"
      ],
      "execution_count": 0,
      "outputs": []
    },
    {
      "cell_type": "markdown",
      "metadata": {
        "id": "i_PRGKxpU_h1",
        "colab_type": "text"
      },
      "source": [
        "Existen otros métodos de manipulación de la forma de los arrays como hstack(), vstack() o tile() entre otras."
      ]
    },
    {
      "cell_type": "markdown",
      "metadata": {
        "id": "_2NI7ufzVE4I",
        "colab_type": "text"
      },
      "source": [
        "### **Filtros y máscaras de arrays. Arrays enmascarados**\n",
        "Una de las mejores utilidades de numpy es trabajar con índices y máscaras de datos para limitar o seleccionar parte de los datos. Supongamos que tenemos un array de datos, pero que solo nos interesa los positivos, que queremos manipular después. Hay varias formas de seleccionarlos definiendo un array máscara con la condición que nos interesa:"
      ]
    },
    {
      "cell_type": "code",
      "metadata": {
        "id": "IbdoAotCVIrx",
        "colab_type": "code",
        "outputId": "6c0f01e4-d82c-49aa-aa7a-12ab1597398e",
        "colab": {
          "base_uri": "https://localhost:8080/",
          "height": 34
        }
      },
      "source": [
        "In [264]: datos = array([3, 7, -2, 6, 7, -8, 11, -1, -2, 8])\n",
        "\n",
        "In [265]: datos\n"
      ],
      "execution_count": 55,
      "outputs": [
        {
          "output_type": "execute_result",
          "data": {
            "text/plain": [
              "array([ 3,  7, -2,  6,  7, -8, 11, -1, -2,  8])"
            ]
          },
          "metadata": {
            "tags": []
          },
          "execution_count": 55
        }
      ]
    },
    {
      "cell_type": "code",
      "metadata": {
        "id": "B5xMnWhFVTkQ",
        "colab_type": "code",
        "outputId": "3384d094-7e24-4833-d6e1-3cb67a7edb83",
        "colab": {
          "base_uri": "https://localhost:8080/",
          "height": 51
        }
      },
      "source": [
        "In [266]: mask = datos >= 0\n",
        "In [267]: mask"
      ],
      "execution_count": 56,
      "outputs": [
        {
          "output_type": "execute_result",
          "data": {
            "text/plain": [
              "array([ True,  True, False,  True,  True, False,  True, False, False,\n",
              "        True])"
            ]
          },
          "metadata": {
            "tags": []
          },
          "execution_count": 56
        }
      ]
    },
    {
      "cell_type": "code",
      "metadata": {
        "id": "5-kzlwitVT0o",
        "colab_type": "code",
        "outputId": "0f32eee2-68dc-4abe-fa86-bcc6ce0dd366",
        "colab": {
          "base_uri": "https://localhost:8080/",
          "height": 34
        }
      },
      "source": [
        "In [268]: datos*mask"
      ],
      "execution_count": 57,
      "outputs": [
        {
          "output_type": "execute_result",
          "data": {
            "text/plain": [
              "array([ 3,  7,  0,  6,  7,  0, 11,  0,  0,  8])"
            ]
          },
          "metadata": {
            "tags": []
          },
          "execution_count": 57
        }
      ]
    },
    {
      "cell_type": "code",
      "metadata": {
        "id": "bGl0Kn3YVUHp",
        "colab_type": "code",
        "outputId": "6f09373d-5935-4076-cc52-0d4c9a87d9de",
        "colab": {
          "base_uri": "https://localhost:8080/",
          "height": 34
        }
      },
      "source": [
        "In [269]: datos[mask]"
      ],
      "execution_count": 58,
      "outputs": [
        {
          "output_type": "execute_result",
          "data": {
            "text/plain": [
              "array([ 3,  7,  6,  7, 11,  8])"
            ]
          },
          "metadata": {
            "tags": []
          },
          "execution_count": 58
        }
      ]
    },
    {
      "cell_type": "markdown",
      "metadata": {
        "id": "CYsngpBXVqVn",
        "colab_type": "text"
      },
      "source": [
        "Usando un array mask de booleanos, podemos operar con el el array de datos, cuando un valor se multiplica por True es equivalente a multiplicarse por 1 y si es con False, a multiplicarse por 0. Por eso el resultado es un array del mismo tamaño, pero los elementos que no cumplen la condición se hacen 0.\n",
        "\n",
        "Si por el contrario usarmos usamos mask como un array de índices, el resultado es un array con los elementos cuyo índice corresponda con True, ignorando los de índice False. Usaremos uno u otro según lo que queramos hacer, el truco consiste es crear de manera correcta la máscara de datos.\n",
        "\n",
        "Veamos el caso de un array 2D con dos columnas, pero queremos limitar todos los datos en criterios en las dos columnas. Primero creamos una máscara como producto de las dos condiciones, y luego la usamos como array de índices en el array original:"
      ]
    },
    {
      "cell_type": "code",
      "metadata": {
        "id": "AlMzbgELVtMX",
        "colab_type": "code",
        "outputId": "6be6e356-8326-4f24-e8e9-c10ccdabcd84",
        "colab": {
          "base_uri": "https://localhost:8080/",
          "height": 187
        }
      },
      "source": [
        "In [270]: from numpy import random\n",
        "\n",
        "In [278]: datos2 = random.randint(-10, 20, (10,2))\n",
        "\n",
        "In [279]: datos2\n"
      ],
      "execution_count": 64,
      "outputs": [
        {
          "output_type": "execute_result",
          "data": {
            "text/plain": [
              "array([[-10,  -1],\n",
              "       [ 12,  -7],\n",
              "       [ 16,   1],\n",
              "       [ -5,  -2],\n",
              "       [  7,  13],\n",
              "       [ 11,   6],\n",
              "       [ 11,   7],\n",
              "       [  3,   4],\n",
              "       [ 15,   9],\n",
              "       [  8,  -8]])"
            ]
          },
          "metadata": {
            "tags": []
          },
          "execution_count": 64
        }
      ]
    },
    {
      "cell_type": "code",
      "metadata": {
        "id": "1cFMo4OtVyxo",
        "colab_type": "code",
        "outputId": "50550537-ae0d-4beb-a60a-63a9a18365c5",
        "colab": {
          "base_uri": "https://localhost:8080/",
          "height": 51
        }
      },
      "source": [
        "# Solo queremos los datos que el la columna 0 sean mayores\n",
        "# que 0 pero menores que 10 en la columna 1\n",
        "In [284]: condicion1 = datos2[:,0] > 0\n",
        "In [285]: condicion2 = datos2[:,1] < 10\n",
        "In [286]: mask_col0 = condicion1*condicion2\n",
        "\n",
        "In [287]: mask_col0"
      ],
      "execution_count": 71,
      "outputs": [
        {
          "output_type": "execute_result",
          "data": {
            "text/plain": [
              "array([False,  True,  True, False, False,  True,  True,  True,  True,\n",
              "        True])"
            ]
          },
          "metadata": {
            "tags": []
          },
          "execution_count": 71
        }
      ]
    },
    {
      "cell_type": "code",
      "metadata": {
        "id": "10_rFSyfVzC5",
        "colab_type": "code",
        "outputId": "ae3229a8-099d-4fce-8baa-57a5b37fb326",
        "colab": {
          "base_uri": "https://localhost:8080/",
          "height": 136
        }
      },
      "source": [
        "In [288]: datos2[mask_col0]"
      ],
      "execution_count": 72,
      "outputs": [
        {
          "output_type": "execute_result",
          "data": {
            "text/plain": [
              "array([[12, -7],\n",
              "       [16,  1],\n",
              "       [11,  6],\n",
              "       [11,  7],\n",
              "       [ 3,  4],\n",
              "       [15,  9],\n",
              "       [ 8, -8]])"
            ]
          },
          "metadata": {
            "tags": []
          },
          "execution_count": 72
        }
      ]
    },
    {
      "cell_type": "markdown",
      "metadata": {
        "id": "j-Z4nF1_XH-l",
        "colab_type": "text"
      },
      "source": [
        "Como se ve, el resultado en un array de dos columna, donde en la primera columna son todos positivos y en la segunda menores que +10. ¿Y si queremos que al menos se cumpla una condición? Simplemente tenermos que sumar las dos máscaras (las de cada columna) en lugar de multiplicarla, básicamente es como multiplicar o sumar unos o ceros (True o False).\n",
        "\n",
        "Como este tipo de operaciones tienen mucho potencial y pueden llegar a se complejas. numpy tiene un módulo que puede ayudar en estos casos, que es el de arrays enmascarados (numpy.ma). Se trata de un tipo de datos que permite ignorar algunos elementos de un array según ciertas condiciones. Vemos un ejemplo:"
      ]
    },
    {
      "cell_type": "code",
      "metadata": {
        "id": "vRjnWEsNXJdq",
        "colab_type": "code",
        "outputId": "c5c186a2-6668-432e-98a6-7dc5bd9fa27f",
        "colab": {
          "base_uri": "https://localhost:8080/",
          "height": 51
        }
      },
      "source": [
        "In [300]: import numpy.ma as ma\n",
        "In [301]: x = array([1, 2, 3, -1, 6])\n",
        "\n",
        "In [302]: # Enmascaramos en cuarto elemento\n",
        "In [303]: mx = ma.masked_array(x, mask=[0, 0, 0, 1, 0])\n",
        "\n",
        "In [304]: print(mx.mean())\n",
        "print(mx)\n"
      ],
      "execution_count": 73,
      "outputs": [
        {
          "output_type": "stream",
          "text": [
            "3.0\n",
            "[1 2 3 -- 6]\n"
          ],
          "name": "stdout"
        }
      ]
    },
    {
      "cell_type": "code",
      "metadata": {
        "id": "fKxH8ZLpXeq_",
        "colab_type": "code",
        "outputId": "ab32d285-3485-44ad-ef17-a6db43e611c5",
        "colab": {
          "base_uri": "https://localhost:8080/",
          "height": 34
        }
      },
      "source": [
        "In [305]: print(x.mean())"
      ],
      "execution_count": 74,
      "outputs": [
        {
          "output_type": "stream",
          "text": [
            "2.2\n"
          ],
          "name": "stdout"
        }
      ]
    },
    {
      "cell_type": "markdown",
      "metadata": {
        "id": "LC1HGyL6b8aA",
        "colab_type": "text"
      },
      "source": [
        "Como se ve, el array enmascarado ha ignorado el valor que se enmascara con True dando un resultado distinto en la media, pero no lo ha eliminado del array."
      ]
    },
    {
      "cell_type": "code",
      "metadata": {
        "id": "tFV2SLwpb-al",
        "colab_type": "code",
        "outputId": "e011f591-50ff-4203-efc2-47f5004c57cd",
        "colab": {
          "base_uri": "https://localhost:8080/",
          "height": 68
        }
      },
      "source": [
        "In [300]: import numpy.ma as ma\n",
        "In [301]: x = array([1, 2, 3, -1, 6])\n",
        "\n",
        "In [302]: # Enmascaramos en cuarto elemento\n",
        "In [303]: mx = ma.masked_array(x, mask=[0, 0, 0, 1, 0])\n",
        "\n",
        "In [313]: x.view(ma.MaskedArray)\n",
        "\n"
      ],
      "execution_count": 75,
      "outputs": [
        {
          "output_type": "execute_result",
          "data": {
            "text/plain": [
              "masked_array(data=[ 1,  2,  3, -1,  6],\n",
              "             mask=False,\n",
              "       fill_value=999999)"
            ]
          },
          "metadata": {
            "tags": []
          },
          "execution_count": 75
        }
      ]
    },
    {
      "cell_type": "code",
      "metadata": {
        "id": "YlWjWFDEd4IS",
        "colab_type": "code",
        "outputId": "b7df1cb8-d908-42f8-c3f8-b0f38cae4a98",
        "colab": {
          "base_uri": "https://localhost:8080/",
          "height": 68
        }
      },
      "source": [
        "In [314]: mx.view(ma.MaskedArray)"
      ],
      "execution_count": 76,
      "outputs": [
        {
          "output_type": "execute_result",
          "data": {
            "text/plain": [
              "masked_array(data=[1, 2, 3, --, 6],\n",
              "             mask=[False, False, False,  True, False],\n",
              "       fill_value=999999)"
            ]
          },
          "metadata": {
            "tags": []
          },
          "execution_count": 76
        }
      ]
    },
    {
      "cell_type": "markdown",
      "metadata": {
        "id": "HScxPTnoeX47",
        "colab_type": "text"
      },
      "source": [
        "Podemos usar algunas funciones de ma para crear las máscaras, como masked_greater(), masked_inside(), masked_where(), etc."
      ]
    },
    {
      "cell_type": "code",
      "metadata": {
        "id": "WZoCiMudeY9H",
        "colab_type": "code",
        "outputId": "9d72ea2b-5cee-4a1a-d647-c23e94baba41",
        "colab": {
          "base_uri": "https://localhost:8080/",
          "height": 90
        }
      },
      "source": [
        "In [320]: a = np.arange(4)\n",
        "In [321]: print(a)\n",
        "array([0, 1, 2, 3])\n",
        "\n",
        "In [322]: ma.masked_where(a <= 2, a)"
      ],
      "execution_count": 0,
      "outputs": [
        {
          "output_type": "stream",
          "text": [
            "[0 1 2 3]\n"
          ],
          "name": "stdout"
        },
        {
          "output_type": "execute_result",
          "data": {
            "text/plain": [
              "masked_array(data=[--, --, --, 3],\n",
              "             mask=[ True,  True,  True, False],\n",
              "       fill_value=999999)"
            ]
          },
          "metadata": {
            "tags": []
          },
          "execution_count": 81
        }
      ]
    },
    {
      "cell_type": "markdown",
      "metadata": {
        "id": "GZFUtQkderop",
        "colab_type": "text"
      },
      "source": [
        "### **Arrays estructurados**\n",
        "Aunque los arrays pueden contener cualquier tipo de dato, los arrays normales sólo pueden ser de un único tipo. Para esto extiste una variante de arrays para contenidos complejos o estructurados, llamado structured arrays, que permiten tratar arrays por estructuras o por campos de estruturas. Además de poder contener distintos tipos de datos, facilitan el acceso por columnas. Vemos un ejemplo con un array con distintos tipos de datos:"
      ]
    },
    {
      "cell_type": "code",
      "metadata": {
        "id": "JX7UGcbmeuIx",
        "colab_type": "code",
        "outputId": "139dcb98-5e6f-4a8e-ea4e-2b895daa1fa3",
        "colab": {
          "base_uri": "https://localhost:8080/",
          "height": 68
        }
      },
      "source": [
        "In [327]: # Array estucturado de 5 elementos, vacio\n",
        "In [328]: galaxies = np.zeros(5, dtype = {'names': ('name', 'order', 'type', 'magnitude'),\n",
        "                          'formats': ('U16', 'i4', 'U10', 'f8')})\n",
        "\n",
        "In [329]: # Listas de datos para contruir el array estructurado\n",
        "In [330]: names = [\"M 81\", \"NGC 253\", \"M 51\", \"NGC 4676\", \"M 106\"]\n",
        "In [331]: types = [\"SA(s)b\", \"SAB(s)c\", \"Sc\", \"Irr\", \"SAB(s)bc\"]\n",
        "In [332]: magnitudes = [6.93, 7.1, 8.4, 14.7, 9.1]\n",
        "In [333]: order = list(range(5))\n",
        "\n",
        "In [334]: # Anhadimos valores a los campos (columnas)\n",
        "In [335]: galaxies['name'] = names\n",
        "In [336]: galaxies['type'] = types\n",
        "In [337]: galaxies['magnitude'] = magnitudes\n",
        "In [338]: galaxies['order'] = order\n",
        "\n",
        "In [339]: print(galaxies)"
      ],
      "execution_count": 77,
      "outputs": [
        {
          "output_type": "stream",
          "text": [
            "[('M 81', 0, 'SA(s)b',  6.93) ('NGC 253', 1, 'SAB(s)c',  7.1 )\n",
            " ('M 51', 2, 'Sc',  8.4 ) ('NGC 4676', 3, 'Irr', 14.7 )\n",
            " ('M 106', 4, 'SAB(s)bc',  9.1 )]\n"
          ],
          "name": "stdout"
        }
      ]
    },
    {
      "cell_type": "markdown",
      "metadata": {
        "id": "iO5GHmJTf1z4",
        "colab_type": "text"
      },
      "source": [
        "Se trata de un array con cinco entradas (o records) y cada una de ellas posee cuatro campos de distinto tipo, indicados con la propiedad dtype. En este caso son un string unicode de longitud máxima 16 (U16), un entero 4 bytes (i.e. 32 bit) (i4), string unicode de longitud máxima 16 (U16) y un float de 4 bytes (i.e. 64 bit). El dtype de numpy describe cómo interpretar cada elemento en bytes de bloques de memoria fijos. No sólo se trata de si son float, int, etc., el dtype describe lo siguiente:\n",
        "\n",
        "Tipo de dato (int, float, objeto Python, etc.)\n",
        "\n",
        "Tamaño del dato (cuantos bytes puede ocupar)\n",
        "\n",
        "Orden de bytes de datos (little-endian o big-endian)\n",
        "\n",
        "Si son datos estructurado (por ejemplo mezcla de tipos de dato), también:\n",
        "\n",
        "Nombre de los campos\n",
        "\n",
        "Tipo de dato de cada campo\n",
        "\n",
        "Qué parte del bloque de memoria ocupa cada campo\n",
        "\n",
        "Si en dato es un sub-array, su forma y tipo de dato\n",
        "\n",
        "De manera resumida, para definir el tipo de cada elemento podemos usar una de las siguientes cadenas:"
      ]
    },
    {
      "cell_type": "code",
      "metadata": {
        "id": "Gtk-9jZNf3O2",
        "colab_type": "code",
        "colab": {
          "base_uri": "https://localhost:8080/",
          "height": 129
        },
        "outputId": "8648048b-16cd-4886-e85b-5f1c5b933487"
      },
      "source": [
        "b1, i1, i2, i4, i8, u1, u2, u4, u8, f2, f4, f8, c8, c16, a<n>"
      ],
      "execution_count": 78,
      "outputs": [
        {
          "output_type": "error",
          "ename": "SyntaxError",
          "evalue": "ignored",
          "traceback": [
            "\u001b[0;36m  File \u001b[0;32m\"<ipython-input-78-9c61e0dd7dbc>\"\u001b[0;36m, line \u001b[0;32m1\u001b[0m\n\u001b[0;31m    b1, i1, i2, i4, i8, u1, u2, u4, u8, f2, f4, f8, c8, c16, a<n>\u001b[0m\n\u001b[0m                                                                 ^\u001b[0m\n\u001b[0;31mSyntaxError\u001b[0m\u001b[0;31m:\u001b[0m invalid syntax\n"
          ]
        }
      ]
    },
    {
      "cell_type": "markdown",
      "metadata": {
        "id": "vajUuxQ5gWi0",
        "colab_type": "text"
      },
      "source": [
        "que representan, respectivamente, bytes, ints, unsigned ints, floats, complex y strings de longitud fija. También se pueden usar los tipos de datos estándar de Python equivalentes (int, float, etc.)\n",
        "\n",
        "Teniendo un array estructurado como el anterior, podemos ver cada elemento haciendo el indexado habitual y también por campos (columnas):"
      ]
    },
    {
      "cell_type": "code",
      "metadata": {
        "id": "nmdQQ8HXgXvS",
        "colab_type": "code",
        "outputId": "7a6dc5c6-dad8-4f3e-fe45-f7fe99c3d481",
        "colab": {
          "base_uri": "https://localhost:8080/",
          "height": 85
        }
      },
      "source": [
        "In [350]: print(galaxies)\n",
        "\n",
        "In [351]: # Columna 'name' del array\n",
        "In [352]: galaxies['name']\n",
        "\n",
        "In [353]: # Primer elemento del array, con todos los campos (columnas)\n",
        "In [354]: galaxies[0]\n",
        "\n",
        "In [355]: # Nombres de galaxias más brillantes que magnitud 9\n",
        "In [356]: galaxies[galaxies['magnitude'] < 9]['name']"
      ],
      "execution_count": 79,
      "outputs": [
        {
          "output_type": "stream",
          "text": [
            "[('M 81', 0, 'SA(s)b',  6.93) ('NGC 253', 1, 'SAB(s)c',  7.1 )\n",
            " ('M 51', 2, 'Sc',  8.4 ) ('NGC 4676', 3, 'Irr', 14.7 )\n",
            " ('M 106', 4, 'SAB(s)bc',  9.1 )]\n"
          ],
          "name": "stdout"
        },
        {
          "output_type": "execute_result",
          "data": {
            "text/plain": [
              "array(['M 81', 'NGC 253', 'M 51'], dtype='<U16')"
            ]
          },
          "metadata": {
            "tags": []
          },
          "execution_count": 79
        }
      ]
    },
    {
      "cell_type": "markdown",
      "metadata": {
        "id": "3oKgBngdgwxc",
        "colab_type": "text"
      },
      "source": [
        "Adicionalmente, numpy tiene una subclase de array estructurado llamado record array que básicamente es idéntico a los arrays estructurados pero permite el acceso a los campos como métodos además de como índice. Se declaran igual que los estructurados usando np.rec.array(), pero podemos convertir el anterior de la siguiente forma:"
      ]
    },
    {
      "cell_type": "code",
      "metadata": {
        "id": "-oIyF49Zgx9g",
        "colab_type": "code",
        "colab": {}
      },
      "source": [
        "In [360]: # Array estructurado a record array\n",
        "In [361]: galaxies_ra = galaxies.view(np.recarray)\n",
        "\n",
        "In [362]: # Acceso al campo name como un método, en lugar de galaxies_ra['name']\n",
        "In [363]: galaxies_ra.name\n",
        "Out[364]: array(['M 81', 'NGC 253', 'M 51', 'NGC 4676', 'M 106'], dtype='<U16')"
      ],
      "execution_count": 0,
      "outputs": []
    },
    {
      "cell_type": "markdown",
      "metadata": {
        "id": "r-qq7sMDhtxE",
        "colab_type": "text"
      },
      "source": [
        "### **Lectura y escritura de datos con numpy**\n",
        "numpy posee algunos métodos de lectura de ficheros de texto que nos pueden facilitar la vida si son relativamente sencillos. El más básico es np.loadtxt(); si todos las columnas del fichero son numéricas, basta con indicar el delimitador de columnas si es distinto de espacios:"
      ]
    },
    {
      "cell_type": "code",
      "metadata": {
        "id": "yG9fhY5yhzrz",
        "colab_type": "code",
        "colab": {}
      },
      "source": [
        "In [400]: # Leo un fichero de datos con campos delimitados por \";\"\n",
        "In [401]: data = np.loadtxt(\"medidas_radio.txt\", delimiter=\";\")\n",
        "\n",
        "In [402]: data.shape\n",
        "Out[402]: (480, 2)"
      ],
      "execution_count": 0,
      "outputs": []
    },
    {
      "cell_type": "markdown",
      "metadata": {
        "id": "mfehmVeSidsE",
        "colab_type": "text"
      },
      "source": [
        "Si hay más de una columna como en este ejemplo, np.loadtxt() devuelve un array bidimiensional en el que primera dimensión o eje son las filas y el segundo las columnas, de maneras que el fichero que acabamos de leer tiene 480 filas y dos columnas. Quizás sea más práctico poner la columnas por separado, para lo que podemos hacer:"
      ]
    },
    {
      "cell_type": "code",
      "metadata": {
        "id": "by1YlwQeierz",
        "colab_type": "code",
        "colab": {}
      },
      "source": [
        "In [405]: tiempo = data[:, 0]  # tiempo, la primera columna\n",
        "In [406]: masa = data[:, 1]    # masa, la segunda columna"
      ],
      "execution_count": 0,
      "outputs": []
    },
    {
      "cell_type": "markdown",
      "metadata": {
        "id": "46AicUU-ionQ",
        "colab_type": "text"
      },
      "source": [
        "pero si al leer añadimos el parámetro unpack=True, np.loadtxt() desempaqueta por columnas en lugar de por filas (como si invirtiera el array), permitiéndonos desempaquetar en variables las columnas, que ahora están en el eje 0:"
      ]
    },
    {
      "cell_type": "code",
      "metadata": {
        "id": "_PPcE3O9iphA",
        "colab_type": "code",
        "colab": {}
      },
      "source": [
        "In [410]: tiempo, masa = np.loadtxt(\"medidas_radio.txt\", delimiter=\";\", unpack=True)"
      ],
      "execution_count": 0,
      "outputs": []
    },
    {
      "cell_type": "markdown",
      "metadata": {
        "id": "ZcBfhmxii128",
        "colab_type": "text"
      },
      "source": [
        "Si el fichero a leer tiene distintos tipos datos (string y float), hay que indicar con el parámetro dtype la lista de tipos de dato que tienen las columnas que queremos leer. En este caso es más práctico usar el método np.genfromtxt(), que similar a loadtxt() pero más flexible para leer columnas de distinto tipo. Si usamos np.genfromtxt() con el parámetro dtype, que puede ser una lista con tuplas nombre-tipo, podemos indicar el nombre de la columna y el tipo dato que contiene, creando un array estructurado como vimos antes:"
      ]
    },
    {
      "cell_type": "code",
      "metadata": {
        "id": "kH8-c5TMi2uV",
        "colab_type": "code",
        "colab": {}
      },
      "source": [
        "In [420]: dtypes = [('tiempo', 'float'), ('masa', 'float')]\n",
        "In [421]: data = np.genfromtxt('medidas_radio.txt', dtype=dtypes)"
      ],
      "execution_count": 0,
      "outputs": []
    },
    {
      "cell_type": "markdown",
      "metadata": {
        "id": "Ssef-f1ajA-7",
        "colab_type": "text"
      },
      "source": [
        "En este caso ya no hay que usar el desempaquetado, porque tenemos un array estructurado con columnas con nombre data['tiempo'] y data['masa'].\n",
        "\n",
        "De manera similar, podemos usar np.savetxt() para guardar un fichero de datos por columnas:"
      ]
    },
    {
      "cell_type": "code",
      "metadata": {
        "id": "7Wmfh5EcjCBz",
        "colab_type": "code",
        "colab": {}
      },
      "source": [
        "# Guardamos un array datos en un fichero de texto, con los campos\n",
        "# delimitados por tabulador (\\t) en formato float con dos decimales\n",
        "# y le damos una cabecera\n",
        "In [426]: np.savetxt('datos.tsv', data, delimiter='\\t', fmt='%.2f', header=\"tiempo\\t masa\")"
      ],
      "execution_count": 0,
      "outputs": []
    },
    {
      "cell_type": "markdown",
      "metadata": {
        "id": "DvibGX_8jNU5",
        "colab_type": "text"
      },
      "source": [
        "en este ejemplo delimitamos las columnas por tabuladores (\\t), escribimos los números como floats con dos decimales (%.2f, por defecto es notación científica) y añadimos un string que hace de cabecera."
      ]
    },
    {
      "cell_type": "markdown",
      "metadata": {
        "id": "xCS2DTADjOV5",
        "colab_type": "text"
      },
      "source": [
        "### **Cálculo matricial con numpy**\n",
        "numpy incluye algunas funciones para álgebra y cálculo matricial, en el que es clave el tipo de dato matrix. Es similar al array, pero opera como una matrix y tiene método propios de las matrices."
      ]
    },
    {
      "cell_type": "code",
      "metadata": {
        "id": "bV7TFE0cjYvW",
        "colab_type": "code",
        "outputId": "5f6c9ee8-2ed4-4647-ab4c-354e8034c292",
        "colab": {
          "base_uri": "https://localhost:8080/",
          "height": 68
        }
      },
      "source": [
        "In [425]: A = array([[1,2,3], [4,5,6], [7,8,9]])\n",
        "\n",
        "In [426]: Am = mat(A)  # Convertimos array a matriz\n",
        "\n",
        "In [428]: A*A  # Aquí hace producto matricial, no elemento a elemento como con arrays\n",
        "\n"
      ],
      "execution_count": 82,
      "outputs": [
        {
          "output_type": "execute_result",
          "data": {
            "text/plain": [
              "array([[ 1,  4,  9],\n",
              "       [16, 25, 36],\n",
              "       [49, 64, 81]])"
            ]
          },
          "metadata": {
            "tags": []
          },
          "execution_count": 82
        }
      ]
    },
    {
      "cell_type": "code",
      "metadata": {
        "id": "f7mTd48okFEP",
        "colab_type": "code",
        "outputId": "3da4870c-33bf-4e49-85c8-02617f29103a",
        "colab": {
          "base_uri": "https://localhost:8080/",
          "height": 72
        }
      },
      "source": [
        "In [429]: Am*Am"
      ],
      "execution_count": 0,
      "outputs": [
        {
          "output_type": "execute_result",
          "data": {
            "text/plain": [
              "matrix([[ 30,  36,  42],\n",
              "        [ 66,  81,  96],\n",
              "        [102, 126, 150]])"
            ]
          },
          "metadata": {
            "tags": []
          },
          "execution_count": 88
        }
      ]
    },
    {
      "cell_type": "code",
      "metadata": {
        "id": "6e8hlaG4jo16",
        "colab_type": "code",
        "outputId": "2207673d-293c-4cde-c703-4059c5d03097",
        "colab": {
          "base_uri": "https://localhost:8080/",
          "height": 35
        }
      },
      "source": [
        "In [433]: Am.T                 # Matriz traspuesta\n",
        "In [437]: Am.diagonal()"
      ],
      "execution_count": 0,
      "outputs": [
        {
          "output_type": "execute_result",
          "data": {
            "text/plain": [
              "matrix([[1, 5, 9]])"
            ]
          },
          "metadata": {
            "tags": []
          },
          "execution_count": 89
        }
      ]
    },
    {
      "cell_type": "code",
      "metadata": {
        "id": "tE1eqPJLjpHn",
        "colab_type": "code",
        "outputId": "2c7d8e35-289b-49ab-ddf5-679b91fcc990",
        "colab": {
          "base_uri": "https://localhost:8080/",
          "height": 35
        }
      },
      "source": [
        "In [438]: linalg.det(Am)       # Determinante"
      ],
      "execution_count": 0,
      "outputs": [
        {
          "output_type": "execute_result",
          "data": {
            "text/plain": [
              "0.0"
            ]
          },
          "metadata": {
            "tags": []
          },
          "execution_count": 90
        }
      ]
    },
    {
      "cell_type": "code",
      "metadata": {
        "id": "yDOkAvB5jpbp",
        "colab_type": "code",
        "outputId": "a395f122-080b-421c-d354-9372dbf2c460",
        "colab": {
          "base_uri": "https://localhost:8080/",
          "height": 35
        }
      },
      "source": [
        "In [441]: linalg.eigvals(Am)   # Autovalores"
      ],
      "execution_count": 0,
      "outputs": [
        {
          "output_type": "execute_result",
          "data": {
            "text/plain": [
              "array([ 1.61168440e+01, -1.11684397e+00, -1.30367773e-15])"
            ]
          },
          "metadata": {
            "tags": []
          },
          "execution_count": 91
        }
      ]
    },
    {
      "cell_type": "markdown",
      "metadata": {
        "id": "BDk4xvRSofdQ",
        "colab_type": "text"
      },
      "source": [
        "### **Operaciones con matrices**\n",
        "NumPy implementa todas las operaciones habituales con matrices."
      ]
    },
    {
      "cell_type": "code",
      "metadata": {
        "id": "ogv0Axe-KR8E",
        "colab_type": "code",
        "outputId": "9d5ea2dd-6c37-4758-9ca0-de277c9b2aac",
        "colab": {
          "base_uri": "https://localhost:8080/",
          "height": 54
        }
      },
      "source": [
        "A = np.array([[1,0], [0,1]])\n",
        "B = np.array([[1,2], [3,4]])\n",
        "\n",
        "# Suma de matrices\n",
        "print(A+B)"
      ],
      "execution_count": 0,
      "outputs": [
        {
          "output_type": "stream",
          "text": [
            "[[2 2]\n",
            " [3 5]]\n"
          ],
          "name": "stdout"
        }
      ]
    },
    {
      "cell_type": "code",
      "metadata": {
        "id": "LZ9zsALHKR8V",
        "colab_type": "code",
        "outputId": "5ebc377a-d14d-4c4b-b48e-ae2c9993e72f",
        "colab": {
          "base_uri": "https://localhost:8080/",
          "height": 54
        }
      },
      "source": [
        "# Resta de matrices\n",
        "print(A-B)"
      ],
      "execution_count": 0,
      "outputs": [
        {
          "output_type": "stream",
          "text": [
            "[[ 0 -2]\n",
            " [-3 -3]]\n"
          ],
          "name": "stdout"
        }
      ]
    },
    {
      "cell_type": "code",
      "metadata": {
        "id": "10pQx3--KR8b",
        "colab_type": "code",
        "outputId": "e23d665f-b4d6-4f64-d3d7-7a0783684c95",
        "colab": {
          "base_uri": "https://localhost:8080/",
          "height": 54
        }
      },
      "source": [
        "# Multiplicación elemento por elemento\n",
        "print(A*B)"
      ],
      "execution_count": 0,
      "outputs": [
        {
          "output_type": "stream",
          "text": [
            "[[1 0]\n",
            " [0 4]]\n"
          ],
          "name": "stdout"
        }
      ]
    },
    {
      "cell_type": "code",
      "metadata": {
        "id": "5oX410jHKR8j",
        "colab_type": "code",
        "outputId": "ac68a16a-0a1f-431d-c385-72c8e83c23a3",
        "colab": {
          "base_uri": "https://localhost:8080/",
          "height": 54
        }
      },
      "source": [
        "# Multiplicación de matrices\n",
        "print(A.dot(B))"
      ],
      "execution_count": 0,
      "outputs": [
        {
          "output_type": "stream",
          "text": [
            "[[1 2]\n",
            " [3 4]]\n"
          ],
          "name": "stdout"
        }
      ]
    },
    {
      "cell_type": "code",
      "metadata": {
        "id": "WcP9rbCcKR8q",
        "colab_type": "code",
        "outputId": "f6afe6da-38bb-4d52-c4fc-de0c0a1f21fb",
        "colab": {
          "base_uri": "https://localhost:8080/",
          "height": 54
        }
      },
      "source": [
        "# Potencia\n",
        "print(B**2)"
      ],
      "execution_count": 0,
      "outputs": [
        {
          "output_type": "stream",
          "text": [
            "[[ 1  4]\n",
            " [ 9 16]]\n"
          ],
          "name": "stdout"
        }
      ]
    },
    {
      "cell_type": "markdown",
      "metadata": {
        "id": "WM82RWDnpKtw",
        "colab_type": "text"
      },
      "source": [
        "### **Varios ejemplos: Slicing e iteración**\n",
        "Los arrays en NumPy soportan la técnica de slicing de Python. Podemos usar esta técnica para recuperar valores de un array:"
      ]
    },
    {
      "cell_type": "code",
      "metadata": {
        "id": "gBoXWb6eKR8w",
        "colab_type": "code",
        "outputId": "ff8189ad-0677-488d-a7c1-7dce644e7ee5",
        "colab": {
          "base_uri": "https://localhost:8080/",
          "height": 51
        }
      },
      "source": [
        "# Definimos un array de 0 a 9.\n",
        "a = np.arange(10)\n",
        "print(a)\n",
        "\n",
        "# Obtenemos los 5-2 elementos desde la posición 3 del array (los índices empiezan en 0).\n",
        "print(a[2:5])"
      ],
      "execution_count": 87,
      "outputs": [
        {
          "output_type": "stream",
          "text": [
            "[0 1 2 3 4 5 6 7 8 9]\n",
            "[2 3 4]\n"
          ],
          "name": "stdout"
        }
      ]
    },
    {
      "cell_type": "code",
      "metadata": {
        "id": "sVFqNDpYKR8-",
        "colab_type": "code",
        "outputId": "5f3117dc-f181-4a9a-f771-140e2e01e8d8",
        "colab": {
          "base_uri": "https://localhost:8080/",
          "height": 34
        }
      },
      "source": [
        "# Todos los elementos a partir de la tercera posición\n",
        "a[2:]"
      ],
      "execution_count": 88,
      "outputs": [
        {
          "output_type": "execute_result",
          "data": {
            "text/plain": [
              "array([2, 3, 4, 5, 6, 7, 8, 9])"
            ]
          },
          "metadata": {
            "tags": []
          },
          "execution_count": 88
        }
      ]
    },
    {
      "cell_type": "code",
      "metadata": {
        "id": "SFKKbZvzKR9C",
        "colab_type": "code",
        "outputId": "a48743b2-0e93-4272-b513-b7553c7ee9ac",
        "colab": {
          "base_uri": "https://localhost:8080/",
          "height": 187
        }
      },
      "source": [
        "# Podemos iterar por cada elemento del array:\n",
        "for i in a:\n",
        "    print(i)"
      ],
      "execution_count": 89,
      "outputs": [
        {
          "output_type": "stream",
          "text": [
            "0\n",
            "1\n",
            "2\n",
            "3\n",
            "4\n",
            "5\n",
            "6\n",
            "7\n",
            "8\n",
            "9\n"
          ],
          "name": "stdout"
        }
      ]
    },
    {
      "cell_type": "code",
      "metadata": {
        "id": "-zCXNYnjKR9G",
        "colab_type": "code",
        "outputId": "99a0a1a5-c0aa-4e17-e7ba-a1fafc8abf6b",
        "colab": {
          "base_uri": "https://localhost:8080/",
          "height": 119
        }
      },
      "source": [
        "# Definamos ahora un array multidimensional.\n",
        "A = np.arange(18).reshape(6,3)\n",
        "print(A)"
      ],
      "execution_count": 90,
      "outputs": [
        {
          "output_type": "stream",
          "text": [
            "[[ 0  1  2]\n",
            " [ 3  4  5]\n",
            " [ 6  7  8]\n",
            " [ 9 10 11]\n",
            " [12 13 14]\n",
            " [15 16 17]]\n"
          ],
          "name": "stdout"
        }
      ]
    },
    {
      "cell_type": "code",
      "metadata": {
        "id": "veHirXOyKR9J",
        "colab_type": "code",
        "outputId": "f902bf15-5290-4cf0-da79-30529c82356a",
        "colab": {}
      },
      "source": [
        "# Accedemos a una posición concreta del array multidimensional\n",
        "\n",
        "# Primera alternativa:\n",
        "print(A[3][2])\n",
        "# Segunda alternativa\n",
        "print(A[3, 2])"
      ],
      "execution_count": 0,
      "outputs": [
        {
          "output_type": "stream",
          "text": [
            "11\n",
            "11\n"
          ],
          "name": "stdout"
        }
      ]
    },
    {
      "cell_type": "code",
      "metadata": {
        "id": "93HAiSxCKR9P",
        "colab_type": "code",
        "outputId": "00f44384-dafe-43b1-8d13-a8ca785b7ea4",
        "colab": {
          "base_uri": "https://localhost:8080/",
          "height": 34
        }
      },
      "source": [
        "# Accedim a una fila completa (en este caso, la fila 2)\n",
        "print(A[2])"
      ],
      "execution_count": 91,
      "outputs": [
        {
          "output_type": "stream",
          "text": [
            "[6 7 8]\n"
          ],
          "name": "stdout"
        }
      ]
    },
    {
      "cell_type": "code",
      "metadata": {
        "id": "PEC1K4-9KR9T",
        "colab_type": "code",
        "outputId": "88ae51e5-0d7a-4574-8d29-4e8da81f95a3",
        "colab": {
          "base_uri": "https://localhost:8080/",
          "height": 34
        }
      },
      "source": [
        "# Ahora a una columna completa (en este cas0, la columna 0) \n",
        "print(A[:, 0])"
      ],
      "execution_count": 92,
      "outputs": [
        {
          "output_type": "stream",
          "text": [
            "[ 0  3  6  9 12 15]\n"
          ],
          "name": "stdout"
        }
      ]
    },
    {
      "cell_type": "code",
      "metadata": {
        "id": "4BMNWRlaKR9X",
        "colab_type": "code",
        "outputId": "1b3e391f-7689-469e-8eca-c32612929379",
        "colab": {
          "base_uri": "https://localhost:8080/",
          "height": 102
        }
      },
      "source": [
        "# Obtenemos todas las filas hasta la quinta fila\n",
        "print(A[:5])"
      ],
      "execution_count": 93,
      "outputs": [
        {
          "output_type": "stream",
          "text": [
            "[[ 0  1  2]\n",
            " [ 3  4  5]\n",
            " [ 6  7  8]\n",
            " [ 9 10 11]\n",
            " [12 13 14]]\n"
          ],
          "name": "stdout"
        }
      ]
    },
    {
      "cell_type": "code",
      "metadata": {
        "id": "Bish_QGWKR9c",
        "colab_type": "code",
        "outputId": "e15b0c4d-0db1-4c8c-a753-b247ae36cb1a",
        "colab": {
          "base_uri": "https://localhost:8080/",
          "height": 340
        }
      },
      "source": [
        "# Podemos iterar a través de los elementos del array multidimensional\n",
        "for i in range(A.shape[0]):\n",
        "    for j in range(A.shape[1]):\n",
        "        print(\"Elemento: {}\".format(A[i, j]))\n",
        "\n",
        "\n"
      ],
      "execution_count": 95,
      "outputs": [
        {
          "output_type": "stream",
          "text": [
            "Elemento: 0\n",
            "Elemento: 1\n",
            "Elemento: 2\n",
            "Elemento: 3\n",
            "Elemento: 4\n",
            "Elemento: 5\n",
            "Elemento: 6\n",
            "Elemento: 7\n",
            "Elemento: 8\n",
            "Elemento: 9\n",
            "Elemento: 10\n",
            "Elemento: 11\n",
            "Elemento: 12\n",
            "Elemento: 13\n",
            "Elemento: 14\n",
            "Elemento: 15\n",
            "Elemento: 16\n",
            "Elemento: 17\n",
            "6\n"
          ],
          "name": "stdout"
        }
      ]
    },
    {
      "cell_type": "markdown",
      "metadata": {
        "id": "qBH6OTctKR9i",
        "colab_type": "text"
      },
      "source": [
        "También podemos usar *slicing* en asignaciones:"
      ]
    },
    {
      "cell_type": "code",
      "metadata": {
        "id": "j-8-uerwKR9j",
        "colab_type": "code",
        "outputId": "567922cb-5b0a-40f7-849d-abd4d890494e",
        "colab": {}
      },
      "source": [
        "# Modificamos el valor de la posición 3, 2\n",
        "A[3, 2] = 42\n",
        "print(A)"
      ],
      "execution_count": 0,
      "outputs": [
        {
          "output_type": "stream",
          "text": [
            "[[ 0  1  2]\n",
            " [ 3  4  5]\n",
            " [ 6  7  8]\n",
            " [ 9 10 42]\n",
            " [12 13 14]\n",
            " [15 16 17]]\n"
          ],
          "name": "stdout"
        }
      ]
    },
    {
      "cell_type": "code",
      "metadata": {
        "id": "yjG_fmSYKR9m",
        "colab_type": "code",
        "outputId": "37d8f71b-217a-48b0-83bf-da58d42ea4c0",
        "colab": {}
      },
      "source": [
        "# Modificamos el valor de una fila completa\n",
        "A[2] = [101, 101, 101]\n",
        "print(A)"
      ],
      "execution_count": 0,
      "outputs": [
        {
          "output_type": "stream",
          "text": [
            "[[  0   1   2]\n",
            " [  3   4   5]\n",
            " [101 101 101]\n",
            " [  9  10  42]\n",
            " [ 12  13  14]\n",
            " [ 15  16  17]]\n"
          ],
          "name": "stdout"
        }
      ]
    },
    {
      "cell_type": "code",
      "metadata": {
        "id": "ObiJE4RIKR9s",
        "colab_type": "code",
        "outputId": "a082d107-655a-4e89-9f9b-4881ba0b995f",
        "colab": {
          "base_uri": "https://localhost:8080/",
          "height": 119
        }
      },
      "source": [
        "# Igualamos todos los elementos a 0 (el operador ... añade todos los : necesarios).\n",
        "A[...] = 0\n",
        "print(A)"
      ],
      "execution_count": 96,
      "outputs": [
        {
          "output_type": "stream",
          "text": [
            "[[0 0 0]\n",
            " [0 0 0]\n",
            " [0 0 0]\n",
            " [0 0 0]\n",
            " [0 0 0]\n",
            " [0 0 0]]\n"
          ],
          "name": "stdout"
        }
      ]
    },
    {
      "cell_type": "markdown",
      "metadata": {
        "id": "v9duGitjKR9x",
        "colab_type": "text"
      },
      "source": [
        "### Ejemplo: El juego de la vida de Conway\n",
        "El juego de la vida es un ejemplo clásico de autómata celular creado en 1970 por el famoso matemático John H. Conway. \n",
        "En el problema clásico, se representan en una matriz bidimensional células que vivirán o morirán dependiendo del número de vecinos en un determinado paso de la simulación. Cada célula tiene 8 vecinos (las casillas adyacentes en un tablero bidimensional) y puede estar viva (1) o muerta (0). Las reglas clásicas entre transición vida/muerte son las siguientes:\n",
        "\n",
        "* Una célula muerta con exactamente 3 células vecinas vivas al turno siguiente estará viva.\n",
        "* Una célula viva con 2 o 3 células vecinas vivas sigue viva. Si no es el caso, muere o permanece muerta (soledad en caso de un número menor a 2, superpoblación si es mayor a 3).\n",
        "\n",
        "Este problema (o juego) tiene muchas variantes dependiendo de las condiciones iniciales, si el tablero (o mundo) tiene bordes o no, o si bien las reglas de vida o muerte son alteradas.\n",
        "\n",
        "A continuación tenéis un ejemplo del juego clásico implementado en NumPy:"
      ]
    },
    {
      "cell_type": "code",
      "metadata": {
        "id": "8062iyyfKR9y",
        "colab_type": "code",
        "outputId": "725e4e06-9298-4908-ed3f-4a9b311316da",
        "colab": {
          "base_uri": "https://localhost:8080/",
          "height": 187
        }
      },
      "source": [
        "# Autor: Nicolas Rougier\n",
        "# Fuente: http://www.labri.fr/perso/nrougier/teaching/numpy.100/\n",
        "\n",
        "SIZE = 10\n",
        "STEPS = 10\n",
        "\n",
        "def iterate(Z):\n",
        "    # Count neighbours\n",
        "    N = (Z[0:-2,0:-2] + Z[0:-2,1:-1] + Z[0:-2,2:] +\n",
        "         Z[1:-1,0:-2]                + Z[1:-1,2:] +\n",
        "         Z[2:  ,0:-2] + Z[2:  ,1:-1] + Z[2:  ,2:])\n",
        "\n",
        "    # Apply rules\n",
        "    birth = (N==3) & (Z[1:-1,1:-1]==0)\n",
        "    survive = ((N==2) | (N==3)) & (Z[1:-1,1:-1]==1)\n",
        "    Z[...] = 0\n",
        "    Z[1:-1,1:-1][birth | survive] = 1\n",
        "    return Z\n",
        "\n",
        "# Creamos un tablero con células vivas o muertas de forma aleatoria.\n",
        "Z = np.random.randint(0,2,(SIZE, SIZE))\n",
        "# Simulamos durante los pasos indicados.\n",
        "for i in range(STEPS):\n",
        "    Z = iterate(Z)\n",
        "# Mostramos el tablero en el paso final.\n",
        "print(Z)"
      ],
      "execution_count": 97,
      "outputs": [
        {
          "output_type": "stream",
          "text": [
            "[[0 0 0 0 0 0 0 0 0 0]\n",
            " [0 0 0 0 0 0 0 0 0 0]\n",
            " [0 0 0 0 0 0 0 0 0 0]\n",
            " [0 0 0 0 0 0 0 0 0 0]\n",
            " [0 0 0 1 1 0 0 0 0 0]\n",
            " [0 0 1 1 1 0 0 0 0 0]\n",
            " [0 0 1 1 0 0 1 1 0 0]\n",
            " [0 0 1 0 1 1 0 1 0 0]\n",
            " [0 0 0 1 1 1 1 0 0 0]\n",
            " [0 0 0 0 0 0 0 0 0 0]]\n"
          ],
          "name": "stdout"
        }
      ]
    },
    {
      "cell_type": "markdown",
      "metadata": {
        "id": "MtHgGzRCp027",
        "colab_type": "text"
      },
      "source": [
        "### **Ejercicio 1**\n",
        "Definid una función que dadas dos matrices, devuelva el valor absoluto de la multiplicación de los determinantes ambas, es decir, dadas A y B, nuestra función devolverá |det(A) * det(B)|.\n",
        "\n",
        "Nota: Podéis consultar la documentación del módulo linalg para resolver este ejercicio."
      ]
    },
    {
      "cell_type": "code",
      "metadata": {
        "id": "aKbg1wD-p4Ox",
        "colab_type": "code",
        "colab": {
          "base_uri": "https://localhost:8080/",
          "height": 34
        },
        "outputId": "d2d28de4-6324-4490-b4f8-f590872f96a8"
      },
      "source": [
        "#Respuesta\n",
        "from numpy.linalg import det\n",
        "from numpy import absolute\n",
        "\n",
        "def valorAbsolutoDeterminantes(A, B):\n",
        "  return absolute(det(A)*det(B))\n",
        "\n",
        "A = array([[1,1,1],[1,1,1],[1,1,1]])\n",
        "B = array([[1,1,1],[1,1,1],[1,1,1]])\n",
        "valorAbsolutoDeterminantes(A,B)"
      ],
      "execution_count": 100,
      "outputs": [
        {
          "output_type": "execute_result",
          "data": {
            "text/plain": [
              "0.0"
            ]
          },
          "metadata": {
            "tags": []
          },
          "execution_count": 100
        }
      ]
    },
    {
      "cell_type": "markdown",
      "metadata": {
        "id": "IvlaNkYlqAR8",
        "colab_type": "text"
      },
      "source": [
        "### **Ejercicio 2**\n",
        "Cread una matriz 10x10 que corresponda con la matriz identidad usando generadores básicos de arrays. Cread una matriz identidad 10x10 (esta vez usando generadores especificos de matrices identidad) y comprobad que ambas matrices son iguales.\n",
        "\n",
        "Consideraciones:\n",
        "\n",
        "La primera matriz debe crearse usando constructores básicos de arrays, como los presentados en los Notebooks de teoría.\n",
        "La segunda matriz debe generarse utilizando el generador de matrices identidad de numpy.\n",
        "La comparación debe devolver True si las matrices son iguales (un único True), False de no ser así.\n",
        "Nota: Podéis consultar la documentación sobre creación de matrices de Numpy para resolver este ejercicio."
      ]
    },
    {
      "cell_type": "code",
      "metadata": {
        "id": "Z0slw3WsqC23",
        "colab_type": "code",
        "colab": {
          "base_uri": "https://localhost:8080/",
          "height": 68
        },
        "outputId": "355d0a90-29b8-45a0-cb8b-7524eb8013cd"
      },
      "source": [
        "#Respuesta\n",
        "m0 = np.array([[1, 0,0,0,0,0,0,0,0,0],[0,1,0,0,0,0,0,0,0,0], [0,0,1,0,0,0,0,0,0,0],\n",
        "              [0, 0,0,1,0,0,0,0,0,0],[0, 0,0,0,1,0,0,0,0,0],[0, 0,0,0,0,1,0,0,0,0],\n",
        "              [0, 0,0,0,0,0,1,0,0,0],[0, 0,0,0,0,0,0,1,0,0],[0, 0,0,0,0,0,0,0,1,0],\n",
        "              [0, 0,0,0,0,0,0,0,0,1]])\n",
        "\n",
        "m1=np.zeros((10,10), dtype = int)\n",
        "for i,r in enumerate(m1):\n",
        "  r[i]=1\n",
        "m2 = np.identity(10,dtype=int)\n",
        "\n",
        "print(np.array_equal(m0,m2))\n",
        "print(np.array_equal(m1,m2))\n",
        "\n",
        "m0[1,2]=1\n",
        "print(np.array_equal(m0,m2))"
      ],
      "execution_count": 104,
      "outputs": [
        {
          "output_type": "stream",
          "text": [
            "True\n",
            "True\n",
            "False\n"
          ],
          "name": "stdout"
        }
      ]
    },
    {
      "cell_type": "markdown",
      "metadata": {
        "id": "E_ZlLDcuqLy7",
        "colab_type": "text"
      },
      "source": [
        "### **Ejercicio 3**\n",
        "Representad en un único gráfico las funciones f1 y f2 definidas más abajo, evaluadas en el intervalo [0, 7] y con paso (resolución) 0.1."
      ]
    },
    {
      "cell_type": "code",
      "metadata": {
        "id": "M2ovbi-QqOnb",
        "colab_type": "code",
        "colab": {}
      },
      "source": [
        "#Respuesta"
      ],
      "execution_count": 0,
      "outputs": []
    }
  ]
}