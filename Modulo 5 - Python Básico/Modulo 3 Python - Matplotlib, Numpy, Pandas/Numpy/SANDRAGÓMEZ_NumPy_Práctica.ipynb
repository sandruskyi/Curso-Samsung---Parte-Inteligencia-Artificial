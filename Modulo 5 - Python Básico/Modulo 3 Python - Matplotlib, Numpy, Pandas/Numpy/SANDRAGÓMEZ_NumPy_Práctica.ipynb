{
  "nbformat": 4,
  "nbformat_minor": 0,
  "metadata": {
    "colab": {
      "name": "SANDRAGÓMEZ_NumPy_Práctica.ipynb",
      "provenance": [],
      "collapsed_sections": []
    },
    "kernelspec": {
      "name": "python3",
      "display_name": "Python 3"
    }
  },
  "cells": [
    {
      "cell_type": "markdown",
      "metadata": {
        "id": "QhcIpTIhqvgO",
        "colab_type": "text"
      },
      "source": [
        "### **NumPy - Práctica**"
      ]
    },
    {
      "cell_type": "markdown",
      "metadata": {
        "id": "5cTJt8djrGag",
        "colab_type": "text"
      },
      "source": [
        "### **Ejercicio 1**\n",
        "Cread dos matrices, A y B, de mida 5x5 con números enteros aleatorios entre 1 y 10. A continuación cread una tercera matriz, C, de mida 2x5 a partir de la última fila de la matriz A y la primera fila de la matriz B: la primera fila de la matriz C será la última de la matriz A, y la segunda fila de la matriz C será la primera fila de la matriz B. Mostrad por pantalla el resultado obtenido."
      ]
    },
    {
      "cell_type": "code",
      "metadata": {
        "id": "zMPFq-9vq8XD",
        "colab_type": "code",
        "outputId": "0b04e4fc-59a5-4396-cd94-eec7d1f853d5",
        "colab": {
          "base_uri": "https://localhost:8080/",
          "height": 221
        }
      },
      "source": [
        "from numpy import random\n",
        "import numpy as np\n",
        "A = random.randint(1,11,(5,5))\n",
        "print(A)\n",
        "B = random.randint(1,11,(5,5))\n",
        "print(B) \n",
        "C = np.array([A[4,:],B[0,:]])\n",
        "print(C)"
      ],
      "execution_count": 0,
      "outputs": [
        {
          "output_type": "stream",
          "text": [
            "[[5 4 2 7 5]\n",
            " [4 7 5 3 4]\n",
            " [3 3 8 2 8]\n",
            " [3 2 2 9 6]\n",
            " [5 4 7 7 9]]\n",
            "[[5 3 3 4 3]\n",
            " [4 5 6 9 4]\n",
            " [7 2 2 7 9]\n",
            " [6 8 5 1 1]\n",
            " [9 9 4 7 4]]\n",
            "[[5 4 7 7 9]\n",
            " [5 3 3 4 3]]\n"
          ],
          "name": "stdout"
        }
      ]
    },
    {
      "cell_type": "markdown",
      "metadata": {
        "id": "jhzxEoXUrNQb",
        "colab_type": "text"
      },
      "source": [
        "### **Ejercicio 2**\n",
        "\n",
        "Dadas las matrices A y B del ejercicio anterior, mostrad por pantalla el resultado de las siguientes operaciones:\n",
        "\n",
        "Sumar las dos matrices\n",
        "Restar la matriz B de la matriz A\n",
        "Multiplicar las dos matrices\n",
        "Explicad brevemente cuál es el método de multiplicación escogido y porque."
      ]
    },
    {
      "cell_type": "code",
      "metadata": {
        "id": "R9kMLnuUrWF5",
        "colab_type": "code",
        "outputId": "e3d4a6f8-0a71-4736-ead8-b2f05dd4defd",
        "colab": {
          "base_uri": "https://localhost:8080/",
          "height": 357
        }
      },
      "source": [
        "# Respuesta\n",
        "print(A+B)\n",
        "print(A-B)\n",
        "\n",
        "print(A*B) # Multiplica la primera posición con la primera posición y así <- Este sería el método correcto para Arrays\n",
        "print(np.mat(A)*np.mat(B)) # Multiplicación matricial, filas * Columnas <- Este sería el método correcto para Matrices"
      ],
      "execution_count": 0,
      "outputs": [
        {
          "output_type": "stream",
          "text": [
            "[[10  7  5 11  8]\n",
            " [ 8 12 11 12  8]\n",
            " [10  5 10  9 17]\n",
            " [ 9 10  7 10  7]\n",
            " [14 13 11 14 13]]\n",
            "[[ 0  1 -1  3  2]\n",
            " [ 0  2 -1 -6  0]\n",
            " [-4  1  6 -5 -1]\n",
            " [-3 -6 -3  8  5]\n",
            " [-4 -5  3  0  5]]\n",
            "[[25 12  6 28 15]\n",
            " [16 35 30 27 16]\n",
            " [21  6 16 14 72]\n",
            " [18 16 10  9  6]\n",
            " [45 36 28 49 36]]\n",
            "[[142 140  98 112  76]\n",
            " [137 117  95 145 104]\n",
            " [167 128  85 153 127]\n",
            " [145 149  94  95  68]\n",
            " [213 186 124 175 137]]\n"
          ],
          "name": "stdout"
        }
      ]
    },
    {
      "cell_type": "markdown",
      "metadata": {
        "id": "0tWL9dmNrYDZ",
        "colab_type": "text"
      },
      "source": [
        "### **Ejercicio 3**\n",
        "Ordenad la matriz bidimensional [[5,1,7], [0,7,4], [7,23,1]] por columnas utilizando como algoritmo de ordenación el Heapsort.\n",
        "\n",
        "Nota: Para resolver este ejercicio os puede ser de ayuda la función sort de Numpy que nos permite ordenar los elementos de un array N-dimensional."
      ]
    },
    {
      "cell_type": "code",
      "metadata": {
        "id": "R8X5iijzrdRz",
        "colab_type": "code",
        "outputId": "8f343e9b-126a-4b11-e2df-9943243fe8a6",
        "colab": {
          "base_uri": "https://localhost:8080/",
          "height": 214
        }
      },
      "source": [
        "# Respuesta\n",
        "D = np.array([[5,1,7], [0,7,4], [7,23,1]] )\n",
        "print(D)\n",
        "D = np.sort(D,axis=0,  kind='heapsort')\n",
        "print(D)"
      ],
      "execution_count": 2,
      "outputs": [
        {
          "output_type": "error",
          "ename": "NameError",
          "evalue": "ignored",
          "traceback": [
            "\u001b[0;31m---------------------------------------------------------------------------\u001b[0m",
            "\u001b[0;31mNameError\u001b[0m                                 Traceback (most recent call last)",
            "\u001b[0;32m<ipython-input-2-844801a73ba8>\u001b[0m in \u001b[0;36m<module>\u001b[0;34m()\u001b[0m\n\u001b[0;32m----> 1\u001b[0;31m \u001b[0mD\u001b[0m \u001b[0;34m=\u001b[0m \u001b[0mnp\u001b[0m\u001b[0;34m.\u001b[0m\u001b[0marray\u001b[0m\u001b[0;34m(\u001b[0m\u001b[0;34m[\u001b[0m\u001b[0;34m[\u001b[0m\u001b[0;36m5\u001b[0m\u001b[0;34m,\u001b[0m\u001b[0;36m1\u001b[0m\u001b[0;34m,\u001b[0m\u001b[0;36m7\u001b[0m\u001b[0;34m]\u001b[0m\u001b[0;34m,\u001b[0m \u001b[0;34m[\u001b[0m\u001b[0;36m0\u001b[0m\u001b[0;34m,\u001b[0m\u001b[0;36m7\u001b[0m\u001b[0;34m,\u001b[0m\u001b[0;36m4\u001b[0m\u001b[0;34m]\u001b[0m\u001b[0;34m,\u001b[0m \u001b[0;34m[\u001b[0m\u001b[0;36m7\u001b[0m\u001b[0;34m,\u001b[0m\u001b[0;36m23\u001b[0m\u001b[0;34m,\u001b[0m\u001b[0;36m1\u001b[0m\u001b[0;34m]\u001b[0m\u001b[0;34m]\u001b[0m \u001b[0;34m)\u001b[0m\u001b[0;34m\u001b[0m\u001b[0;34m\u001b[0m\u001b[0m\n\u001b[0m\u001b[1;32m      2\u001b[0m \u001b[0mprint\u001b[0m\u001b[0;34m(\u001b[0m\u001b[0mD\u001b[0m\u001b[0;34m)\u001b[0m\u001b[0;34m\u001b[0m\u001b[0;34m\u001b[0m\u001b[0m\n\u001b[1;32m      3\u001b[0m \u001b[0mD\u001b[0m \u001b[0;34m=\u001b[0m \u001b[0mnp\u001b[0m\u001b[0;34m.\u001b[0m\u001b[0msort\u001b[0m\u001b[0;34m(\u001b[0m\u001b[0mD\u001b[0m\u001b[0;34m,\u001b[0m\u001b[0maxis\u001b[0m\u001b[0;34m=\u001b[0m\u001b[0;36m0\u001b[0m\u001b[0;34m,\u001b[0m  \u001b[0mkind\u001b[0m\u001b[0;34m=\u001b[0m\u001b[0;34m'heapsort'\u001b[0m\u001b[0;34m)\u001b[0m\u001b[0;34m\u001b[0m\u001b[0;34m\u001b[0m\u001b[0m\n\u001b[1;32m      4\u001b[0m \u001b[0mprint\u001b[0m\u001b[0;34m(\u001b[0m\u001b[0mD\u001b[0m\u001b[0;34m)\u001b[0m\u001b[0;34m\u001b[0m\u001b[0;34m\u001b[0m\u001b[0m\n",
            "\u001b[0;31mNameError\u001b[0m: name 'np' is not defined"
          ]
        }
      ]
    },
    {
      "cell_type": "markdown",
      "metadata": {
        "id": "euEYLD3UrfTV",
        "colab_type": "text"
      },
      "source": [
        "### **Ejercicio 4**\n",
        "Cread una matriz, I, de mida 10x10 donde todos sus elementos tendrán el valor 0 utilizando generadores de matrices de numpy. Modificad la matriz anterior de tal forma que I[i, j] = i * j para todo i y j pares, es decir, para todas las posiciones donde tanto i como j son pares."
      ]
    },
    {
      "cell_type": "code",
      "metadata": {
        "id": "Mzdt93D2rkVO",
        "colab_type": "code",
        "outputId": "e7e93b47-7e7a-4de2-8106-c42ca45f8fda",
        "colab": {
          "base_uri": "https://localhost:8080/",
          "height": 357
        }
      },
      "source": [
        "# Respuesta\n",
        "I = np.zeros((10,10))\n",
        "print(I)\n",
        "\n",
        "for i in range(10):\n",
        "  for j in range(10):\n",
        "    if(i%2==0 and j%2==0):\n",
        "      I[i][j]=i*j\n",
        "\n",
        "print(I)"
      ],
      "execution_count": 0,
      "outputs": [
        {
          "output_type": "stream",
          "text": [
            "[[0. 0. 0. 0. 0. 0. 0. 0. 0. 0.]\n",
            " [0. 0. 0. 0. 0. 0. 0. 0. 0. 0.]\n",
            " [0. 0. 0. 0. 0. 0. 0. 0. 0. 0.]\n",
            " [0. 0. 0. 0. 0. 0. 0. 0. 0. 0.]\n",
            " [0. 0. 0. 0. 0. 0. 0. 0. 0. 0.]\n",
            " [0. 0. 0. 0. 0. 0. 0. 0. 0. 0.]\n",
            " [0. 0. 0. 0. 0. 0. 0. 0. 0. 0.]\n",
            " [0. 0. 0. 0. 0. 0. 0. 0. 0. 0.]\n",
            " [0. 0. 0. 0. 0. 0. 0. 0. 0. 0.]\n",
            " [0. 0. 0. 0. 0. 0. 0. 0. 0. 0.]]\n",
            "[[ 0.  0.  0.  0.  0.  0.  0.  0.  0.  0.]\n",
            " [ 0.  0.  0.  0.  0.  0.  0.  0.  0.  0.]\n",
            " [ 0.  0.  4.  0.  8.  0. 12.  0. 16.  0.]\n",
            " [ 0.  0.  0.  0.  0.  0.  0.  0.  0.  0.]\n",
            " [ 0.  0.  8.  0. 16.  0. 24.  0. 32.  0.]\n",
            " [ 0.  0.  0.  0.  0.  0.  0.  0.  0.  0.]\n",
            " [ 0.  0. 12.  0. 24.  0. 36.  0. 48.  0.]\n",
            " [ 0.  0.  0.  0.  0.  0.  0.  0.  0.  0.]\n",
            " [ 0.  0. 16.  0. 32.  0. 48.  0. 64.  0.]\n",
            " [ 0.  0.  0.  0.  0.  0.  0.  0.  0.  0.]]\n"
          ],
          "name": "stdout"
        }
      ]
    },
    {
      "cell_type": "markdown",
      "metadata": {
        "id": "JTvIIknvrmrH",
        "colab_type": "text"
      },
      "source": [
        "### **Ejercicio 5**\n",
        "Una técnica que se aplica en muchos algoritmos de compresión de imagenes, como fase previa a la compresión, es asignar a cada píxel de la imagen el valor medio de sus N píxeles vecinos. Nosotros implementaremos una versión simplificada de esta técnica.\n",
        "\n",
        "Una imagen se puede ver como una matriz bidimensional donde cada elemento de la matriz corresponde a un valor de un píxel de la imagen. Por ejemplo, si generamos una imágen a partir de la matriz que os proporcionamos más abajo, veremos una imagen en escala de grises. Para probarlo podéis ejecutar la siguiente intrucción: generate_png(pixels). Esto os generará un fichero, generated.png.\n",
        "\n",
        "Cread una nueva matriz, pixels_transform, a partir de la matriz pixels donde el valor de cada elemento de pixels_transform se calculará como la media de los valores de los 4 vecinos más próximos del correspondiente píxel en la matriz pixels. Veámoslo formalmente:\n",
        "\n",
        "```\n",
        "pixels_transform[i, j] = (pixels[i, j-1] + pixels[i-1, j] + pixels[i, j+1] + pixels[i+1, j]) / 4\n",
        "```\n",
        "\n",
        "\n",
        "Consideraciones:\n",
        "\n",
        "Consideramos como los 4 vecinos más próximos los píxeles anterior (izquierda), superior (arriba), posterior (derecha) e inferior (abajo) del píxel que estamos analizando.\n",
        "Si no podemos acceder a alguno de estos vecinos (e.g. el píxel (0, 0) no tiene vecinos anterior y superior), asumimos que los valores que nos faltan son 0.\n",
        "Mostrad por pantalla el resultado obtenido.\n",
        "\n",
        "Nota: Para resolver este ejercicio necesitamos recorer todos los elementos de la matriz pixels y para cada elemento tenemos que comprobar los valores de sus 4 vecinos. Necesitaremos un bloque condicional (if) para cada uno de los elementos vecinos."
      ]
    },
    {
      "cell_type": "code",
      "metadata": {
        "id": "3tnmh95MyUyY",
        "colab_type": "code",
        "colab": {}
      },
      "source": [
        "from PIL import Image\n",
        "import numpy as np\n",
        "\n",
        "pixels = [\n",
        "   [54, 93, 71, 168],\n",
        "   [122, 54, 167, 93],\n",
        "   [71, 167, 54, 122],\n",
        "   [167, 82, 23, 54]\n",
        "]\n",
        "\n",
        "# Podéis utilizar la siguiente función para generar una imagen a partir de un array de píxeles.\n",
        "# Por ejemplo, generate_png(pixels)\n",
        "def generate_png(matriz):\n",
        "    # Nos aseguramos que la matriz es un array de numpy\n",
        "    pixels = np.array(matriz, dtype=np.uint8)\n",
        "\n",
        "    # Utilizamos la librería PIL para crear una imagen a partir de una array de píxeles\n",
        "    imagen = Image.fromarray(pixels)\n",
        "    imagen.save('generated.png')\n",
        "\n",
        "generate_png(pixels)"
      ],
      "execution_count": 0,
      "outputs": []
    },
    {
      "cell_type": "code",
      "metadata": {
        "id": "LbSoJjcGrt01",
        "colab_type": "code",
        "outputId": "e349eabf-0e56-4382-83d6-5e2df8df2a1c",
        "colab": {
          "base_uri": "https://localhost:8080/",
          "height": 85
        }
      },
      "source": [
        "# Respuesta\n",
        "def generarNuevaMatriz(matriz):\n",
        "  pixels_transform = np.zeros((len(matriz[0]),len(matriz[1])))\n",
        "  for i in range(len(matriz[0])):\n",
        "    for j in range(len(matriz[1])):\n",
        "      if(i-1<0):\n",
        "        arriba = 0\n",
        "      else: \n",
        "        arriba = pixels[i-1][j]\n",
        "      if (i+1>=len(matriz[0])):\n",
        "        abajo = 0 \n",
        "      else: \n",
        "        abajo = pixels[i+1][j]\n",
        "      if(j-1<0):\n",
        "        izquierda = 0\n",
        "      else: \n",
        "        izquierda = pixels[i][j-1]\n",
        "      if(j+1>=len(matriz[1])): \n",
        "        derecha = 0 \n",
        "      else: \n",
        "        derecha = pixels[i][j+1]\n",
        "      pixels_transform[i][j] = (arriba + abajo +derecha +izquierda)/ 4\n",
        "      \n",
        "  return (pixels_transform)\n",
        "\n",
        "nuevaMatriz = generarNuevaMatriz(pixels)\n",
        "print(nuevaMatriz)\n"
      ],
      "execution_count": 0,
      "outputs": [
        {
          "output_type": "stream",
          "text": [
            "[[ 53.75  44.75 107.    41.  ]\n",
            " [ 44.75 137.25  68.   114.25]\n",
            " [114.    65.25 119.75  50.25]\n",
            " [ 38.25  89.25  47.5   36.25]]\n"
          ],
          "name": "stdout"
        }
      ]
    }
  ]
}