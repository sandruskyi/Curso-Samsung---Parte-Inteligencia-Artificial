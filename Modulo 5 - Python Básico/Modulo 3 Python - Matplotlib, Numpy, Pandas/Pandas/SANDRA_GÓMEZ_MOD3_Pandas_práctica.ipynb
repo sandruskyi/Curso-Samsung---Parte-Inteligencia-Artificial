{
  "nbformat": 4,
  "nbformat_minor": 0,
  "metadata": {
    "kernelspec": {
      "display_name": "Python 3",
      "language": "python",
      "name": "python3"
    },
    "language_info": {
      "codemirror_mode": {
        "name": "ipython",
        "version": 3
      },
      "file_extension": ".py",
      "mimetype": "text/x-python",
      "name": "python",
      "nbconvert_exporter": "python",
      "pygments_lexer": "ipython3",
      "version": "3.7.3"
    },
    "colab": {
      "name": "MOD3_Pandas_práctica.ipynb",
      "provenance": []
    }
  },
  "cells": [
    {
      "cell_type": "markdown",
      "metadata": {
        "id": "jHQVIlRwyUwx",
        "colab_type": "text"
      },
      "source": [
        "---"
      ]
    },
    {
      "cell_type": "markdown",
      "metadata": {
        "id": "qHTCxrDWyUwy",
        "colab_type": "text"
      },
      "source": [
        "### Ejercicios para practicar con Pandas\n",
        "\n"
      ]
    },
    {
      "cell_type": "code",
      "metadata": {
        "id": "0JK2nv5d73E3",
        "colab_type": "code",
        "colab": {}
      },
      "source": [
        "#Pregunta 1\n",
        "\n",
        "#Inspecting your data\n",
        "#You can use the DataFrame methods .head() and .tail() to view the first few and last few rows of a DataFrame.\n",
        "# In this exercise, we have imported pandas as pd and loaded population data from 1960 to 2014 as a DataFrame df. This dataset was obtained from the World Bank.\n",
        "\n",
        "#Your job is to use df.head() and df.tail() to verify that the first and last rows match a file on disk. \n",
        "#In later exercises, you will see how to extract values from DataFrames with indexing, but for now, manually copy/paste or type values into assignment statements where needed. \n",
        "#Select the correct answer for the first and last values in the 'Year' and 'Total Population' columns.\n",
        "\n",
        "#First: 1980, 26183676.0; Last: 2000, 35.\n",
        "#First: 1960, 92495902.0; Last: 2014, 15245855.0.\n",
        "#First: 40.472, 2001; Last: 44.5, 1880.\n",
        "#First: CSS, 104170.0; Last: USA, 95.203.\n",
        "\n",
        "#Respuesta: "
      ],
      "execution_count": 0,
      "outputs": []
    },
    {
      "cell_type": "code",
      "metadata": {
        "id": "yL43dXvd8pCR",
        "colab_type": "code",
        "colab": {}
      },
      "source": [
        "#Pregunta 2\n",
        "#DataFrame data types\n",
        "Pandas is aware of the data types in the columns of your DataFrame.\n",
        "# It is also aware of null and NaN ('Not-a-Number') types which often indicate missing data.\n",
        "# In this exercise, we have imported pandas as pd and read the world population data into a DataFrame df which contains some NaN values \n",
        "#— a value often used as a place-holder for missing or otherwise invalid data entries.\n",
        "\n",
        "#Your job is to use df.info() to determine information about the total count of non-null entries and infer the total count of null entries, which likely indicates missing data.\n",
        "\n",
        "#Select the best description of this data set from the following:\n",
        "\n",
        "#Possible Answers\n",
        "#The data is all of type float64 and none of it is missing.\n",
        "#The data is of mixed type, and 9914 of it is missing.\n",
        "#The data is of mixed type, and 3460 float64s are missing.\n",
        "#The data is all of type float64, and 3460 float64s are missing.\n",
        "\n",
        "#Respuesta: "
      ],
      "execution_count": 0,
      "outputs": []
    },
    {
      "cell_type": "markdown",
      "metadata": {
        "id": "docZwKSZ9kwc",
        "colab_type": "text"
      },
      "source": [
        "### **NumPy and pandas working together**\n",
        "Pandas depends upon and interoperates with NumPy, the Python library for fast numeric array computations. For example, you can use the DataFrame attribute .values to represent a DataFrame df as a NumPy array. You can also pass pandas data structures to NumPy methods. In this exercise, we have imported pandas as pd and loaded world population data every 10 years since 1960 into the DataFrame df. This dataset was derived from the one used in the previous exercise.\n",
        "\n",
        "Your job is to extract the values and store them in an array using the attribute .values. You'll then use those values as input into the NumPy np.log10() method to compute the base 10 logarithm of the population values. Finally, you will pass the entire pandas DataFrame into the same NumPy np.log10() method and compare the results."
      ]
    },
    {
      "cell_type": "code",
      "metadata": {
        "id": "DShipUI29aTO",
        "colab_type": "code",
        "colab": {}
      },
      "source": [
        "#Ejercicio 1\n",
        "#Import numpy using the standard alias np.\n",
        "#Assign the numerical values in the DataFrame df to an array np_vals using the attribute values.#\n",
        "#Pass np_vals into the NumPy method log10() and store the results in np_vals_log10.\n",
        "#Pass the entire df DataFrame into the NumPy method log10() and store the results in df_log10.\n",
        "#Inspect the output of the print() code to see the type() of the variables that you created.\n",
        "\n",
        "# Import numpy\n",
        "\n",
        "\n",
        "# Create array of DataFrame values: np_vals\n",
        "np_vals = ____\n",
        "\n",
        "# Create new array of base 10 logarithm values: np_vals_log10\n",
        "np_vals_log10 = ____\n",
        "\n",
        "# Create array of new DataFrame by passing df to np.log10(): df_log10\n",
        "df_log10 = ____\n",
        "\n",
        "# Print original and new data containers\n",
        "[print(x, 'has type', type(eval(x))) for x in ['np_vals', 'np_vals_log10', 'df', 'df_log10']]\n",
        "\n"
      ],
      "execution_count": 0,
      "outputs": []
    },
    {
      "cell_type": "markdown",
      "metadata": {
        "id": "II0cZ6aG-6zc",
        "colab_type": "text"
      },
      "source": [
        "Ejercicio 2\n",
        "\n",
        "\n",
        "Zip lists to build a DataFrame\n",
        "In this exercise, you're going to make a pandas DataFrame of the top three countries to win gold medals since 1896 by first building a dictionary. list_keys contains the column names 'Country' and 'Total'. list_values contains the full names of each country and the number of gold medals awarded. The values have been taken from Wikipedia.\n",
        "\n",
        "Your job is to use these lists to construct a list of tuples, use the list of tuples to construct a dictionary, and then use that dictionary to construct a DataFrame. In doing so, you'll make use of the list(), zip(), dict() and pd.DataFrame() functions. Pandas has already been imported as pd.\n",
        "\n",
        "Note: The zip() function in Python 3 and above returns a special zip object, which is essentially a generator. To convert this zip object into a list, you'll need to use list(). You can learn more about the zip() function as well as generators in Python Data Science Toolbox (Part 2)."
      ]
    },
    {
      "cell_type": "code",
      "metadata": {
        "id": "ZPuk-TpO_P1j",
        "colab_type": "code",
        "colab": {}
      },
      "source": [
        "#Zip the 2 lists list_keys and list_values together into one list of (key, value) tuples. Be sure to convert the zip object into a list, and store the result in zipped.\n",
        "#Inspect the contents of zipped using print(). This has been done for you.\n",
        "#Construct a dictionary using zipped. Store the result as data.\n",
        "#Construct a DataFrame using the dictionary. Store the result as df.\n",
        "\n",
        "# Zip the 2 lists together into one list of (key,value) tuples: zipped\n",
        "zipped = ____\n",
        "\n",
        "# Inspect the list using print()\n",
        "print(zipped)\n",
        "\n",
        "# Build a dictionary with the zipped list: data\n",
        "data = ____\n",
        "\n",
        "# Build and inspect a DataFrame from the dictionary: df\n",
        "df = ____\n",
        "print(df)\n",
        "\n",
        "\n"
      ],
      "execution_count": 0,
      "outputs": []
    },
    {
      "cell_type": "markdown",
      "metadata": {
        "id": "qJS4VoS9HIaC",
        "colab_type": "text"
      },
      "source": [
        "**Ejercicio 3**\n",
        "\n",
        "Labeling your data\n",
        "You can use the DataFrame attribute df.columns to view and assign new string labels to columns in a pandas DataFrame.\n",
        "\n",
        "In this exercise, we have imported pandas as pd and defined a DataFrame df containing top Billboard hits from the 1980s (from Wikipedia). Each row has the year, artist, song name and the number of weeks at the top. However, this DataFrame has the column labels a, b, c, d. Your job is to use the df.columns attribute to re-assign descriptive column labels."
      ]
    },
    {
      "cell_type": "code",
      "metadata": {
        "id": "exkZeQu3HO0-",
        "colab_type": "code",
        "colab": {}
      },
      "source": [
        "#Create a list of new column labels with 'year', 'artist', 'song', 'chart weeks', and assign it to list_labels.\n",
        "#Assign your list of labels to df.columns.\n",
        "\n",
        "# Build a list of labels: list_labels\n",
        "list_labels = ____\n",
        "\n",
        "# Assign the list of labels to the columns attribute: df.columns\n",
        "____ = list_labels\n",
        "\n"
      ],
      "execution_count": 0,
      "outputs": []
    },
    {
      "cell_type": "markdown",
      "metadata": {
        "id": "f0nJlsV2Hqb4",
        "colab_type": "text"
      },
      "source": [
        "Ejercicio 5\n",
        "\n",
        "Building DataFrames with broadcasting\n",
        "You can implicitly use 'broadcasting', a feature of NumPy, when creating pandas DataFrames. In this exercise, you're going to create a DataFrame of cities in Pennsylvania that contains the city name in one column and the state name in the second. We have imported the names of 15 cities as the list cities.\n",
        "\n",
        "Your job is to construct a DataFrame from the list of cities and the string 'PA'."
      ]
    },
    {
      "cell_type": "code",
      "metadata": {
        "id": "FTzF6onvHubx",
        "colab_type": "code",
        "colab": {}
      },
      "source": [
        "#Make a string object with the value 'PA' and assign it to state.\n",
        "#Construct a dictionary with 2 key:value pairs: 'state':state and 'city':cities.\n",
        "#Construct a pandas DataFrame from the dictionary you created and assign it to df.\n",
        "\n",
        "# Make a string with the value 'PA': state\n",
        "state = ____\n",
        "\n",
        "# Construct a dictionary: data\n",
        "data = {'state':____, 'city':____}\n",
        "\n",
        "# Construct a DataFrame from dictionary data: df\n",
        "df = ____\n",
        "\n",
        "# Print the DataFrame\n",
        "print(df)\n",
        "\n"
      ],
      "execution_count": 0,
      "outputs": []
    },
    {
      "cell_type": "markdown",
      "metadata": {
        "id": "yOrJopoUIiOg",
        "colab_type": "text"
      },
      "source": [
        "Ejerciico 6:\n",
        "\n",
        "Exercise\n",
        "Exercise\n",
        "Reading a flat file\n",
        "In previous exercises, we have preloaded the data for you using the pandas function read_csv(). Now, it's your turn! Your job is to read the World Bank population data you saw earlier into a DataFrame using read_csv(). The file is available in the variable data_file.\n",
        "\n",
        "The next step is to reread the same file, but simultaneously rename the columns using the names keyword input parameter, set equal to a list of new column labels. You will also need to set header=0 to rename the column labels.\n",
        "\n",
        "Finish up by inspecting the result with df.head() and df.info() in the IPython Shell (changing df to the name of your DataFrame variable).\n",
        "\n",
        "pandas has already been imported and is available in the workspace as pd."
      ]
    },
    {
      "cell_type": "code",
      "metadata": {
        "id": "alehzSvYIlTa",
        "colab_type": "code",
        "colab": {}
      },
      "source": [
        "#Use pd.read_csv() with the string data_file to read the CSV file into a DataFrame and assign it to df1.\n",
        "#Create a list of new column labels - 'year', 'population' - and assign it to the variable new_labels.\n",
        "#Reread the same file, again using pd.read_csv(), but this time, add the keyword arguments header=0 and names=new_labels. Assign the resulting DataFrame to df2.\n",
        "#Print both the df1 and df2 DataFrames to see the change in column names. This has already been done for you.\n",
        "\n",
        "\n",
        "# Read in the file: df1\n",
        "df1 = ____\n",
        "\n",
        "# Create a list of the new column labels: new_labels\n",
        "new_labels = ____\n",
        "\n",
        "# Read in the file, specifying the header and names parameters: df2\n",
        "df2 = ____(data_file, ____=0, ____=new_labels)\n",
        "\n",
        "# Print both the DataFrames\n",
        "print(df1)\n",
        "print(df2)\n",
        "\n"
      ],
      "execution_count": 0,
      "outputs": []
    },
    {
      "cell_type": "markdown",
      "metadata": {
        "id": "CGg82kPOI4Rs",
        "colab_type": "text"
      },
      "source": [
        "Ejercicio 7\n",
        "\n",
        "Delimiters, headers, and extensions\n",
        "Not all data files are clean and tidy. Pandas provides methods for reading those not-so-perfect data files that you encounter far too often.\n",
        "\n",
        "In this exercise, you have monthly stock data for four companies downloaded from Yahoo Finance. The data is stored as one row for each company and each column is the end-of-month closing price. The file name is given to you in the variable file_messy.\n",
        "\n",
        "In addition, this file has three aspects that may cause trouble for lesser tools: multiple header lines, comment records (rows) interleaved throughout the data rows, and space delimiters instead of commas.\n",
        "\n",
        "Your job is to use pandas to read the data from this problematic file_messy using non-default input options with read_csv() so as to tidy up the mess at read time. Then, write the cleaned up data to a CSV file with the variable file_clean that has been prepared for you, as you might do in a real data workflow.\n",
        "\n",
        "You can learn about the option input parameters needed by using help() on the pandas function pd.read_csv()."
      ]
    },
    {
      "cell_type": "code",
      "metadata": {
        "id": "dhHXtvX-I8ft",
        "colab_type": "code",
        "colab": {}
      },
      "source": [
        "#Use pd.read_csv() without using any keyword arguments to read file_messy into a pandas DataFrame df1.\n",
        "#Use .head() to print the first 5 rows of df1 and see how messy it is. Do this in the IPython Shell first so you can see how modifying read_csv() can clean up this mess.\n",
        "#Using the keyword arguments delimiter=' ', header=3 and comment='#', use pd.read_csv() again to read file_messy into a new DataFrame df2.\n",
        "#Print the output of df2.head() to verify the file was read correctly.\n",
        "#Use the DataFrame method .to_csv() to save the DataFrame df2 to the variable file_clean. Be sure to specify index=False.\n",
        "#Use the DataFrame method .to_excel() to save the DataFrame df2 to the file 'file_clean.xlsx'. Again, remember to specify index=False.\n",
        "\n",
        "# Read the raw file as-is: df1\n",
        "df1 = pd.read_csv(____)\n",
        "\n",
        "# Print the output of df1.head()\n",
        "print(df1.head())\n",
        "\n",
        "# Read in the file with the correct parameters: df2\n",
        "df2 = pd.read_csv(____, delimiter=____, header=____, comment=____)\n",
        "\n",
        "# Print the output of df2.head()\n",
        "print(df2.head())\n",
        "\n",
        "# Save the cleaned up DataFrame to a CSV file without the index\n",
        "df2.____(file_clean, index=False)\n",
        "\n",
        "# Save the cleaned up DataFrame to an excel file without the index\n",
        "df2.____('file_clean.xlsx', index=False)\n",
        "\n"
      ],
      "execution_count": 0,
      "outputs": []
    },
    {
      "cell_type": "markdown",
      "metadata": {
        "id": "3If4ivFMyUzJ",
        "colab_type": "text"
      },
      "source": [
        "### Ejercicio 1\n",
        "\n",
        "Cargad los datos del fichero _amazon.csv_, que podéis encontrar en la carpeta `data`, en un _dataframe_. Este conjunto de datos recoge información sobre el número de [incendios en bosques de Brasil](https://www.kaggle.com/gustavomodelli/forest-fires-in-brazil) entre el 1998 y el 2017.\n",
        "\n",
        "Mostrad el número de filas del _dataframe_ y el nombre de las columnas.\n",
        "\n",
        "\n"
      ]
    },
    {
      "cell_type": "code",
      "metadata": {
        "id": "UKSB4yQayUzN",
        "colab_type": "code",
        "colab": {
          "resources": {
            "http://localhost:8080/nbextensions/google.colab/files.js": {
              "data": "Ly8gQ29weXJpZ2h0IDIwMTcgR29vZ2xlIExMQwovLwovLyBMaWNlbnNlZCB1bmRlciB0aGUgQXBhY2hlIExpY2Vuc2UsIFZlcnNpb24gMi4wICh0aGUgIkxpY2Vuc2UiKTsKLy8geW91IG1heSBub3QgdXNlIHRoaXMgZmlsZSBleGNlcHQgaW4gY29tcGxpYW5jZSB3aXRoIHRoZSBMaWNlbnNlLgovLyBZb3UgbWF5IG9idGFpbiBhIGNvcHkgb2YgdGhlIExpY2Vuc2UgYXQKLy8KLy8gICAgICBodHRwOi8vd3d3LmFwYWNoZS5vcmcvbGljZW5zZXMvTElDRU5TRS0yLjAKLy8KLy8gVW5sZXNzIHJlcXVpcmVkIGJ5IGFwcGxpY2FibGUgbGF3IG9yIGFncmVlZCB0byBpbiB3cml0aW5nLCBzb2Z0d2FyZQovLyBkaXN0cmlidXRlZCB1bmRlciB0aGUgTGljZW5zZSBpcyBkaXN0cmlidXRlZCBvbiBhbiAiQVMgSVMiIEJBU0lTLAovLyBXSVRIT1VUIFdBUlJBTlRJRVMgT1IgQ09ORElUSU9OUyBPRiBBTlkgS0lORCwgZWl0aGVyIGV4cHJlc3Mgb3IgaW1wbGllZC4KLy8gU2VlIHRoZSBMaWNlbnNlIGZvciB0aGUgc3BlY2lmaWMgbGFuZ3VhZ2UgZ292ZXJuaW5nIHBlcm1pc3Npb25zIGFuZAovLyBsaW1pdGF0aW9ucyB1bmRlciB0aGUgTGljZW5zZS4KCi8qKgogKiBAZmlsZW92ZXJ2aWV3IEhlbHBlcnMgZm9yIGdvb2dsZS5jb2xhYiBQeXRob24gbW9kdWxlLgogKi8KKGZ1bmN0aW9uKHNjb3BlKSB7CmZ1bmN0aW9uIHNwYW4odGV4dCwgc3R5bGVBdHRyaWJ1dGVzID0ge30pIHsKICBjb25zdCBlbGVtZW50ID0gZG9jdW1lbnQuY3JlYXRlRWxlbWVudCgnc3BhbicpOwogIGVsZW1lbnQudGV4dENvbnRlbnQgPSB0ZXh0OwogIGZvciAoY29uc3Qga2V5IG9mIE9iamVjdC5rZXlzKHN0eWxlQXR0cmlidXRlcykpIHsKICAgIGVsZW1lbnQuc3R5bGVba2V5XSA9IHN0eWxlQXR0cmlidXRlc1trZXldOwogIH0KICByZXR1cm4gZWxlbWVudDsKfQoKLy8gTWF4IG51bWJlciBvZiBieXRlcyB3aGljaCB3aWxsIGJlIHVwbG9hZGVkIGF0IGEgdGltZS4KY29uc3QgTUFYX1BBWUxPQURfU0laRSA9IDEwMCAqIDEwMjQ7Ci8vIE1heCBhbW91bnQgb2YgdGltZSB0byBibG9jayB3YWl0aW5nIGZvciB0aGUgdXNlci4KY29uc3QgRklMRV9DSEFOR0VfVElNRU9VVF9NUyA9IDMwICogMTAwMDsKCmZ1bmN0aW9uIF91cGxvYWRGaWxlcyhpbnB1dElkLCBvdXRwdXRJZCkgewogIGNvbnN0IHN0ZXBzID0gdXBsb2FkRmlsZXNTdGVwKGlucHV0SWQsIG91dHB1dElkKTsKICBjb25zdCBvdXRwdXRFbGVtZW50ID0gZG9jdW1lbnQuZ2V0RWxlbWVudEJ5SWQob3V0cHV0SWQpOwogIC8vIENhY2hlIHN0ZXBzIG9uIHRoZSBvdXRwdXRFbGVtZW50IHRvIG1ha2UgaXQgYXZhaWxhYmxlIGZvciB0aGUgbmV4dCBjYWxsCiAgLy8gdG8gdXBsb2FkRmlsZXNDb250aW51ZSBmcm9tIFB5dGhvbi4KICBvdXRwdXRFbGVtZW50LnN0ZXBzID0gc3RlcHM7CgogIHJldHVybiBfdXBsb2FkRmlsZXNDb250aW51ZShvdXRwdXRJZCk7Cn0KCi8vIFRoaXMgaXMgcm91Z2hseSBhbiBhc3luYyBnZW5lcmF0b3IgKG5vdCBzdXBwb3J0ZWQgaW4gdGhlIGJyb3dzZXIgeWV0KSwKLy8gd2hlcmUgdGhlcmUgYXJlIG11bHRpcGxlIGFzeW5jaHJvbm91cyBzdGVwcyBhbmQgdGhlIFB5dGhvbiBzaWRlIGlzIGdvaW5nCi8vIHRvIHBvbGwgZm9yIGNvbXBsZXRpb24gb2YgZWFjaCBzdGVwLgovLyBUaGlzIHVzZXMgYSBQcm9taXNlIHRvIGJsb2NrIHRoZSBweXRob24gc2lkZSBvbiBjb21wbGV0aW9uIG9mIGVhY2ggc3RlcCwKLy8gdGhlbiBwYXNzZXMgdGhlIHJlc3VsdCBvZiB0aGUgcHJldmlvdXMgc3RlcCBhcyB0aGUgaW5wdXQgdG8gdGhlIG5leHQgc3RlcC4KZnVuY3Rpb24gX3VwbG9hZEZpbGVzQ29udGludWUob3V0cHV0SWQpIHsKICBjb25zdCBvdXRwdXRFbGVtZW50ID0gZG9jdW1lbnQuZ2V0RWxlbWVudEJ5SWQob3V0cHV0SWQpOwogIGNvbnN0IHN0ZXBzID0gb3V0cHV0RWxlbWVudC5zdGVwczsKCiAgY29uc3QgbmV4dCA9IHN0ZXBzLm5leHQob3V0cHV0RWxlbWVudC5sYXN0UHJvbWlzZVZhbHVlKTsKICByZXR1cm4gUHJvbWlzZS5yZXNvbHZlKG5leHQudmFsdWUucHJvbWlzZSkudGhlbigodmFsdWUpID0+IHsKICAgIC8vIENhY2hlIHRoZSBsYXN0IHByb21pc2UgdmFsdWUgdG8gbWFrZSBpdCBhdmFpbGFibGUgdG8gdGhlIG5leHQKICAgIC8vIHN0ZXAgb2YgdGhlIGdlbmVyYXRvci4KICAgIG91dHB1dEVsZW1lbnQubGFzdFByb21pc2VWYWx1ZSA9IHZhbHVlOwogICAgcmV0dXJuIG5leHQudmFsdWUucmVzcG9uc2U7CiAgfSk7Cn0KCi8qKgogKiBHZW5lcmF0b3IgZnVuY3Rpb24gd2hpY2ggaXMgY2FsbGVkIGJldHdlZW4gZWFjaCBhc3luYyBzdGVwIG9mIHRoZSB1cGxvYWQKICogcHJvY2Vzcy4KICogQHBhcmFtIHtzdHJpbmd9IGlucHV0SWQgRWxlbWVudCBJRCBvZiB0aGUgaW5wdXQgZmlsZSBwaWNrZXIgZWxlbWVudC4KICogQHBhcmFtIHtzdHJpbmd9IG91dHB1dElkIEVsZW1lbnQgSUQgb2YgdGhlIG91dHB1dCBkaXNwbGF5LgogKiBAcmV0dXJuIHshSXRlcmFibGU8IU9iamVjdD59IEl0ZXJhYmxlIG9mIG5leHQgc3RlcHMuCiAqLwpmdW5jdGlvbiogdXBsb2FkRmlsZXNTdGVwKGlucHV0SWQsIG91dHB1dElkKSB7CiAgY29uc3QgaW5wdXRFbGVtZW50ID0gZG9jdW1lbnQuZ2V0RWxlbWVudEJ5SWQoaW5wdXRJZCk7CiAgaW5wdXRFbGVtZW50LmRpc2FibGVkID0gZmFsc2U7CgogIGNvbnN0IG91dHB1dEVsZW1lbnQgPSBkb2N1bWVudC5nZXRFbGVtZW50QnlJZChvdXRwdXRJZCk7CiAgb3V0cHV0RWxlbWVudC5pbm5lckhUTUwgPSAnJzsKCiAgY29uc3QgcGlja2VkUHJvbWlzZSA9IG5ldyBQcm9taXNlKChyZXNvbHZlKSA9PiB7CiAgICBpbnB1dEVsZW1lbnQuYWRkRXZlbnRMaXN0ZW5lcignY2hhbmdlJywgKGUpID0+IHsKICAgICAgcmVzb2x2ZShlLnRhcmdldC5maWxlcyk7CiAgICB9KTsKICB9KTsKCiAgY29uc3QgY2FuY2VsID0gZG9jdW1lbnQuY3JlYXRlRWxlbWVudCgnYnV0dG9uJyk7CiAgaW5wdXRFbGVtZW50LnBhcmVudEVsZW1lbnQuYXBwZW5kQ2hpbGQoY2FuY2VsKTsKICBjYW5jZWwudGV4dENvbnRlbnQgPSAnQ2FuY2VsIHVwbG9hZCc7CiAgY29uc3QgY2FuY2VsUHJvbWlzZSA9IG5ldyBQcm9taXNlKChyZXNvbHZlKSA9PiB7CiAgICBjYW5jZWwub25jbGljayA9ICgpID0+IHsKICAgICAgcmVzb2x2ZShudWxsKTsKICAgIH07CiAgfSk7CgogIC8vIENhbmNlbCB1cGxvYWQgaWYgdXNlciBoYXNuJ3QgcGlja2VkIGFueXRoaW5nIGluIHRpbWVvdXQuCiAgY29uc3QgdGltZW91dFByb21pc2UgPSBuZXcgUHJvbWlzZSgocmVzb2x2ZSkgPT4gewogICAgc2V0VGltZW91dCgoKSA9PiB7CiAgICAgIHJlc29sdmUobnVsbCk7CiAgICB9LCBGSUxFX0NIQU5HRV9USU1FT1VUX01TKTsKICB9KTsKCiAgLy8gV2FpdCBmb3IgdGhlIHVzZXIgdG8gcGljayB0aGUgZmlsZXMuCiAgY29uc3QgZmlsZXMgPSB5aWVsZCB7CiAgICBwcm9taXNlOiBQcm9taXNlLnJhY2UoW3BpY2tlZFByb21pc2UsIHRpbWVvdXRQcm9taXNlLCBjYW5jZWxQcm9taXNlXSksCiAgICByZXNwb25zZTogewogICAgICBhY3Rpb246ICdzdGFydGluZycsCiAgICB9CiAgfTsKCiAgaWYgKCFmaWxlcykgewogICAgcmV0dXJuIHsKICAgICAgcmVzcG9uc2U6IHsKICAgICAgICBhY3Rpb246ICdjb21wbGV0ZScsCiAgICAgIH0KICAgIH07CiAgfQoKICBjYW5jZWwucmVtb3ZlKCk7CgogIC8vIERpc2FibGUgdGhlIGlucHV0IGVsZW1lbnQgc2luY2UgZnVydGhlciBwaWNrcyBhcmUgbm90IGFsbG93ZWQuCiAgaW5wdXRFbGVtZW50LmRpc2FibGVkID0gdHJ1ZTsKCiAgZm9yIChjb25zdCBmaWxlIG9mIGZpbGVzKSB7CiAgICBjb25zdCBsaSA9IGRvY3VtZW50LmNyZWF0ZUVsZW1lbnQoJ2xpJyk7CiAgICBsaS5hcHBlbmQoc3BhbihmaWxlLm5hbWUsIHtmb250V2VpZ2h0OiAnYm9sZCd9KSk7CiAgICBsaS5hcHBlbmQoc3BhbigKICAgICAgICBgKCR7ZmlsZS50eXBlIHx8ICduL2EnfSkgLSAke2ZpbGUuc2l6ZX0gYnl0ZXMsIGAgKwogICAgICAgIGBsYXN0IG1vZGlmaWVkOiAkewogICAgICAgICAgICBmaWxlLmxhc3RNb2RpZmllZERhdGUgPyBmaWxlLmxhc3RNb2RpZmllZERhdGUudG9Mb2NhbGVEYXRlU3RyaW5nKCkgOgogICAgICAgICAgICAgICAgICAgICAgICAgICAgICAgICAgICAnbi9hJ30gLSBgKSk7CiAgICBjb25zdCBwZXJjZW50ID0gc3BhbignMCUgZG9uZScpOwogICAgbGkuYXBwZW5kQ2hpbGQocGVyY2VudCk7CgogICAgb3V0cHV0RWxlbWVudC5hcHBlbmRDaGlsZChsaSk7CgogICAgY29uc3QgZmlsZURhdGFQcm9taXNlID0gbmV3IFByb21pc2UoKHJlc29sdmUpID0+IHsKICAgICAgY29uc3QgcmVhZGVyID0gbmV3IEZpbGVSZWFkZXIoKTsKICAgICAgcmVhZGVyLm9ubG9hZCA9IChlKSA9PiB7CiAgICAgICAgcmVzb2x2ZShlLnRhcmdldC5yZXN1bHQpOwogICAgICB9OwogICAgICByZWFkZXIucmVhZEFzQXJyYXlCdWZmZXIoZmlsZSk7CiAgICB9KTsKICAgIC8vIFdhaXQgZm9yIHRoZSBkYXRhIHRvIGJlIHJlYWR5LgogICAgbGV0IGZpbGVEYXRhID0geWllbGQgewogICAgICBwcm9taXNlOiBmaWxlRGF0YVByb21pc2UsCiAgICAgIHJlc3BvbnNlOiB7CiAgICAgICAgYWN0aW9uOiAnY29udGludWUnLAogICAgICB9CiAgICB9OwoKICAgIC8vIFVzZSBhIGNodW5rZWQgc2VuZGluZyB0byBhdm9pZCBtZXNzYWdlIHNpemUgbGltaXRzLiBTZWUgYi82MjExNTY2MC4KICAgIGxldCBwb3NpdGlvbiA9IDA7CiAgICB3aGlsZSAocG9zaXRpb24gPCBmaWxlRGF0YS5ieXRlTGVuZ3RoKSB7CiAgICAgIGNvbnN0IGxlbmd0aCA9IE1hdGgubWluKGZpbGVEYXRhLmJ5dGVMZW5ndGggLSBwb3NpdGlvbiwgTUFYX1BBWUxPQURfU0laRSk7CiAgICAgIGNvbnN0IGNodW5rID0gbmV3IFVpbnQ4QXJyYXkoZmlsZURhdGEsIHBvc2l0aW9uLCBsZW5ndGgpOwogICAgICBwb3NpdGlvbiArPSBsZW5ndGg7CgogICAgICBjb25zdCBiYXNlNjQgPSBidG9hKFN0cmluZy5mcm9tQ2hhckNvZGUuYXBwbHkobnVsbCwgY2h1bmspKTsKICAgICAgeWllbGQgewogICAgICAgIHJlc3BvbnNlOiB7CiAgICAgICAgICBhY3Rpb246ICdhcHBlbmQnLAogICAgICAgICAgZmlsZTogZmlsZS5uYW1lLAogICAgICAgICAgZGF0YTogYmFzZTY0LAogICAgICAgIH0sCiAgICAgIH07CiAgICAgIHBlcmNlbnQudGV4dENvbnRlbnQgPQogICAgICAgICAgYCR7TWF0aC5yb3VuZCgocG9zaXRpb24gLyBmaWxlRGF0YS5ieXRlTGVuZ3RoKSAqIDEwMCl9JSBkb25lYDsKICAgIH0KICB9CgogIC8vIEFsbCBkb25lLgogIHlpZWxkIHsKICAgIHJlc3BvbnNlOiB7CiAgICAgIGFjdGlvbjogJ2NvbXBsZXRlJywKICAgIH0KICB9Owp9CgpzY29wZS5nb29nbGUgPSBzY29wZS5nb29nbGUgfHwge307CnNjb3BlLmdvb2dsZS5jb2xhYiA9IHNjb3BlLmdvb2dsZS5jb2xhYiB8fCB7fTsKc2NvcGUuZ29vZ2xlLmNvbGFiLl9maWxlcyA9IHsKICBfdXBsb2FkRmlsZXMsCiAgX3VwbG9hZEZpbGVzQ29udGludWUsCn07Cn0pKHNlbGYpOwo=",
              "ok": true,
              "headers": [
                [
                  "content-type",
                  "application/javascript"
                ]
              ],
              "status": 200,
              "status_text": ""
            }
          },
          "base_uri": "https://localhost:8080/",
          "height": 74
        },
        "outputId": "a091ff22-421a-4704-dc5d-3bd10055576a"
      },
      "source": [
        "# Respuesta\n",
        "import pandas as pd\n",
        "import io\n",
        "from google.colab import files \n",
        "uploaded = files.upload()\n",
        "\n",
        "\n",
        "datos = pd.read_csv(io.BytesIO(uploaded['amazon_v1.csv']))\n"
      ],
      "execution_count": 181,
      "outputs": [
        {
          "output_type": "display_data",
          "data": {
            "text/html": [
              "\n",
              "     <input type=\"file\" id=\"files-03dce045-8d5c-4260-ab93-bc9812a6fbb4\" name=\"files[]\" multiple disabled />\n",
              "     <output id=\"result-03dce045-8d5c-4260-ab93-bc9812a6fbb4\">\n",
              "      Upload widget is only available when the cell has been executed in the\n",
              "      current browser session. Please rerun this cell to enable.\n",
              "      </output>\n",
              "      <script src=\"/nbextensions/google.colab/files.js\"></script> "
            ],
            "text/plain": [
              "<IPython.core.display.HTML object>"
            ]
          },
          "metadata": {
            "tags": []
          }
        },
        {
          "output_type": "stream",
          "text": [
            "Saving amazon_v1.csv to amazon_v1 (1).csv\n"
          ],
          "name": "stdout"
        }
      ]
    },
    {
      "cell_type": "code",
      "metadata": {
        "id": "2zfA9NhL-kqq",
        "colab_type": "code",
        "colab": {
          "base_uri": "https://localhost:8080/",
          "height": 51
        },
        "outputId": "6b25f55b-fb61-43de-fa40-50c10a336807"
      },
      "source": [
        "filas = datos.shape[0]\n",
        "print(filas) #Número de filas\n",
        "print(datos.columns.values) #Nombre de las columnas"
      ],
      "execution_count": 82,
      "outputs": [
        {
          "output_type": "stream",
          "text": [
            "6454\n",
            "['year' 'state' 'month' 'number' 'date']\n"
          ],
          "name": "stdout"
        }
      ]
    },
    {
      "cell_type": "markdown",
      "metadata": {
        "id": "4zYq6s8nyUzW",
        "colab_type": "text"
      },
      "source": [
        "### Ejercicio 8\n",
        "\n",
        "Agrupad los datos cargados al ejercicio 1 por **año** y, para cada año, mostrad el número total de incendios que tuvierón lugar en todo el país.\n",
        "\n",
        "**Nota:** Al Notebook de teoria hemos visto como calcular la media de una agrupación de datos. Para resolver este ejercicio tendréis que investigar como sumar todos los valores de una columna en una agrupación. Os puede ser de utilidad la función [aggregate](https://pandas.pydata.org/pandas-docs/stable/reference/api/pandas.DataFrame.aggregate.html) de pandas, la cual nos permite aplicar diferentes funciones a una columna en un ```groupby```.\n"
      ]
    },
    {
      "cell_type": "code",
      "metadata": {
        "id": "FT8Q-5KKyUzY",
        "colab_type": "code",
        "colab": {
          "base_uri": "https://localhost:8080/",
          "height": 1000
        },
        "outputId": "4ce1615f-79f5-42d1-b69d-bdc759e99362"
      },
      "source": [
        "# Respuesta\n",
        "\n",
        "#Aquí solo agrupamos por año\n",
        "gruposPorAño = datos.groupby('year')\n",
        "\n",
        "for name, group in gruposPorAño:\n",
        "  print(name,group) #Por ejemplo: nombre sería el 2014, 2015, etc que se imprime y group todos los demás datos  \n",
        "\n",
        "#Más abajo agrupamos por año y lo de para cada año"
      ],
      "execution_count": 83,
      "outputs": [
        {
          "output_type": "stream",
          "text": [
            "1998       year      state      month  number        date\n",
            "0     1998       Acre    Janeiro   0.000  1998-01-01\n",
            "20    1998       Acre  Fevereiro   0.000  1998-01-01\n",
            "40    1998       Acre      Março   0.000  1998-01-01\n",
            "60    1998       Acre      Abril   0.000  1998-01-01\n",
            "80    1998       Acre       Maio   0.000  1998-01-01\n",
            "...    ...        ...        ...     ...         ...\n",
            "6355  1998  Tocantins     Agosto   3.747  1998-01-01\n",
            "6375  1998  Tocantins   Setembro   5.149  1998-01-01\n",
            "6395  1998  Tocantins    Outubro   1.738  1998-01-01\n",
            "6415  1998  Tocantins   Novembro   1.000  1998-01-01\n",
            "6435  1998  Tocantins   Dezembro   9.000  1998-01-01\n",
            "\n",
            "[324 rows x 5 columns]\n",
            "1999       year      state      month  number        date\n",
            "1     1999       Acre    Janeiro   0.000  1999-01-01\n",
            "21    1999       Acre  Fevereiro   0.000  1999-01-01\n",
            "41    1999       Acre      Março   0.000  1999-01-01\n",
            "61    1999       Acre      Abril   0.000  1999-01-01\n",
            "81    1999       Acre       Maio   0.000  1999-01-01\n",
            "...    ...        ...        ...     ...         ...\n",
            "6356  1999  Tocantins     Agosto   1.284  1999-01-01\n",
            "6376  1999  Tocantins   Setembro   3.415  1999-01-01\n",
            "6396  1999  Tocantins    Outubro   1.378  1999-01-01\n",
            "6416  1999  Tocantins   Novembro  29.000  1999-01-01\n",
            "6436  1999  Tocantins   Dezembro  16.000  1999-01-01\n",
            "\n",
            "[324 rows x 5 columns]\n",
            "2000       year      state      month  number        date\n",
            "2     2000       Acre    Janeiro   0.000  2000-01-01\n",
            "22    2000       Acre  Fevereiro   0.000  2000-01-01\n",
            "42    2000       Acre      Março  11.000  2000-01-01\n",
            "62    2000       Acre      Abril   1.000  2000-01-01\n",
            "82    2000       Acre       Maio   1.000  2000-01-01\n",
            "...    ...        ...        ...     ...         ...\n",
            "6357  2000  Tocantins     Agosto   1.949  2000-01-01\n",
            "6377  2000  Tocantins   Setembro   2.552  2000-01-01\n",
            "6397  2000  Tocantins    Outubro   1.053  2000-01-01\n",
            "6417  2000  Tocantins   Novembro  96.000  2000-01-01\n",
            "6437  2000  Tocantins   Dezembro  20.000  2000-01-01\n",
            "\n",
            "[324 rows x 5 columns]\n",
            "2001       year      state      month   number        date\n",
            "3     2001       Acre    Janeiro    0.000  2001-01-01\n",
            "23    2001       Acre  Fevereiro    0.000  2001-01-01\n",
            "43    2001       Acre      Março    0.000  2001-01-01\n",
            "63    2001       Acre      Abril    0.000  2001-01-01\n",
            "83    2001       Acre       Maio    0.000  2001-01-01\n",
            "...    ...        ...        ...      ...         ...\n",
            "6358  2001  Tocantins     Agosto    2.242  2001-01-01\n",
            "6378  2001  Tocantins   Setembro    4.839  2001-01-01\n",
            "6398  2001  Tocantins    Outubro  684.000  2001-01-01\n",
            "6418  2001  Tocantins   Novembro  100.000  2001-01-01\n",
            "6438  2001  Tocantins   Dezembro   21.000  2001-01-01\n",
            "\n",
            "[324 rows x 5 columns]\n",
            "2002       year      state      month   number        date\n",
            "4     2002       Acre    Janeiro    0.000  2002-01-01\n",
            "24    2002       Acre  Fevereiro    1.000  2002-01-01\n",
            "44    2002       Acre      Março    0.000  2002-01-01\n",
            "64    2002       Acre      Abril    0.000  2002-01-01\n",
            "84    2002       Acre       Maio    0.000  2002-01-01\n",
            "...    ...        ...        ...      ...         ...\n",
            "6359  2002  Tocantins     Agosto    3.027  2002-01-01\n",
            "6379  2002  Tocantins   Setembro    5.314  2002-01-01\n",
            "6399  2002  Tocantins    Outubro    1.537  2002-01-01\n",
            "6419  2002  Tocantins   Novembro  207.000  2002-01-01\n",
            "6439  2002  Tocantins   Dezembro   39.000  2002-01-01\n",
            "\n",
            "[324 rows x 5 columns]\n",
            "2003       year      state      month   number        date\n",
            "5     2003       Acre    Janeiro   10.000  2003-01-01\n",
            "25    2003       Acre  Fevereiro    0.000  2003-01-01\n",
            "45    2003       Acre      Março    0.000  2003-01-01\n",
            "65    2003       Acre      Abril    1.000  2003-01-01\n",
            "85    2003       Acre       Maio    6.000  2003-01-01\n",
            "...    ...        ...        ...      ...         ...\n",
            "6360  2003  Tocantins     Agosto    1.339  2003-01-01\n",
            "6380  2003  Tocantins   Setembro    4.637  2003-01-01\n",
            "6400  2003  Tocantins    Outubro    1.339  2003-01-01\n",
            "6420  2003  Tocantins   Novembro  146.000  2003-01-01\n",
            "6440  2003  Tocantins   Dezembro  109.000  2003-01-01\n",
            "\n",
            "[324 rows x 5 columns]\n",
            "2004       year      state      month   number        date\n",
            "6     2004       Acre    Janeiro    0.000  2004-01-01\n",
            "26    2004       Acre  Fevereiro    3.000  2004-01-01\n",
            "46    2004       Acre      Março    0.000  2004-01-01\n",
            "66    2004       Acre      Abril    2.000  2004-01-01\n",
            "86    2004       Acre       Maio    7.000  2004-01-01\n",
            "...    ...        ...        ...      ...         ...\n",
            "6361  2004  Tocantins     Agosto    1.776  2004-01-01\n",
            "6381  2004  Tocantins   Setembro    5.308  2004-01-01\n",
            "6401  2004  Tocantins    Outubro    1.658  2004-01-01\n",
            "6421  2004  Tocantins   Novembro  424.000  2004-01-01\n",
            "6441  2004  Tocantins   Dezembro   96.000  2004-01-01\n",
            "\n",
            "[324 rows x 5 columns]\n",
            "2005       year      state      month   number        date\n",
            "7     2005       Acre    Janeiro   12.000  2005-01-01\n",
            "27    2005       Acre  Fevereiro    0.000  2005-01-01\n",
            "47    2005       Acre      Março    3.000  2005-01-01\n",
            "67    2005       Acre      Abril    1.000  2005-01-01\n",
            "87    2005       Acre       Maio    2.000  2005-01-01\n",
            "...    ...        ...        ...      ...         ...\n",
            "6362  2005  Tocantins     Agosto    1.840  2005-01-01\n",
            "6382  2005  Tocantins   Setembro    5.319  2005-01-01\n",
            "6402  2005  Tocantins    Outubro    2.913  2005-01-01\n",
            "6422  2005  Tocantins   Novembro  271.000  2005-01-01\n",
            "6442  2005  Tocantins   Dezembro   53.000  2005-01-01\n",
            "\n",
            "[324 rows x 5 columns]\n",
            "2006       year      state      month   number        date\n",
            "8     2006       Acre    Janeiro    4.000  2006-01-01\n",
            "28    2006       Acre  Fevereiro    0.000  2006-01-01\n",
            "48    2006       Acre      Março    0.000  2006-01-01\n",
            "68    2006       Acre      Abril    0.000  2006-01-01\n",
            "88    2006       Acre       Maio    8.000  2006-01-01\n",
            "...    ...        ...        ...      ...         ...\n",
            "6363  2006  Tocantins     Agosto    1.277  2006-01-01\n",
            "6383  2006  Tocantins   Setembro    2.979  2006-01-01\n",
            "6403  2006  Tocantins    Outubro    1.176  2006-01-01\n",
            "6423  2006  Tocantins   Novembro  108.000  2006-01-01\n",
            "6443  2006  Tocantins   Dezembro   15.000  2006-01-01\n",
            "\n",
            "[324 rows x 5 columns]\n",
            "2007       year      state      month   number        date\n",
            "9     2007       Acre    Janeiro    0.000  2007-01-01\n",
            "29    2007       Acre  Fevereiro    5.000  2007-01-01\n",
            "49    2007       Acre      Março    2.000  2007-01-01\n",
            "69    2007       Acre      Abril    0.000  2007-01-01\n",
            "89    2007       Acre       Maio    1.000  2007-01-01\n",
            "...    ...        ...        ...      ...         ...\n",
            "6364  2007  Tocantins     Agosto    4.747  2007-01-01\n",
            "6384  2007  Tocantins   Setembro    6.829  2007-01-01\n",
            "6404  2007  Tocantins    Outubro    2.252  2007-01-01\n",
            "6424  2007  Tocantins   Novembro  147.000  2007-01-01\n",
            "6444  2007  Tocantins   Dezembro   13.000  2007-01-01\n",
            "\n",
            "[324 rows x 5 columns]\n",
            "2008       year      state      month   number        date\n",
            "10    2008       Acre    Janeiro    0.000  2008-01-01\n",
            "30    2008       Acre  Fevereiro    0.000  2008-01-01\n",
            "50    2008       Acre      Março    0.000  2008-01-01\n",
            "70    2008       Acre      Abril    0.000  2008-01-01\n",
            "90    2008       Acre       Maio    0.000  2008-01-01\n",
            "...    ...        ...        ...      ...         ...\n",
            "6365  2008  Tocantins     Agosto  845.000  2008-01-01\n",
            "6385  2008  Tocantins   Setembro    2.390  2008-01-01\n",
            "6405  2008  Tocantins    Outubro    2.832  2008-01-01\n",
            "6425  2008  Tocantins   Novembro  104.000  2008-01-01\n",
            "6445  2008  Tocantins   Dezembro    7.000  2008-01-01\n",
            "\n",
            "[324 rows x 5 columns]\n",
            "2009       year      state      month   number        date\n",
            "11    2009       Acre    Janeiro    0.000  2009-01-01\n",
            "31    2009       Acre  Fevereiro    2.000  2009-01-01\n",
            "51    2009       Acre      Março    1.000  2009-01-01\n",
            "71    2009       Acre      Abril    0.000  2009-01-01\n",
            "91    2009       Acre       Maio    3.000  2009-01-01\n",
            "...    ...        ...        ...      ...         ...\n",
            "6366  2009  Tocantins     Agosto    1.124  2009-01-01\n",
            "6386  2009  Tocantins   Setembro    2.017  2009-01-01\n",
            "6406  2009  Tocantins    Outubro  718.000  2009-01-01\n",
            "6426  2009  Tocantins   Novembro  251.000  2009-01-01\n",
            "6446  2009  Tocantins   Dezembro   46.000  2009-01-01\n",
            "\n",
            "[324 rows x 5 columns]\n",
            "2010       year      state      month   number        date\n",
            "12    2010       Acre    Janeiro    1.000  2010-01-01\n",
            "32    2010       Acre  Fevereiro    0.000  2010-01-01\n",
            "52    2010       Acre      Março    0.000  2010-01-01\n",
            "72    2010       Acre      Abril    3.000  2010-01-01\n",
            "92    2010       Acre       Maio    9.000  2010-01-01\n",
            "...    ...        ...        ...      ...         ...\n",
            "6367  2010  Tocantins     Agosto    7.865  2010-01-01\n",
            "6387  2010  Tocantins   Setembro   10.172  2010-01-01\n",
            "6407  2010  Tocantins    Outubro    2.272  2010-01-01\n",
            "6427  2010  Tocantins   Novembro  283.000  2010-01-01\n",
            "6447  2010  Tocantins   Dezembro   72.000  2010-01-01\n",
            "\n",
            "[324 rows x 5 columns]\n",
            "2011       year      state      month   number        date\n",
            "13    2011       Acre    Janeiro    0.000  2011-01-01\n",
            "33    2011       Acre  Fevereiro    0.000  2011-01-01\n",
            "53    2011       Acre      Março    0.000  2011-01-01\n",
            "73    2011       Acre      Abril    2.000  2011-01-01\n",
            "93    2011       Acre       Maio    3.000  2011-01-01\n",
            "...    ...        ...        ...      ...         ...\n",
            "6368  2011  Tocantins     Agosto    1.668  2011-01-01\n",
            "6388  2011  Tocantins   Setembro    4.658  2011-01-01\n",
            "6408  2011  Tocantins    Outubro    1.591  2011-01-01\n",
            "6428  2011  Tocantins   Novembro  144.000  2011-01-01\n",
            "6448  2011  Tocantins   Dezembro  105.000  2011-01-01\n",
            "\n",
            "[324 rows x 5 columns]\n",
            "2012       year      state      month  number        date\n",
            "14    2012       Acre    Janeiro    0.00  2012-01-01\n",
            "34    2012       Acre  Fevereiro    0.00  2012-01-01\n",
            "54    2012       Acre      Março    1.00  2012-01-01\n",
            "74    2012       Acre      Abril    1.00  2012-01-01\n",
            "94    2012       Acre       Maio    3.00  2012-01-01\n",
            "...    ...        ...        ...     ...         ...\n",
            "6369  2012  Tocantins     Agosto    4.28  2012-01-01\n",
            "6389  2012  Tocantins   Setembro    7.46  2012-01-01\n",
            "6409  2012  Tocantins    Outubro    3.68  2012-01-01\n",
            "6429  2012  Tocantins   Novembro  179.00  2012-01-01\n",
            "6449  2012  Tocantins   Dezembro  128.00  2012-01-01\n",
            "\n",
            "[324 rows x 5 columns]\n",
            "2013       year      state      month   number        date\n",
            "15    2013       Acre    Janeiro    0.000  2013-01-01\n",
            "35    2013       Acre  Fevereiro    0.000  2013-01-01\n",
            "55    2013       Acre      Março    2.000  2013-01-01\n",
            "75    2013       Acre      Abril   19.000  2013-01-01\n",
            "95    2013       Acre       Maio    4.000  2013-01-01\n",
            "...    ...        ...        ...      ...         ...\n",
            "6370  2013  Tocantins     Agosto    1.810  2013-01-01\n",
            "6390  2013  Tocantins   Setembro    2.445  2013-01-01\n",
            "6410  2013  Tocantins    Outubro    2.155  2013-01-01\n",
            "6430  2013  Tocantins   Novembro  345.000  2013-01-01\n",
            "6450  2013  Tocantins   Dezembro   85.000  2013-01-01\n",
            "\n",
            "[324 rows x 5 columns]\n",
            "2014       year      state      month   number        date\n",
            "16    2014       Acre    Janeiro    0.000  2014-01-01\n",
            "36    2014       Acre  Fevereiro    0.000  2014-01-01\n",
            "56    2014       Acre      Março    1.000  2014-01-01\n",
            "76    2014       Acre      Abril    7.000  2014-01-01\n",
            "96    2014       Acre       Maio    1.000  2014-01-01\n",
            "...    ...        ...        ...      ...         ...\n",
            "6371  2014  Tocantins     Agosto    2.917  2014-01-01\n",
            "6391  2014  Tocantins   Setembro    3.520  2014-01-01\n",
            "6411  2014  Tocantins    Outubro    4.000  2014-01-01\n",
            "6431  2014  Tocantins   Novembro  451.000  2014-01-01\n",
            "6451  2014  Tocantins   Dezembro  223.000  2014-01-01\n",
            "\n",
            "[324 rows x 5 columns]\n",
            "2015       year      state      month   number        date\n",
            "17    2015       Acre    Janeiro    1.000  2015-01-01\n",
            "37    2015       Acre  Fevereiro    2.000  2015-01-01\n",
            "57    2015       Acre      Março    2.000  2015-01-01\n",
            "77    2015       Acre      Abril    3.000  2015-01-01\n",
            "97    2015       Acre       Maio    2.000  2015-01-01\n",
            "...    ...        ...        ...      ...         ...\n",
            "6372  2015  Tocantins     Agosto    2.540  2015-01-01\n",
            "6392  2015  Tocantins   Setembro    5.510  2015-01-01\n",
            "6412  2015  Tocantins    Outubro    4.844  2015-01-01\n",
            "6432  2015  Tocantins   Novembro  833.000  2015-01-01\n",
            "6452  2015  Tocantins   Dezembro  373.000  2015-01-01\n",
            "\n",
            "[324 rows x 5 columns]\n",
            "2016       year      state      month   number        date\n",
            "18    2016       Acre    Janeiro   12.000  2016-01-01\n",
            "38    2016       Acre  Fevereiro    5.000  2016-01-01\n",
            "58    2016       Acre      Março    0.000  2016-01-01\n",
            "78    2016       Acre      Abril    0.000  2016-01-01\n",
            "98    2016       Acre       Maio   21.000  2016-01-01\n",
            "...    ...        ...        ...      ...         ...\n",
            "6373  2016  Tocantins     Agosto    3.213  2016-01-01\n",
            "6393  2016  Tocantins   Setembro    3.245  2016-01-01\n",
            "6413  2016  Tocantins    Outubro    2.032  2016-01-01\n",
            "6433  2016  Tocantins   Novembro  623.000  2016-01-01\n",
            "6453  2016  Tocantins   Dezembro  119.000  2016-01-01\n",
            "\n",
            "[324 rows x 5 columns]\n",
            "2017       year      state      month   number        date\n",
            "19    2017       Acre    Janeiro    0.000  2017-01-01\n",
            "39    2017       Acre  Fevereiro    1.000  2017-01-01\n",
            "59    2017       Acre      Março    0.000  2017-01-01\n",
            "79    2017       Acre      Abril    1.000  2017-01-01\n",
            "99    2017       Acre       Maio   10.000  2017-01-01\n",
            "...    ...        ...        ...      ...         ...\n",
            "6354  2017  Tocantins      Julho    2.397  2017-01-01\n",
            "6374  2017  Tocantins     Agosto    3.536  2017-01-01\n",
            "6394  2017  Tocantins   Setembro   10.737  2017-01-01\n",
            "6414  2017  Tocantins    Outubro    2.969  2017-01-01\n",
            "6434  2017  Tocantins   Novembro  434.000  2017-01-01\n",
            "\n",
            "[298 rows x 5 columns]\n"
          ],
          "name": "stdout"
        }
      ]
    },
    {
      "cell_type": "code",
      "metadata": {
        "id": "A0IrSPfGHZ7s",
        "colab_type": "code",
        "colab": {
          "base_uri": "https://localhost:8080/",
          "height": 119
        },
        "outputId": "1fabeb99-673c-4021-cf4f-931f362ffd11"
      },
      "source": [
        "import math\n",
        "# Haciendo el ejercicio 11, al coger datosCopia.iloc[1414] vimos que tomaba el riesgo como low cuando debería de ser high\n",
        "# Ahí nos dimos cuenta de que 1.328 lo cogía como si fuera 1,328, es decir, un float. Por ello tenemos que tratar primero \n",
        "# los datos y convertir ese 1.328 en 1328, es decir, un int\n",
        "# Primero Cambiamos el tipo de dato de number por un entero:\n",
        "\"\"\"print(datos.iloc[1414])\n",
        "print(datos['number'].dtype)\n",
        "contador=0;\n",
        "for i in datos['number']: \n",
        "  print(i)\n",
        "  parte_entera, parte_decimal = int(i), abs(i)-abs(int(i))\n",
        "  if(len(str(parte_decimal))==5):\n",
        "    datos.loc[contador,'number'] = parte_entera*1000 + float(parte_decimal)*1000\n",
        "    print(\"Que queda \", datos.loc[contador,'number'])\n",
        "  contador+=1\"\"\"\n",
        "print(datos.iloc[1414])\n",
        "#NO LO HE CONSEGUIDO, PERO HABRÍA QUE HACERLO \n",
        "\n"
      ],
      "execution_count": 182,
      "outputs": [
        {
          "output_type": "stream",
          "text": [
            "year            2016\n",
            "state          Ceara\n",
            "month       Novembro\n",
            "number         1.328\n",
            "date      2016-01-01\n",
            "Name: 1414, dtype: object\n"
          ],
          "name": "stdout"
        }
      ]
    },
    {
      "cell_type": "code",
      "metadata": {
        "id": "aZC4Vp-i0sTT",
        "colab_type": "code",
        "colab": {
          "base_uri": "https://localhost:8080/",
          "height": 391
        },
        "outputId": "c3643854-8381-4ec5-9217-45633b0a64d2"
      },
      "source": [
        "# Ahora ya podemos calcular la suma de los valores 'number' de cada grupo \n",
        "datos_suma = datos.groupby('year').agg({'number':sum})\n",
        "print(datos_suma)"
      ],
      "execution_count": 183,
      "outputs": [
        {
          "output_type": "stream",
          "text": [
            "         number\n",
            "year           \n",
            "1998  20013.971\n",
            "1999  26882.821\n",
            "2000  27351.251\n",
            "2001  29071.612\n",
            "2002  37390.600\n",
            "2003  42760.674\n",
            "2004  38453.163\n",
            "2005  35004.965\n",
            "2006  33832.161\n",
            "2007  33037.413\n",
            "2008  29378.964\n",
            "2009  39117.178\n",
            "2010  37037.449\n",
            "2011  34633.545\n",
            "2012  40084.860\n",
            "2013  35146.118\n",
            "2014  39621.183\n",
            "2015  41208.292\n",
            "2016  42212.229\n",
            "2017  36685.624\n"
          ],
          "name": "stdout"
        }
      ]
    },
    {
      "cell_type": "markdown",
      "metadata": {
        "id": "wc34hJc2yUza",
        "colab_type": "text"
      },
      "source": [
        "### Ejercicio 9\n",
        "\n",
        "Mostrad los estados de Brasil donde se registraron más de _800_ incendios al mes, contando los meses de _junio_, _julio_ y _agosto_. Debéis mostrar como resultado una lista de los estados **sin repetir**.\n",
        "\n",
        "**Nota:** Al Notebook de teoria hemos visto operaciones básicas de filtrado. Para resolver este ejercicio deberéis investigar como aplicar condiciones más complejas. Para extraer una lista de valores _únicos_ de una columna de un dataframe os puede ser útil la función [unique](https://pandas.pydata.org/pandas-docs/stable/reference/api/pandas.Series.unique.html) de pandas.\n",
        " \n"
      ]
    },
    {
      "cell_type": "code",
      "metadata": {
        "id": "a_BanWPdyUzb",
        "colab_type": "code",
        "colab": {
          "base_uri": "https://localhost:8080/",
          "height": 180
        },
        "outputId": "7b306cf5-d774-43ac-c0a1-ccbdaea82702"
      },
      "source": [
        "# Respuesta\n",
        "estados = datos[(datos.number > 800)].isin(['Junho','Julho','Agosto']) # Estados con más de 800 incendios al mes\n",
        "print(estados.state.unique()) # Solo muestra los estados SIN REPETIR\n"
      ],
      "execution_count": 1,
      "outputs": [
        {
          "output_type": "error",
          "ename": "NameError",
          "evalue": "ignored",
          "traceback": [
            "\u001b[0;31m---------------------------------------------------------------------------\u001b[0m",
            "\u001b[0;31mNameError\u001b[0m                                 Traceback (most recent call last)",
            "\u001b[0;32m<ipython-input-1-e76b88e13b11>\u001b[0m in \u001b[0;36m<module>\u001b[0;34m()\u001b[0m\n\u001b[0;32m----> 1\u001b[0;31m \u001b[0mestados\u001b[0m \u001b[0;34m=\u001b[0m \u001b[0mdatos\u001b[0m\u001b[0;34m[\u001b[0m\u001b[0;34m(\u001b[0m\u001b[0mdatos\u001b[0m\u001b[0;34m.\u001b[0m\u001b[0mnumber\u001b[0m \u001b[0;34m>\u001b[0m \u001b[0;36m800\u001b[0m\u001b[0;34m)\u001b[0m\u001b[0;34m]\u001b[0m\u001b[0;34m.\u001b[0m\u001b[0misin\u001b[0m\u001b[0;34m(\u001b[0m\u001b[0;34m[\u001b[0m\u001b[0;34m'Junho'\u001b[0m\u001b[0;34m,\u001b[0m\u001b[0;34m'Julho'\u001b[0m\u001b[0;34m,\u001b[0m\u001b[0;34m'Agosto'\u001b[0m\u001b[0;34m]\u001b[0m\u001b[0;34m)\u001b[0m \u001b[0;31m# Estados con más de 800 incendios al mes\u001b[0m\u001b[0;34m\u001b[0m\u001b[0;34m\u001b[0m\u001b[0m\n\u001b[0m\u001b[1;32m      2\u001b[0m \u001b[0mprint\u001b[0m\u001b[0;34m(\u001b[0m\u001b[0mestados\u001b[0m\u001b[0;34m.\u001b[0m\u001b[0mstate\u001b[0m\u001b[0;34m.\u001b[0m\u001b[0munique\u001b[0m\u001b[0;34m(\u001b[0m\u001b[0;34m)\u001b[0m\u001b[0;34m)\u001b[0m \u001b[0;31m# Solo muestra los estados SIN REPETIR\u001b[0m\u001b[0;34m\u001b[0m\u001b[0;34m\u001b[0m\u001b[0m\n",
            "\u001b[0;31mNameError\u001b[0m: name 'datos' is not defined"
          ]
        }
      ]
    },
    {
      "cell_type": "markdown",
      "metadata": {
        "id": "7g2miiveyUzd",
        "colab_type": "text"
      },
      "source": [
        "### Ejercicio 10\n",
        "\n",
        "Queremos buscar aquellos estados donde, durante el año _2017_, tuvierón lugar _más de 800_ incendios al mes, a lo largo de cualquier mes del año. Debéis mostrar por pantalla el **estado**, el **mes** (o los meses si la condición se cumple en varios meses) y el **nombre total de incendios** registrados en el mes correspondiente.\n",
        "\n",
        "**Nota**: Además del contenido de los Notebook de teoria, podéis utilizar lo que habéis aprendido haciendo el ejercicio 8.\n",
        "\n"
      ]
    },
    {
      "cell_type": "code",
      "metadata": {
        "id": "WEgFmzCyyUze",
        "colab_type": "code",
        "colab": {
          "base_uri": "https://localhost:8080/",
          "height": 238
        },
        "outputId": "61b31035-1070-4d6d-b9b5-57c83c93c0a3"
      },
      "source": [
        "# Respuesta\n",
        "estadosEnDosMilDiecisiete = datos[(datos.year == 2017)&(datos.number>800)]\n",
        "print(estadosEnDosMilDiecisiete.loc[:,('state','month','number')])\n"
      ],
      "execution_count": 47,
      "outputs": [
        {
          "output_type": "stream",
          "text": [
            "            state     month  number\n",
            "698         Amapa  Novembro   858.0\n",
            "1395        Ceara   Outubro   949.0\n",
            "1415        Ceara  Novembro   812.0\n",
            "2271     Maranhao     Junho   885.0\n",
            "2490  Mato Grosso      Maio   845.0\n",
            "2610  Mato Grosso  Novembro   813.0\n",
            "3725      Paraiba     Julho   891.0\n",
            "3745      Paraiba    Agosto   987.0\n",
            "4920          Rio     Julho   885.0\n",
            "4940          Rio    Agosto   819.0\n",
            "5876    Sao Paulo     Julho   802.0\n",
            "5896    Sao Paulo    Agosto   981.0\n"
          ],
          "name": "stdout"
        }
      ]
    },
    {
      "cell_type": "markdown",
      "metadata": {
        "id": "7gm1FeQGyUzg",
        "colab_type": "text"
      },
      "source": [
        "### Ejercicio 11\n",
        "\n",
        "Cread una copia del dataframe original añadiendo una nueva columna que nos indicará para cada fila el nivel de riesgo de dicha fila. Definimos tres niveles de riesgo:\n",
        "\n",
        "- **high** : si se ha registrado una fila con más de 800 incendios \n",
        "- **medium** : si se ha registrado una fila con un nombre de incendios entre 400 y 800\n",
        "- **low** : si se ha registrado una fila con menos de 400 incendios\n",
        "\n",
        "Mostrad por pantalla aquellas filas que correspondan a un nivel de riesgo alto ( _high_ ).\n",
        "\n",
        "**Nota:** pandas nos ofrece principalmente tres maneras de añadir nuevas columnas a un dataframe existente. Cualquiera de las tres formas son válidas para resolver este ejercicio. Podéis buscar en Internet como añadir columnas a un dataframe de pandas, ya que la documentación presenta los tres métodos de forma separada.\n"
      ]
    },
    {
      "cell_type": "code",
      "metadata": {
        "id": "TsEKbgnhyUzh",
        "colab_type": "code",
        "colab": {
          "base_uri": "https://localhost:8080/",
          "height": 476
        },
        "outputId": "f78d455a-818b-478a-f254-dc337c788671"
      },
      "source": [
        "# Respuesta\n",
        "import numpy as np\n",
        "\n",
        "datosCopia = datos[:]\n",
        "condiciones = [(datosCopia['number']>800), \n",
        "               (datosCopia['number']>=400) & (datosCopia['number']<=800), \n",
        "               (datosCopia['number']<400)]\n",
        "elecciones = np.array(['high', 'medium', 'low'])\n",
        "datosCopia['risk'] = np.select(condiciones, elecciones, default='QUE') # Si ninguna se cumple retorna -1\n",
        "print(datosCopia)\n",
        "\n",
        "print(datosCopia.iloc[1414]) \n"
      ],
      "execution_count": 184,
      "outputs": [
        {
          "output_type": "stream",
          "text": [
            "      year      state     month  number        date risk\n",
            "0     1998       Acre   Janeiro     0.0  1998-01-01  low\n",
            "1     1999       Acre   Janeiro     0.0  1999-01-01  low\n",
            "2     2000       Acre   Janeiro     0.0  2000-01-01  low\n",
            "3     2001       Acre   Janeiro     0.0  2001-01-01  low\n",
            "4     2002       Acre   Janeiro     0.0  2002-01-01  low\n",
            "...    ...        ...       ...     ...         ...  ...\n",
            "6449  2012  Tocantins  Dezembro   128.0  2012-01-01  low\n",
            "6450  2013  Tocantins  Dezembro    85.0  2013-01-01  low\n",
            "6451  2014  Tocantins  Dezembro   223.0  2014-01-01  low\n",
            "6452  2015  Tocantins  Dezembro   373.0  2015-01-01  low\n",
            "6453  2016  Tocantins  Dezembro   119.0  2016-01-01  low\n",
            "\n",
            "[6454 rows x 6 columns]\n",
            "year            2016\n",
            "state          Ceara\n",
            "month       Novembro\n",
            "number         1.328\n",
            "date      2016-01-01\n",
            "risk             low\n",
            "Name: 1414, dtype: object\n"
          ],
          "name": "stdout"
        },
        {
          "output_type": "stream",
          "text": [
            "/usr/local/lib/python3.6/dist-packages/ipykernel_launcher.py:8: SettingWithCopyWarning: \n",
            "A value is trying to be set on a copy of a slice from a DataFrame.\n",
            "Try using .loc[row_indexer,col_indexer] = value instead\n",
            "\n",
            "See the caveats in the documentation: http://pandas.pydata.org/pandas-docs/stable/user_guide/indexing.html#returning-a-view-versus-a-copy\n",
            "  \n"
          ],
          "name": "stderr"
        }
      ]
    },
    {
      "cell_type": "markdown",
      "metadata": {
        "id": "9jLxCxGOyUzm",
        "colab_type": "text"
      },
      "source": [
        "---"
      ]
    }
  ]
}