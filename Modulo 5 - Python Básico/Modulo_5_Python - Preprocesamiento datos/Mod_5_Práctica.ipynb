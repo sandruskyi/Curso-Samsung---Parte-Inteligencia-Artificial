{
  "nbformat": 4,
  "nbformat_minor": 0,
  "metadata": {
    "kernelspec": {
      "display_name": "Python 3",
      "language": "python",
      "name": "python3"
    },
    "language_info": {
      "codemirror_mode": {
        "name": "ipython",
        "version": 3
      },
      "file_extension": ".py",
      "mimetype": "text/x-python",
      "name": "python",
      "nbconvert_exporter": "python",
      "pygments_lexer": "ipython3",
      "version": "3.7.3"
    },
    "pycharm": {
      "stem_cell": {
        "cell_type": "raw",
        "source": [],
        "metadata": {
          "collapsed": false
        }
      }
    },
    "colab": {
      "name": "Mod_5_Práctica.ipynb",
      "provenance": []
    }
  },
  "cells": [
    {
      "cell_type": "markdown",
      "metadata": {
        "id": "I-UnYUDMWTEv",
        "colab_type": "text"
      },
      "source": [
        "# Ejercicio 1\n",
        "\n",
        "Importa el fichero `siri.csv` de la carpeta de datos. En ella encontrarás notas (en un rango de 0 a 10) correspondientes a estudiantes de tres escuelas diferentes para cuatro asignaturas. Una vez importados los datos, realiza las siguientes operaciones:\n",
        "\n",
        "a) Muestra por pantalla una lista de las diferentes escuelas en los datos. En caso no observar tres escuelas por errores tipográficos, mayúsculas y otros, corrige la nomenclatura para homogeneizar una columna con las tres escuelas. \n",
        "\n",
        "\n"
      ]
    },
    {
      "cell_type": "code",
      "metadata": {
        "colab_type": "code",
        "id": "Ib-Kam1ZkZJ9",
        "colab": {}
      },
      "source": [
        "\n",
        "# Respuesta\n"
      ],
      "execution_count": 0,
      "outputs": []
    },
    {
      "cell_type": "markdown",
      "metadata": {
        "id": "5YZwjh54WTEy",
        "colab_type": "text"
      },
      "source": [
        "\n",
        "b) Buscar notas claramente anómalas. En caso de encontrar notas anómalas sustitúyelas por NaN"
      ]
    },
    {
      "cell_type": "code",
      "metadata": {
        "id": "EWPid41hWTEy",
        "colab_type": "code",
        "colab": {}
      },
      "source": [
        "# Respuesta\n"
      ],
      "execution_count": 0,
      "outputs": []
    },
    {
      "cell_type": "markdown",
      "metadata": {
        "id": "Ej2rQBJBWTE2",
        "colab_type": "text"
      },
      "source": [
        "\n",
        "c) Encuentra los valores perdidos. Imputa los valores perdidos por la media de los datos por columna \n",
        "\n",
        "\n"
      ]
    },
    {
      "cell_type": "code",
      "metadata": {
        "id": "Y-TsnXqmWTE3",
        "colab_type": "code",
        "colab": {}
      },
      "source": [
        "# Respuesta\n"
      ],
      "execution_count": 0,
      "outputs": []
    },
    {
      "cell_type": "markdown",
      "metadata": {
        "id": "qToYBVJOWTE5",
        "colab_type": "text"
      },
      "source": [
        "d) Comprueba que ya no hay valores perdidos en el objeto pandas. \n"
      ]
    },
    {
      "cell_type": "code",
      "metadata": {
        "id": "ik55RgPuWTE6",
        "colab_type": "code",
        "colab": {}
      },
      "source": [
        "# Respuesta\n"
      ],
      "execution_count": 0,
      "outputs": []
    },
    {
      "cell_type": "markdown",
      "metadata": {
        "id": "iLX05PyaWTE8",
        "colab_type": "text"
      },
      "source": [
        "## Ejercicio 2\n",
        "\n",
        "\n",
        "En este ejercicio trabajaremos un conjunto de datos que se derivó del censo estadounidense de 1990, utilizando una fila por censo\n",
        "dentro de un grupo de viviendas o bloques. Un grupo de bloques es la unidad geográfica más pequeña para la que La Oficina del Censo de  EE.UU.\n",
        "publica datos de muestra (un grupo de bloques generalmente tiene una población\n",
        "de 600 a 3,000 personas).\n",
        "\n",
        "\n",
        "  - Pace, R. Kelley and Ronald Barry, Sparse Spatial Autoregressions,\n",
        "      Statistics and Probability Letters, 33 (1997) 291-297\n",
        "\n",
        "\n",
        "\n"
      ]
    },
    {
      "cell_type": "markdown",
      "metadata": {
        "id": "kB83PJUgWTE8",
        "colab_type": "text"
      },
      "source": [
        "a) Generar un objeto `pandas` de nombre `housings` con los datos que genera la función `datasets.fetch_california_housing()` dentro de `sklearn`. El objeto debe contener todas las variables del conjunto de datos incluida una columna con los valores de  `Prices` (target). \n",
        "\n"
      ]
    },
    {
      "cell_type": "code",
      "metadata": {
        "id": "rCCdbCLEWTE9",
        "colab_type": "code",
        "colab": {}
      },
      "source": [
        "# Respuesta"
      ],
      "execution_count": 0,
      "outputs": []
    },
    {
      "cell_type": "markdown",
      "metadata": {
        "id": "t0YYhUaNWTE_",
        "colab_type": "text"
      },
      "source": [
        "b) Obtener, los nombres de las variables, el número total de filas y columnas, y comprobar la posible existencia de valores perdidos en los datasets. Obtener la media, desviación típica, valores máximos y mínimos de todas las variables del data frame.\n"
      ]
    },
    {
      "cell_type": "code",
      "metadata": {
        "id": "Ij3l4V97WTE_",
        "colab_type": "code",
        "colab": {}
      },
      "source": [
        "# Respuesta"
      ],
      "execution_count": 0,
      "outputs": []
    },
    {
      "cell_type": "markdown",
      "metadata": {
        "id": "wqTkThDmWTFB",
        "colab_type": "text"
      },
      "source": [
        "c) Calcula la correlación de la variable `Prices` con el resto de variables. Ordena el vector de correlaciones de mayor a menor en valor absoluto. ¿Qué variable aparece con más correlación con los precios? Interpreta los resultados.\n",
        "\n"
      ]
    },
    {
      "cell_type": "code",
      "metadata": {
        "id": "1k1NtLoOWTFC",
        "colab_type": "code",
        "colab": {}
      },
      "source": [
        "# Respuesta"
      ],
      "execution_count": 0,
      "outputs": []
    },
    {
      "cell_type": "markdown",
      "metadata": {
        "id": "amnUqSLkWTFE",
        "colab_type": "text"
      },
      "source": [
        "## Ejercicio 3"
      ]
    },
    {
      "cell_type": "markdown",
      "metadata": {
        "id": "eOv5xL2kWTFE",
        "colab_type": "text"
      },
      "source": [
        "Con la mismo dataset anterior:\n",
        "\n",
        "\n"
      ]
    },
    {
      "cell_type": "markdown",
      "metadata": {
        "id": "mr_wQivVWTFF",
        "colab_type": "text"
      },
      "source": [
        "a) Con cada una de las variables `Latitude` y `Longitude`, crea dos variables discretizadas con 10 segmentos, de forma que:\n",
        "\n",
        "- en las primeras cada intervalo contenga el mísmo número de muestras (equidensidad por segmento) en (`qLat`, `qLon`) \n",
        "- en las segundas cada intervalo tengan la misma longitud de intervalo (equidistancia por segmento) en (`sLat`,`sLon`) \n"
      ]
    },
    {
      "cell_type": "code",
      "metadata": {
        "id": "RtMapObMWTFF",
        "colab_type": "code",
        "colab": {}
      },
      "source": [
        "# Respuesta"
      ],
      "execution_count": 0,
      "outputs": []
    },
    {
      "cell_type": "markdown",
      "metadata": {
        "id": "2AjIJJXiWTFH",
        "colab_type": "text"
      },
      "source": [
        "b) Observa la distribución en las variables discretizadas calculando el número de muestras dentro de cada intérvalo. Podéis mirar el método de pandas .value_counts() para contar valores de cada grupo. \n"
      ]
    },
    {
      "cell_type": "code",
      "metadata": {
        "id": "NgKP1F4nWTFI",
        "colab_type": "code",
        "colab": {}
      },
      "source": [
        "# Respuesta"
      ],
      "execution_count": 0,
      "outputs": []
    },
    {
      "cell_type": "markdown",
      "metadata": {
        "id": "mBvA1tGqWTFK",
        "colab_type": "text"
      },
      "source": [
        "c) Muestra\n",
        "\n",
        "- los precios promedio por cada segmento de Latitud (sLat)\n",
        "\n",
        "- los precios promedio por cada segmento de Longitud (sLon)\n",
        "\n"
      ]
    },
    {
      "cell_type": "code",
      "metadata": {
        "id": "B5WennARWTFK",
        "colab_type": "code",
        "colab": {}
      },
      "source": [
        "# Respuesta"
      ],
      "execution_count": 0,
      "outputs": []
    },
    {
      "cell_type": "markdown",
      "metadata": {
        "id": "zWCmfCeGWTFM",
        "colab_type": "text"
      },
      "source": [
        "d) Calcula y muestra la media y la desviación típica para todas las variables para cada combinación de Latitud y Longitud en ambos casos (equidensidad por segmento, equidistancia por segmento). \n",
        "Observación: quita las filas que contengan algún NaN del dataframe resultante. \n"
      ]
    },
    {
      "cell_type": "code",
      "metadata": {
        "id": "CYmGN47qWTFM",
        "colab_type": "code",
        "colab": {}
      },
      "source": [
        "# Respuesta"
      ],
      "execution_count": 0,
      "outputs": []
    },
    {
      "cell_type": "markdown",
      "metadata": {
        "id": "158nKiiElrs8",
        "colab_type": "text"
      },
      "source": [
        ""
      ]
    },
    {
      "cell_type": "markdown",
      "metadata": {
        "id": "mBrfX9JPWTFO",
        "colab_type": "text"
      },
      "source": [
        "## Ejercicio 4\n",
        "\n",
        "### Estandarización de variables.\n",
        "\n",
        "Importa el dataset `iris` de `sklearn`. Almacena este dataset como un objeto `pandas`, con los correpondientres nombres de variables. \n",
        "\n",
        "Llamamos tipificar una variable al proceso de convertirla en una Normal Estándar $N(\\mu=0,\\sigma =1)$.\n",
        "Busca en `sklearn.preprocessing` un método que te permita tipificar cada variable numérica del objeto pandas de `iris` de forma que:\n",
        "\n",
        "- El valor medio de cada columna sea 0\n",
        "- La desviación típica de cada columna sea 1\n",
        "\n",
        "a) Aplica el método para crear un nuevo dataframne `iris_typ` que cumpla esas condiciones.  Comprueba que la tipificación es correcta.\n"
      ]
    },
    {
      "cell_type": "code",
      "metadata": {
        "id": "CkptWTkRWTFP",
        "colab_type": "code",
        "colab": {}
      },
      "source": [
        "# Respuesta"
      ],
      "execution_count": 0,
      "outputs": []
    },
    {
      "cell_type": "markdown",
      "metadata": {
        "id": "R86pYzQQWTFR",
        "colab_type": "text"
      },
      "source": [
        "b) Busca y aplica un segundo mecanismo de normalización de forma que:\n",
        "\n",
        "- el mínimo de la variable sea 0, y \n",
        "- el máximo de cada variable sea 1 \n",
        "\n",
        "Comprueba que la normalizacion es correcta\n"
      ]
    },
    {
      "cell_type": "code",
      "metadata": {
        "id": "J5rlbH5UWTFR",
        "colab_type": "code",
        "colab": {}
      },
      "source": [
        "# Respuesta"
      ],
      "execution_count": 0,
      "outputs": []
    },
    {
      "cell_type": "markdown",
      "metadata": {
        "id": "BOUZ__nBWTFU",
        "colab_type": "text"
      },
      "source": [
        "### Ejercicio 5\n",
        "\n",
        "\n",
        "La Oficina de Estadísticas de Transporte del Departamento de Transporte de los Estados Unidos (DOT) rastrea el rendimiento en término de puntualidad de los vuelos en EE.UU. operados por grandes compañías aéreas. \n",
        "\n",
        "La información resumida sobre el número de vuelos puntuales, retrasados, cancelados y desviados se publica en el Informe mensual del consumidor de viajes aéreos del DOT y en este conjunto de datos de retrasos y cancelaciones de vuelos de 2015. Encontrarás una muestra de estos datos en el fichero `vuelos.csv` en la carpeta de datos. \n",
        "\n",
        "Importa el fichero de vuelos. Imputa los valores perdidos con el método KNNImputer con los valores por defecto.\n",
        "\n",
        "Calcula y muestra la matriz de correlación de las siguientes variables a partir de la matriz imputada. \n",
        "\n",
        "- `ARRIVAL_DELAY`\n",
        "- `DIVERTED`\n",
        "- `CANCELLED`\t\n",
        "- `AIR_SYSTEM_DELAY`\n",
        "- `SECURITY_DELAY`\n",
        "- `AIRLINE_DELAY`\n",
        "- `LATE_AIRCRAFT_DELAY`\n",
        "- `WEATHER_DELAY`\n",
        "\n",
        "Interpreta el resultado\n"
      ]
    },
    {
      "cell_type": "code",
      "metadata": {
        "id": "9FLXUHsoWTFV",
        "colab_type": "code",
        "colab": {}
      },
      "source": [
        "# Respuesta"
      ],
      "execution_count": 0,
      "outputs": []
    }
  ]
}